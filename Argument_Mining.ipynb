{
  "nbformat": 4,
  "nbformat_minor": 0,
  "metadata": {
    "colab": {
      "name": "Argument Mining",
      "provenance": [],
      "toc_visible": true,
      "machine_shape": "hm",
      "mount_file_id": "1V3tT7K7iKoNOOUU_hbKiDCFL9WkaAVuH",
      "authorship_tag": "ABX9TyPv89N+yp0sYZ1nzC+e6tsU",
      "include_colab_link": true
    },
    "kernelspec": {
      "name": "python3",
      "display_name": "Python 3"
    },
    "accelerator": "GPU"
  },
  "cells": [
    {
      "cell_type": "markdown",
      "metadata": {
        "id": "view-in-github",
        "colab_type": "text"
      },
      "source": [
        "<a href=\"https://colab.research.google.com/github/Charles-Scott-Green/Argument-mining/blob/master/Argument_Mining.ipynb\" target=\"_parent\"><img src=\"https://colab.research.google.com/assets/colab-badge.svg\" alt=\"Open In Colab\"/></a>"
      ]
    },
    {
      "cell_type": "markdown",
      "metadata": {
        "id": "0BPs-5pvvui-",
        "colab_type": "text"
      },
      "source": [
        "# Argument Mining - Context Dependent Claims\n",
        "\n",
        "\n",
        "<strong>\"I have heard you  hold the world record in debate competition wins agains humans, but I suspect you have never debated a machine.  Welcome to the future.\"           --IBM Project Debater (aka Miss Debater)</strong>\n",
        "\n",
        "While Natural Language Processing has been widely studied over several years, IBM Watson's Project Debater demonstrated a big step in the realm of Artificial Intelligence.  The potential applications of such a project are vast.  Even elements of this project have very useful implementations that, while not obvious, are worth consideration.\n",
        "\n",
        "Many different elements went into IBM's robust project, but Argument Mining is of particular interest.  This project is an attempt to design and implement an Argument Mining work flow.\n"
      ]
    },
    {
      "cell_type": "code",
      "metadata": {
        "id": "IVNiLVMYlIiw",
        "colab_type": "code",
        "colab": {}
      },
      "source": [
        ""
      ],
      "execution_count": 0,
      "outputs": []
    },
    {
      "cell_type": "markdown",
      "metadata": {
        "id": "2DOk6RHVvpwN",
        "colab_type": "text"
      },
      "source": [
        "## Downloads"
      ]
    },
    {
      "cell_type": "code",
      "metadata": {
        "id": "D6kKdZxU2ONN",
        "colab_type": "code",
        "outputId": "68c6a7e8-b257-4144-e061-73c9c98129c5",
        "colab": {
          "base_uri": "https://localhost:8080/",
          "height": 85
        }
      },
      "source": [
        "!python -m spacy download en_core_web_lg --quiet"
      ],
      "execution_count": 0,
      "outputs": [
        {
          "output_type": "stream",
          "text": [
            "\u001b[K     |████████████████████████████████| 826.9MB 62.8MB/s \n",
            "\u001b[?25h  Building wheel for en-core-web-lg (setup.py) ... \u001b[?25l\u001b[?25hdone\n",
            "\u001b[38;5;2m✔ Download and installation successful\u001b[0m\n",
            "You can now load the model via spacy.load('en_core_web_lg')\n"
          ],
          "name": "stdout"
        }
      ]
    },
    {
      "cell_type": "code",
      "metadata": {
        "id": "yhs2wfKqLhCW",
        "colab_type": "code",
        "outputId": "f47be3b9-2fae-4746-d08f-5469281a4bd0",
        "colab": {
          "base_uri": "https://localhost:8080/",
          "height": 122
        }
      },
      "source": [
        "!pip install vaderSentiment"
      ],
      "execution_count": 0,
      "outputs": [
        {
          "output_type": "stream",
          "text": [
            "Collecting vaderSentiment\n",
            "\u001b[?25l  Downloading https://files.pythonhosted.org/packages/86/9e/c53e1fc61aac5ee490a6ac5e21b1ac04e55a7c2aba647bb8411c9aadf24e/vaderSentiment-3.2.1-py2.py3-none-any.whl (125kB)\n",
            "\r\u001b[K     |██▋                             | 10kB 18.7MB/s eta 0:00:01\r\u001b[K     |█████▏                          | 20kB 2.9MB/s eta 0:00:01\r\u001b[K     |███████▉                        | 30kB 3.4MB/s eta 0:00:01\r\u001b[K     |██████████▍                     | 40kB 3.1MB/s eta 0:00:01\r\u001b[K     |█████████████                   | 51kB 3.5MB/s eta 0:00:01\r\u001b[K     |███████████████▋                | 61kB 4.1MB/s eta 0:00:01\r\u001b[K     |██████████████████▎             | 71kB 4.2MB/s eta 0:00:01\r\u001b[K     |████████████████████▉           | 81kB 4.1MB/s eta 0:00:01\r\u001b[K     |███████████████████████▍        | 92kB 4.6MB/s eta 0:00:01\r\u001b[K     |██████████████████████████      | 102kB 4.8MB/s eta 0:00:01\r\u001b[K     |████████████████████████████▋   | 112kB 4.8MB/s eta 0:00:01\r\u001b[K     |███████████████████████████████▎| 122kB 4.8MB/s eta 0:00:01\r\u001b[K     |████████████████████████████████| 133kB 4.8MB/s \n",
            "\u001b[?25hInstalling collected packages: vaderSentiment\n",
            "Successfully installed vaderSentiment-3.2.1\n"
          ],
          "name": "stdout"
        }
      ]
    },
    {
      "cell_type": "code",
      "metadata": {
        "id": "lRmqarKsMknz",
        "colab_type": "code",
        "outputId": "fdd01907-40ac-4dc8-b419-bdefc6083121",
        "colab": {
          "base_uri": "https://localhost:8080/",
          "height": 377
        }
      },
      "source": [
        "!pip install spacy-wordnet"
      ],
      "execution_count": 0,
      "outputs": [
        {
          "output_type": "stream",
          "text": [
            "Collecting spacy-wordnet\n",
            "\u001b[?25l  Downloading https://files.pythonhosted.org/packages/f7/f2/4d8070df0f7a7a9eeed74eb7e9ce3cf41349eb5e06b1e088de9eeca630e2/spacy-wordnet-0.0.4.tar.gz (648kB)\n",
            "\u001b[K     |████████████████████████████████| 655kB 5.0MB/s \n",
            "\u001b[?25hCollecting nltk<3.4,>=3.3\n",
            "\u001b[?25l  Downloading https://files.pythonhosted.org/packages/50/09/3b1755d528ad9156ee7243d52aa5cd2b809ef053a0f31b53d92853dd653a/nltk-3.3.0.zip (1.4MB)\n",
            "\u001b[K     |████████████████████████████████| 1.4MB 33.5MB/s \n",
            "\u001b[?25hRequirement already satisfied: six in /usr/local/lib/python3.6/dist-packages (from nltk<3.4,>=3.3->spacy-wordnet) (1.12.0)\n",
            "Building wheels for collected packages: spacy-wordnet, nltk\n",
            "  Building wheel for spacy-wordnet (setup.py) ... \u001b[?25l\u001b[?25hdone\n",
            "  Created wheel for spacy-wordnet: filename=spacy_wordnet-0.0.4-py2.py3-none-any.whl size=650292 sha256=be6a35c1c91a4d5b82b832f04c33ce21c750725aeea429f69e1b592f55fc5d8c\n",
            "  Stored in directory: /root/.cache/pip/wheels/25/93/1d/c86db913cd146fc9ddb26d10f56579c5d58a3e00bc8f96a3a6\n",
            "  Building wheel for nltk (setup.py) ... \u001b[?25l\u001b[?25hdone\n",
            "  Created wheel for nltk: filename=nltk-3.3-cp36-none-any.whl size=1394472 sha256=a14940cc76e879e2a1dbe83921cfbd991be203a519047b19906a3b9ec070093d\n",
            "  Stored in directory: /root/.cache/pip/wheels/d1/ab/40/3bceea46922767e42986aef7606a600538ca80de6062dc266c\n",
            "Successfully built spacy-wordnet nltk\n",
            "Installing collected packages: nltk, spacy-wordnet\n",
            "  Found existing installation: nltk 3.2.5\n",
            "    Uninstalling nltk-3.2.5:\n",
            "      Successfully uninstalled nltk-3.2.5\n",
            "Successfully installed nltk-3.3 spacy-wordnet-0.0.4\n"
          ],
          "name": "stdout"
        }
      ]
    },
    {
      "cell_type": "markdown",
      "metadata": {
        "id": "RhEfzrnxNMrc",
        "colab_type": "text"
      },
      "source": [
        "## Import Libraries and initialize settings"
      ]
    },
    {
      "cell_type": "code",
      "metadata": {
        "colab_type": "code",
        "id": "GSYnqJzHSejM",
        "colab": {}
      },
      "source": [
        "import pandas as pd\n",
        "import numpy as np\n",
        "import matplotlib.pyplot as plt\n",
        "import seaborn as sns\n",
        "\n",
        "sns.set()"
      ],
      "execution_count": 0,
      "outputs": []
    },
    {
      "cell_type": "code",
      "metadata": {
        "id": "Yl6yZVn_kZhF",
        "colab_type": "code",
        "colab": {}
      },
      "source": [
        "import re\n",
        "import string\n",
        "import math\n",
        "from tqdm import tqdm"
      ],
      "execution_count": 0,
      "outputs": []
    },
    {
      "cell_type": "code",
      "metadata": {
        "id": "lUJVBAVoPVlF",
        "colab_type": "code",
        "colab": {}
      },
      "source": [
        "import nltk\n",
        "from nltk import pos_tag\n",
        "from nltk.corpus import wordnet as wn\n",
        "from nltk.tokenize import sent_tokenize, word_tokenize\n",
        "from pprint import pprint\n",
        "from nltk.tokenize.punkt import PunktSentenceTokenizer, PunktTrainer"
      ],
      "execution_count": 0,
      "outputs": []
    },
    {
      "cell_type": "code",
      "metadata": {
        "id": "A3eRocMNq8MK",
        "colab_type": "code",
        "outputId": "5fb8f21c-614a-486d-d1c4-32d09f897df5",
        "colab": {
          "base_uri": "https://localhost:8080/",
          "height": 204
        }
      },
      "source": [
        "import nltk\n",
        "nltk.download('punkt')\n",
        "nltk.download('wordnet')\n",
        "nltk.download('averaged_perceptron_tagger')\n",
        "nltk.download('omw')"
      ],
      "execution_count": 0,
      "outputs": [
        {
          "output_type": "stream",
          "text": [
            "[nltk_data] Downloading package punkt to /root/nltk_data...\n",
            "[nltk_data]   Package punkt is already up-to-date!\n",
            "[nltk_data] Downloading package wordnet to /root/nltk_data...\n",
            "[nltk_data]   Package wordnet is already up-to-date!\n",
            "[nltk_data] Downloading package averaged_perceptron_tagger to\n",
            "[nltk_data]     /root/nltk_data...\n",
            "[nltk_data]   Package averaged_perceptron_tagger is already up-to-\n",
            "[nltk_data]       date!\n",
            "[nltk_data] Downloading package omw to /root/nltk_data...\n",
            "[nltk_data]   Package omw is already up-to-date!\n"
          ],
          "name": "stdout"
        },
        {
          "output_type": "execute_result",
          "data": {
            "text/plain": [
              "True"
            ]
          },
          "metadata": {
            "tags": []
          },
          "execution_count": 4
        }
      ]
    },
    {
      "cell_type": "code",
      "metadata": {
        "id": "6HiWGQu21GJB",
        "colab_type": "code",
        "colab": {}
      },
      "source": [
        "import spacy\n",
        "from spacy.matcher import Matcher \n",
        "from spacy.tokens import Span \n",
        "from spacy import displacy \n",
        "from spacy.lang.en.stop_words import STOP_WORDS\n",
        "from spacy_wordnet.wordnet_annotator import WordnetAnnotator\n",
        "\n",
        "nlp = spacy.load(\"en_core_web_lg\")\n",
        "nlp.add_pipe(WordnetAnnotator(nlp.lang), after='tagger')"
      ],
      "execution_count": 0,
      "outputs": []
    },
    {
      "cell_type": "code",
      "metadata": {
        "colab_type": "code",
        "id": "Io5DnzmbSejc",
        "colab": {}
      },
      "source": [
        "import warnings\n",
        "from vaderSentiment.vaderSentiment import SentimentIntensityAnalyzer\n",
        "warnings.filterwarnings('ignore')"
      ],
      "execution_count": 0,
      "outputs": []
    },
    {
      "cell_type": "code",
      "metadata": {
        "colab_type": "code",
        "id": "AL_RMi-vSeje",
        "colab": {}
      },
      "source": [
        "from sklearn.model_selection import train_test_split as tts \n",
        "from sklearn.ensemble import RandomForestClassifier, GradientBoostingClassifier, VotingClassifier\n",
        "from sklearn.linear_model import LogisticRegression, LogisticRegressionCV\n",
        "from sklearn.model_selection import GridSearchCV, cross_val_score\n",
        "from sklearn.metrics import confusion_matrix, recall_score, precision_score\n",
        "from sklearn.preprocessing import StandardScaler\n",
        "\n",
        "import lightgbm as lgb\n",
        "\n",
        "from imblearn.over_sampling import SMOTE"
      ],
      "execution_count": 0,
      "outputs": []
    },
    {
      "cell_type": "code",
      "metadata": {
        "id": "XTJpPRQd4_BZ",
        "colab_type": "code",
        "colab": {}
      },
      "source": [
        "from patsy import dmatrices\n",
        "import statsmodels.api as sm\n",
        "from statsmodels.stats.outliers_influence import variance_inflation_factor\n",
        "\n",
        "import pickle"
      ],
      "execution_count": 0,
      "outputs": []
    },
    {
      "cell_type": "markdown",
      "metadata": {
        "id": "2pO-RYWArLwR",
        "colab_type": "text"
      },
      "source": [
        "## Define Functions"
      ]
    },
    {
      "cell_type": "code",
      "metadata": {
        "id": "w6-oNHlwo1l1",
        "colab_type": "code",
        "colab": {}
      },
      "source": [
        "def get_target_data(path):\n",
        "    df = pd.read_csv(path)\n",
        "    df['cdc_present'] = (df['cdc'] != '---').astype(int)\n",
        "\n",
        "    return df['cdc_present']"
      ],
      "execution_count": 0,
      "outputs": []
    },
    {
      "cell_type": "code",
      "metadata": {
        "id": "1eXoZatbBZbo",
        "colab_type": "code",
        "colab": {}
      },
      "source": [
        "def topic_domains(topic):\n",
        "    raw_domains = []\n",
        "    common_domains = []\n",
        "\n",
        "    for chunk in nlp(topic).noun_chunks:\n",
        "        rt_nn = chunk.root\n",
        "        raw_domains.append(rt_nn._.wordnet.wordnet_domains())\n",
        "\n",
        "    if len(raw_domains) > 0:\n",
        "        reference = raw_domains[0]\n",
        "    else:\n",
        "        return list(raw_domains)\n",
        "        \n",
        "    for domain in raw_domains:\n",
        "        common_domains = set(reference) & set(domain)\n",
        "        \n",
        "    return list(common_domains)"
      ],
      "execution_count": 0,
      "outputs": []
    },
    {
      "cell_type": "code",
      "metadata": {
        "id": "cEPeCEFS5l_n",
        "colab_type": "code",
        "colab": {}
      },
      "source": [
        "def expanded_sentence_similarity(topic, sentence):\n",
        "    \n",
        "    extended_topic = []\n",
        "    domains = topic_domains(topic)\n",
        "    \n",
        "    if len(domains) < 1:\n",
        "        return nlp(topic).similarity(nlp(sentence))\n",
        "    else:\n",
        "        for token in nlp(topic):\n",
        "            synsets = token._.wordnet.wordnet_synsets_for_domain(domains)\n",
        "            if synsets: \n",
        "                lfs = []\n",
        "                for syn in synsets:\n",
        "                    lfs.extend(syn.lemma_names())\n",
        "                    extended_topic.append('({})'.format('|'.join(set(lfs))))\n",
        "            else:\n",
        "                extended_topic.append(token.text)\n",
        "\n",
        "        tokenized_extended_topic = nlp(' '.join(extended_topic))\n",
        "\n",
        "    return tokenized_extended_topic.similarity(nlp(sentence))            "
      ],
      "execution_count": 0,
      "outputs": []
    },
    {
      "cell_type": "code",
      "metadata": {
        "id": "NyPM1vywDc49",
        "colab_type": "code",
        "colab": {}
      },
      "source": [
        "def subject_match(topic, sentence):\n",
        "    \n",
        "    ntopic = nlp(topic)\n",
        "    scores = []\n",
        "    for chunk in nlp(sentence).noun_chunks:\n",
        "        scores.append(chunk.similarity(ntopic))\n",
        "    \n",
        "    return np.mean(scores)"
      ],
      "execution_count": 0,
      "outputs": []
    },
    {
      "cell_type": "code",
      "metadata": {
        "id": "bciyullS1Qhj",
        "colab_type": "code",
        "colab": {}
      },
      "source": [
        "def subject_match2(topic, sentence):\n",
        "    \n",
        "    ntopic = nlp(topic)\n",
        "    scores = []\n",
        "    for chnk in nlp(sentence).noun_chunks:\n",
        "        for tchnk in ntopic.noun_chunks:\n",
        "            scores.append(chnk.similarity(tchnk))\n",
        "    \n",
        "    return np.mean(scores)"
      ],
      "execution_count": 0,
      "outputs": []
    },
    {
      "cell_type": "code",
      "metadata": {
        "id": "JfPZ9FUAxeAb",
        "colab_type": "code",
        "colab": {}
      },
      "source": [
        "def includes_that(sentence):\n",
        "    check = []\n",
        "    for tok in sentence:\n",
        "        if tok.tag_ == 'IN':\n",
        "            check.append(tok.text)\n",
        "    if 'that' in check:\n",
        "        return 1\n",
        "    else:\n",
        "        return 0"
      ],
      "execution_count": 0,
      "outputs": []
    },
    {
      "cell_type": "code",
      "metadata": {
        "id": "XmneTg_p98Ze",
        "colab_type": "code",
        "colab": {}
      },
      "source": [
        "def patterns(sentence, pattern_type='dep'):\n",
        "    \n",
        "    pat = []\n",
        "    if pattern_type == 'dep':\n",
        "        pat = [tok.dep_ for tok in sentence]\n",
        "    elif pattern_type == 'tag':\n",
        "        pat = [tok.tag_ for tok in sentence]\n",
        "    \n",
        "    return '|'.join(pat)"
      ],
      "execution_count": 0,
      "outputs": []
    },
    {
      "cell_type": "code",
      "metadata": {
        "id": "qBm0yoGxC2dO",
        "colab_type": "code",
        "colab": {}
      },
      "source": [
        "def pos_pattern(sentence):\n",
        "    pat = []\n",
        "    for tok in sentence:\n",
        "        pat.append(tok.pos_)\n",
        "\n",
        "    return '|'.join(pat)\n"
      ],
      "execution_count": 0,
      "outputs": []
    },
    {
      "cell_type": "code",
      "metadata": {
        "id": "8LDjYaZoEynE",
        "colab_type": "code",
        "colab": {}
      },
      "source": [
        "def pattern_in_text(pattern, sentence):\n",
        "    text_pattern = pos_pattern(sentence)\n",
        "\n",
        "    if pattern in text_pattern:\n",
        "        return 1\n",
        "    else:\n",
        "        return 0"
      ],
      "execution_count": 0,
      "outputs": []
    },
    {
      "cell_type": "code",
      "metadata": {
        "id": "WsALWpSqU57G",
        "colab_type": "code",
        "colab": {}
      },
      "source": [
        "def infinitive_verb_present(sentence):\n",
        "    text_pattern = pos_pattern(sentence)\n",
        "    infinitive_pattern = 'PART|VERB'\n",
        "\n",
        "    if infinitive_pattern in text_pattern:\n",
        "        return 1\n",
        "    else:\n",
        "        return 0\n"
      ],
      "execution_count": 0,
      "outputs": []
    },
    {
      "cell_type": "code",
      "metadata": {
        "id": "aNQdINpkDV4h",
        "colab_type": "code",
        "colab": {}
      },
      "source": [
        "def sentiment_subjectivity(sentence, score_type='sentiment'):\n",
        "    analyzer = SentimentIntensityAnalyzer()\n",
        "\n",
        "    if score_type == 'sentiment':\n",
        "        pos = analyzer.polarity_scores(sentence)['pos']\n",
        "        neg = analyzer.polarity_scores(sentence)['neg']\n",
        "        return pos/neg\n",
        "    \n",
        "    else:\n",
        "        return analyzer.polarity_scores(sentence)['compound']"
      ],
      "execution_count": 0,
      "outputs": []
    },
    {
      "cell_type": "code",
      "metadata": {
        "id": "GTmm35Dc1gTn",
        "colab_type": "code",
        "colab": {}
      },
      "source": [
        "def is_sentence(clause):\n",
        "    nn = 2\n",
        "    vb = 1\n",
        "    cls = nlp(clause)\n",
        "    for tok in cls:\n",
        "        if tok.pos_ in ['NOUN', 'PROPN', 'PRON']:\n",
        "            nn -= 1\n",
        "        elif tok.pos_ in ['VERB']:\n",
        "            vb -= 1\n",
        "    if nn < 1 and vb < 1:\n",
        "        return True\n",
        "    else:\n",
        "        return False"
      ],
      "execution_count": 0,
      "outputs": []
    },
    {
      "cell_type": "code",
      "metadata": {
        "id": "MBlrGISWuJIt",
        "colab_type": "code",
        "colab": {}
      },
      "source": [
        "def get_clauses(sentence):\n",
        "    \"\"\"Sentence type is a string.\"\"\"\n",
        "    subtree_phrases = []\n",
        "    \n",
        "    for tok in nlp(sentence):\n",
        "        if tok.head.pos_ == 'VERB':\n",
        "            if len([tok for tok in tok.subtree]) >= 3:\n",
        "                subtree_prhase = ''.join(tok.text_with_ws for tok in tok.subtree)\n",
        "                if subtree_prhase != sentence:\n",
        "                    if is_sentence(subtree_prhase):\n",
        "                        splits = subtree_prhase.split(',')\n",
        "                        if len(splits) == 1:\n",
        "                            subtree_phrases.append(subtree_prhase)\n",
        "                        else:\n",
        "                            for split in splits:\n",
        "                                if is_sentence(split):\n",
        "                                    if split not in subtree_phrases:\n",
        "                                        subtree_phrases.append(split) \n",
        "    \n",
        "    raw_clauses = []\n",
        "    clauses = []\n",
        "\n",
        "    for phrase in subtree_phrases:\n",
        "        tok_phrase = nlp(phrase)\n",
        "        for chunk in tok_phrase.noun_chunks:\n",
        "            span = tok_phrase[chunk.root.head.left_edge.i:chunk.root.head.right_edge.i+1]\n",
        "            if span[0].pos_ in ['DET', 'ADP']:\n",
        "                if span[1:].text not in raw_clauses:\n",
        "                    if is_sentence(span[1:].text):\n",
        "                        raw_clauses.append(span[1:].text)\n",
        "            elif span.text not in raw_clauses:\n",
        "                if is_sentence(span.text):\n",
        "                    raw_clauses.append(span.text)\n",
        "    \n",
        "    if len(raw_clauses) == 0:\n",
        "        clauses.append(sentence)\n",
        "    else:\n",
        "        for clause in raw_clauses:\n",
        "            dup_checks = [(clause in check_clause) for check_clause in raw_clauses]\n",
        "            if sum(dup_checks) == 1:\n",
        "                clauses.append(clause)\n",
        "                \n",
        "    return clauses"
      ],
      "execution_count": 0,
      "outputs": []
    },
    {
      "cell_type": "code",
      "metadata": {
        "id": "Ud9h4KuFNEyP",
        "colab_type": "code",
        "colab": {}
      },
      "source": [
        "def conf_matrix(y_true, y_predict):\n",
        "    \n",
        "    from sklearn.metrics import confusion_matrix\n",
        "    \n",
        "    data = confusion_matrix(y_true, y_predict)\n",
        "    index = ['Actual_0', 'Actual_1']\n",
        "    columns = ['Predicted_0', 'Predicted_1']\n",
        "    \n",
        "    return pd.DataFrame(data, index, columns)"
      ],
      "execution_count": 0,
      "outputs": []
    },
    {
      "cell_type": "code",
      "metadata": {
        "id": "ioFrxxxPT_Xm",
        "colab_type": "code",
        "colab": {}
      },
      "source": [
        "def get_target_data(path):\n",
        "    df = pd.read_csv(path)\n",
        "    df['cdc_present'] = (df['cdc'] != '---').astype(int)\n",
        "\n",
        "    return df['cdc_present']"
      ],
      "execution_count": 0,
      "outputs": []
    },
    {
      "cell_type": "code",
      "metadata": {
        "id": "9bJkmtsrXjJP",
        "colab_type": "code",
        "colab": {}
      },
      "source": [
        "def count_sentiment_words(sentence):\n",
        "    analyzer = SentimentIntensityAnalyzer()\n",
        "    wd_cnt = 0\n",
        "\n",
        "    for tok in nlp(sentence):\n",
        "        if analyzer.polarity_scores(tok.text)['compound'] != 0:\n",
        "            wd_cnt += 1\n",
        "\n",
        "    return wd_cnt"
      ],
      "execution_count": 0,
      "outputs": []
    },
    {
      "cell_type": "code",
      "metadata": {
        "id": "BZObCjI4Xi8X",
        "colab_type": "code",
        "colab": {}
      },
      "source": [
        "def count_syllables(sentence):\n",
        "    \"\"\"Given a string, calculates and returns the number of syllables of the word.\"\"\"\n",
        "    import string\n",
        "    \n",
        "    word_list = sentence.translate(string.punctuation).split()\n",
        "    vowels = \"aeiouy\"\n",
        "    tally = 0\n",
        "    \n",
        "    for word in word_list:\n",
        "        word = word.lower()\n",
        "        vowels = \"aeiouy\"\n",
        "        count = 0\n",
        "        \n",
        "        if word[0] in vowels:\n",
        "            count += 1\n",
        "\n",
        "        for i in range(1, len(word)):\n",
        "            if word[i] in vowels and word[i - 1] not in vowels:\n",
        "                count += 1\n",
        "\n",
        "        if word.endswith('e'):\n",
        "            count -= 1\n",
        "\n",
        "        if count == 0:\n",
        "            count += 1\n",
        "    \n",
        "        tally += count\n",
        "    \n",
        "    return tally"
      ],
      "execution_count": 0,
      "outputs": []
    },
    {
      "cell_type": "code",
      "metadata": {
        "id": "3JB4e6FfXivO",
        "colab_type": "code",
        "colab": {}
      },
      "source": [
        "def punct_marks(sentence):\n",
        "    \"\"\"Given a sentence, returns count and/or list of punctiation marks\"\"\"\n",
        "    \n",
        "    pm = []\n",
        "    \n",
        "    for tok in nlp(sentence):\n",
        "        if tok.pos_ == 'PUNCT':\n",
        "            pm.append(tok)\n",
        "    return len(pm)"
      ],
      "execution_count": 0,
      "outputs": []
    },
    {
      "cell_type": "code",
      "metadata": {
        "id": "KGQyY_WIXimq",
        "colab_type": "code",
        "colab": {}
      },
      "source": [
        "def noun_counts(sentence):\n",
        "    \n",
        "    chnk = []\n",
        "    \n",
        "    for chunk in nlp(sentence).noun_chunks:\n",
        "        chnk.append(chunk)\n",
        "\n",
        "    return len(chnk)"
      ],
      "execution_count": 0,
      "outputs": []
    },
    {
      "cell_type": "code",
      "metadata": {
        "id": "QFxyYhI4Xidd",
        "colab_type": "code",
        "colab": {}
      },
      "source": [
        "def word_count(sentence):\n",
        "    wds = []\n",
        "    for tok in nlp(sentence):\n",
        "        if tok.pos_ != 'PUNCT':\n",
        "            wds.append(tok)\n",
        "    return len(wds)"
      ],
      "execution_count": 0,
      "outputs": []
    },
    {
      "cell_type": "code",
      "metadata": {
        "id": "xx9h2Qo8XiMg",
        "colab_type": "code",
        "colab": {}
      },
      "source": [
        "def phrase_chunks(sentence):\n",
        "    s = []\n",
        "    for tok in nlp(sentence):\n",
        "        if len([tok for tok in tok.subtree]) >=3:\n",
        "            if ''.join(tok.text_with_ws for tok in tok.subtree) != str(sentence):\n",
        "                s.append(''.join(tok.text_with_ws for tok in tok.subtree))\n",
        "    return len(s)"
      ],
      "execution_count": 0,
      "outputs": []
    },
    {
      "cell_type": "code",
      "metadata": {
        "id": "m54lS1DKc-0Z",
        "colab_type": "code",
        "colab": {}
      },
      "source": [
        "def trim_dataframe(df):\n",
        "    cls = [2,3,4,5,6]\n",
        "    grm = [7,8,9,10,11]\n",
        "    stn = [12,13,14,15,16]\n",
        "    cols = ['cdc_present', 'context', \n",
        "            'clause', 'stance']\n",
        "    \n",
        "    ndf = df.copy()\n",
        "    stances = []\n",
        "    clauses = []\n",
        "\n",
        "    for x in df.index:\n",
        "        gr_chk = list(df.iloc[x,grm])\n",
        "        gd_gram = np.nonzero(gr_chk)\n",
        "\n",
        "        if len(gd_gram[0]) == 0:\n",
        "            clauses.append('---') \n",
        "            stances.append(0)\n",
        "        else:\n",
        "            scores = list(abs(df.iloc[x, stn]))\n",
        "            hi_scr = max(abs(df.iloc[x,stn]))\n",
        "            sc_idx = scores.index(hi_scr)\n",
        "            if sc_idx in gd_gram[0]:\n",
        "                clauses.append(df.iloc[x,cls[sc_idx]])\n",
        "                stances.append(df.iloc[x,stn[sc_idx]])\n",
        "            else:\n",
        "                idx = gd_gram[0][0]\n",
        "                clauses.append(nxt_stp.iloc[i,cls[idx]])\n",
        "                stances.append(nxt_stp.iloc[i,stn[idx]])\n",
        "                \n",
        "\n",
        "    ndf['clause'] = clauses\n",
        "    ndf['stance'] = stances\n",
        "    ndf = ndf.loc[ndf['clause'] != '---']\n",
        "    ndf = ndf[cols]\n",
        "    ndf.reset_index(drop=True, inplace=True)\n",
        "\n",
        "    return ndf"
      ],
      "execution_count": 0,
      "outputs": []
    },
    {
      "cell_type": "markdown",
      "metadata": {
        "id": "qosW3-Ks4zEp",
        "colab_type": "text"
      },
      "source": [
        "## Define the Problem\n",
        "\n",
        "The purpose of this project is to provide a proof of concept. \n",
        "\n",
        "<strong>Concept:</strong>\n",
        "\n",
        "* <strong>Background -</strong> \n",
        " * This project is designed with a competitive debater in mind.  \n",
        " * Competitive debate occurs at multiple levels of education.  With the need to balance school work and conducting research for case construction, debaters and coaches often seek research resources in the form of topic handbooks and topic briefs.  These resources are intended to supplement a debater's research.  \n",
        " * A tool that is able to parse articles, extract relevant context claims and, potentially, supporting evidence, would provide value to highly competitive programs and upstart programs trying to focus on learning the skill.\n",
        " * The value of this tool also extends beyond competitive debate to other competitive speech events.  Furthermore, it could develop into a powerful research tool that may collect information for school and scientific research, gathering contextual documentation of legal precedent. \n",
        "\n",
        "* <strong>Scope -</strong>\n",
        " * This project is a first step proof of concept.  Successfully producing a model that will be able to extract Context Dependent claims may aid to establish the workflow necessary for the model to evolve into argument/evidence mining.\n",
        " * This project will be focusing on mining arguments.  Specifically, context dependent claims.\n",
        "\n",
        "* <strong>Context Dependent Claim -</strong>\n",
        " * A context dependent claim is a factual statement that directly affirms/negates a topic.  \n",
        "  * Debaters will have a topic to begin.  This establishes one of the inputs for the model.  It provides both domain and context.\n",
        "  * A context dependent claim can be either a sentence, or an independent clause within a sentence.\n",
        "\n",
        "* <strong>Approach -</strong>\n",
        " * The approach will be based on a sentence by sentence basis.  That said, the process will be similar to a funnel.  \n",
        "   * A number of articles will be collected.\n",
        "   * Articles will be parsed into sentences.\n",
        "   * Sentences will be modeled to find \"candidates\" that may contain CDC's.\n",
        "   * Complex Candidate sentences will be parsed into clauses. Simple candidate sentences will be retained.\n",
        "   * Clauses will be evaluated to determine if they are independent.\n",
        "     * they must possess the minimum requirements of a simple sentence\n",
        "     * Grammar will be evaluated \n",
        "     * Clauses determined to be considered as simple sentences will be retained; others discarded.\n",
        " * A model will be applied to clauses to establish the presence of a CDC.\n",
        " * Models have been trained and a training set has been held back to be used in this workflow."
      ]
    },
    {
      "cell_type": "markdown",
      "metadata": {
        "id": "3VFxBsrymNDp",
        "colab_type": "text"
      },
      "source": [
        "## Load Data\n",
        "\n",
        "Prior to this step, data underwent extensive cleaning and organization.  Due to computational limits, separate notebooks were used to perform specific tasks.  Below are links to notbooks.\n",
        "\n",
        "1. Compiling and Cleaning Data\n",
        "https://colab.research.google.com/drive/1h5Il3Q-VUhJZGqiiX72PKxQiFMGiw20q\n",
        "\n",
        "2. Additional Cleaning and Feature Engineering\n",
        "https://colab.research.google.com/drive/1il9K4mqyysOz--Dtl7n_6gjA7qbomfSY\n",
        "\n",
        "3. Model Selection and Tuning.\n",
        "https://colab.research.google.com/drive/1D-MEwYCTyzvGKPMCt-246rIcb3aVMIch\n",
        "\n",
        "4. Extracting Clauses from Candidate Sentences for additional modeling.\n",
        "https://colab.research.google.com/drive/1m__-m1W8HFNKO2xGq_ypMey7IXdqRU9E\n",
        "\n",
        "5. Model Selection for classifying Clauses\n"
      ]
    },
    {
      "cell_type": "code",
      "metadata": {
        "id": "46-Iw0k9loNM",
        "colab_type": "code",
        "colab": {}
      },
      "source": [
        "# paths to data\n",
        "path1 = '/content/drive/My Drive/Colab Notebooks/Thinkful/Module 34 - Final Capstone/data/CDC Detection/cleaned.csv'\n",
        "path2 = '/content/drive/My Drive/Colab Notebooks/Thinkful/Module 34 - Final Capstone/data/CDC Detection/m1_test_set.csv'\n",
        "path3 = '/content/drive/My Drive/Colab Notebooks/Thinkful/Module 34 - Final Capstone/data/CDC Detection/m2_test_set.csv'\n",
        "\n",
        "# Data loaded is the training set that has been held back.\n",
        "df = pd.read_csv(path1)\n",
        "test_data_1 = pd.read_csv(path2)\n",
        "test_data_2 = pd.read_csv(path3)"
      ],
      "execution_count": 0,
      "outputs": []
    },
    {
      "cell_type": "code",
      "metadata": {
        "id": "prRBcbgWBlj1",
        "colab_type": "code",
        "outputId": "108a0a6d-aac9-447b-8a60-12f22f2661f0",
        "colab": {
          "base_uri": "https://localhost:8080/",
          "height": 34
        }
      },
      "source": [
        "# Cleaned data ready for modeling\n",
        "df.shape, test_data_1.shape, test_data_2.shape"
      ],
      "execution_count": 0,
      "outputs": [
        {
          "output_type": "execute_result",
          "data": {
            "text/plain": [
              "((41999, 21), (10500, 611), (2171, 614))"
            ]
          },
          "metadata": {
            "tags": []
          },
          "execution_count": 37
        }
      ]
    },
    {
      "cell_type": "code",
      "metadata": {
        "id": "5nEg7RR-PxD2",
        "colab_type": "code",
        "colab": {}
      },
      "source": [
        "# Get data to demonstrate \n",
        "df2 = pd.read_csv(path1)"
      ],
      "execution_count": 0,
      "outputs": []
    },
    {
      "cell_type": "code",
      "metadata": {
        "id": "t7SJpURCRKMd",
        "colab_type": "code",
        "outputId": "985e1b0a-22a0-40da-ccc9-db9505b94c30",
        "colab": {
          "base_uri": "https://localhost:8080/",
          "height": 751
        }
      },
      "source": [
        "df.head()"
      ],
      "execution_count": 0,
      "outputs": [
        {
          "output_type": "execute_result",
          "data": {
            "text/html": [
              "<div>\n",
              "<style scoped>\n",
              "    .dataframe tbody tr th:only-of-type {\n",
              "        vertical-align: middle;\n",
              "    }\n",
              "\n",
              "    .dataframe tbody tr th {\n",
              "        vertical-align: top;\n",
              "    }\n",
              "\n",
              "    .dataframe thead th {\n",
              "        text-align: right;\n",
              "    }\n",
              "</style>\n",
              "<table border=\"1\" class=\"dataframe\">\n",
              "  <thead>\n",
              "    <tr style=\"text-align: right;\">\n",
              "      <th></th>\n",
              "      <th>Unnamed: 0</th>\n",
              "      <th>Unnamed: 0.1</th>\n",
              "      <th>text</th>\n",
              "      <th>topic</th>\n",
              "      <th>article</th>\n",
              "      <th>cdc</th>\n",
              "      <th>cdc_present</th>\n",
              "      <th>context</th>\n",
              "      <th>text_words</th>\n",
              "      <th>text_syllables</th>\n",
              "      <th>text_sentiment_words</th>\n",
              "      <th>text_punctuation</th>\n",
              "      <th>text_nouns</th>\n",
              "      <th>text_phrases</th>\n",
              "      <th>sent_rat</th>\n",
              "      <th>clauses</th>\n",
              "      <th>num_clauses</th>\n",
              "      <th>claused_sentence</th>\n",
              "      <th>context_similarity</th>\n",
              "      <th>expanded_similarity</th>\n",
              "      <th>subjectivity_score</th>\n",
              "    </tr>\n",
              "  </thead>\n",
              "  <tbody>\n",
              "    <tr>\n",
              "      <th>0</th>\n",
              "      <td>0</td>\n",
              "      <td>0</td>\n",
              "      <td>Deficit spending is the amount by which a gove...</td>\n",
              "      <td>Europe should weaken its austerity measures to...</td>\n",
              "      <td>Deficit spending</td>\n",
              "      <td>---</td>\n",
              "      <td>False</td>\n",
              "      <td>austerity measures</td>\n",
              "      <td>35</td>\n",
              "      <td>67</td>\n",
              "      <td>3</td>\n",
              "      <td>10</td>\n",
              "      <td>10</td>\n",
              "      <td>12</td>\n",
              "      <td>0.085714</td>\n",
              "      <td>[\" or individual's spending exceeds income ove...</td>\n",
              "      <td>1</td>\n",
              "      <td>or individual's spending exceeds income over ...</td>\n",
              "      <td>0.326836</td>\n",
              "      <td>0.259504</td>\n",
              "      <td>0.0000</td>\n",
              "    </tr>\n",
              "    <tr>\n",
              "      <th>1</th>\n",
              "      <td>1</td>\n",
              "      <td>1</td>\n",
              "      <td>Government deficit spending is a central point...</td>\n",
              "      <td>Europe should weaken its austerity measures to...</td>\n",
              "      <td>Deficit spending</td>\n",
              "      <td>---</td>\n",
              "      <td>False</td>\n",
              "      <td>austerity measures</td>\n",
              "      <td>14</td>\n",
              "      <td>29</td>\n",
              "      <td>1</td>\n",
              "      <td>2</td>\n",
              "      <td>4</td>\n",
              "      <td>5</td>\n",
              "      <td>0.071429</td>\n",
              "      <td>['Government deficit spending is a central poi...</td>\n",
              "      <td>1</td>\n",
              "      <td>Government deficit spending is a central point...</td>\n",
              "      <td>0.373849</td>\n",
              "      <td>0.267986</td>\n",
              "      <td>-0.4019</td>\n",
              "    </tr>\n",
              "    <tr>\n",
              "      <th>2</th>\n",
              "      <td>2</td>\n",
              "      <td>2</td>\n",
              "      <td>Government deficit spending is a central point...</td>\n",
              "      <td>Europe should weaken its austerity measures to...</td>\n",
              "      <td>Deficit spending</td>\n",
              "      <td>---</td>\n",
              "      <td>False</td>\n",
              "      <td>austerity measures</td>\n",
              "      <td>17</td>\n",
              "      <td>37</td>\n",
              "      <td>2</td>\n",
              "      <td>2</td>\n",
              "      <td>6</td>\n",
              "      <td>6</td>\n",
              "      <td>0.117647</td>\n",
              "      <td>['prominent economists holding differing views']</td>\n",
              "      <td>1</td>\n",
              "      <td>prominent economists holding differing views</td>\n",
              "      <td>0.267243</td>\n",
              "      <td>0.106333</td>\n",
              "      <td>0.3182</td>\n",
              "    </tr>\n",
              "    <tr>\n",
              "      <th>3</th>\n",
              "      <td>3</td>\n",
              "      <td>3</td>\n",
              "      <td>The mainstream economics position is that defi...</td>\n",
              "      <td>Europe should weaken its austerity measures to...</td>\n",
              "      <td>Deficit spending</td>\n",
              "      <td>---</td>\n",
              "      <td>False</td>\n",
              "      <td>austerity measures</td>\n",
              "      <td>66</td>\n",
              "      <td>122</td>\n",
              "      <td>7</td>\n",
              "      <td>7</td>\n",
              "      <td>15</td>\n",
              "      <td>22</td>\n",
              "      <td>0.106061</td>\n",
              "      <td>['deficit spending is desirable and necessary ...</td>\n",
              "      <td>4</td>\n",
              "      <td>deficit spending is desirable and necessary as...</td>\n",
              "      <td>0.461772</td>\n",
              "      <td>0.240641</td>\n",
              "      <td>-0.9280</td>\n",
              "    </tr>\n",
              "    <tr>\n",
              "      <th>4</th>\n",
              "      <td>4</td>\n",
              "      <td>4</td>\n",
              "      <td>This is derived from Keynesian economics, and ...</td>\n",
              "      <td>Europe should weaken its austerity measures to...</td>\n",
              "      <td>Deficit spending</td>\n",
              "      <td>---</td>\n",
              "      <td>False</td>\n",
              "      <td>austerity measures</td>\n",
              "      <td>34</td>\n",
              "      <td>64</td>\n",
              "      <td>3</td>\n",
              "      <td>5</td>\n",
              "      <td>6</td>\n",
              "      <td>11</td>\n",
              "      <td>0.088235</td>\n",
              "      <td>['has been the mainstream economics view (in t...</td>\n",
              "      <td>1</td>\n",
              "      <td>has been the mainstream economics view (in the...</td>\n",
              "      <td>0.318571</td>\n",
              "      <td>0.306673</td>\n",
              "      <td>0.3612</td>\n",
              "    </tr>\n",
              "  </tbody>\n",
              "</table>\n",
              "</div>"
            ],
            "text/plain": [
              "   Unnamed: 0  Unnamed: 0.1  ... expanded_similarity subjectivity_score\n",
              "0           0             0  ...            0.259504             0.0000\n",
              "1           1             1  ...            0.267986            -0.4019\n",
              "2           2             2  ...            0.106333             0.3182\n",
              "3           3             3  ...            0.240641            -0.9280\n",
              "4           4             4  ...            0.306673             0.3612\n",
              "\n",
              "[5 rows x 21 columns]"
            ]
          },
          "metadata": {
            "tags": []
          },
          "execution_count": 39
        }
      ]
    },
    {
      "cell_type": "markdown",
      "metadata": {
        "id": "oWi_5KhSPyQK",
        "colab_type": "text"
      },
      "source": [
        "Test data contains over 10 thousand sentences.  The task is to extract the context dependent claims from the sentences."
      ]
    },
    {
      "cell_type": "markdown",
      "metadata": {
        "id": "YeqS0YydzZRz",
        "colab_type": "text"
      },
      "source": [
        "## Explore data"
      ]
    },
    {
      "cell_type": "code",
      "metadata": {
        "id": "zdy525jbbZm8",
        "colab_type": "code",
        "outputId": "e3c17be9-3517-4b47-d1ea-3243164274dc",
        "colab": {
          "base_uri": "https://localhost:8080/",
          "height": 627
        }
      },
      "source": [
        "# Explore target data\n",
        "count_claims = pd.value_counts(df['cdc_present'], sort=True)\n",
        "\n",
        "plt.figure(figsize=(16,10))\n",
        "count_claims.plot(kind='bar', rot=0)\n",
        "\n",
        "plt.title('Claim Counts')\n",
        "plt.xticks(range(2))\n",
        "plt.xlabel('Claims')\n",
        "plt.ylabel('Frequency')\n",
        "\n",
        "plt.show()"
      ],
      "execution_count": 0,
      "outputs": [
        {
          "output_type": "display_data",
          "data": {
            "image/png": "[encoded data removed]",
            "text/plain": [
              "<Figure size 1152x720 with 1 Axes>"
            ]
          },
          "metadata": {
            "tags": []
          }
        }
      ]
    },
    {
      "cell_type": "markdown",
      "metadata": {
        "id": "pxvOtfdNQAKH",
        "colab_type": "text"
      },
      "source": [
        "The first filter of the model is designed to identify candidate sentences (sentences that contain context dependent claims).  The challenge in this task is overcoming a large class imbalance.  One of the elements of evaluation is the ability to reduce the imbalance.  Model steps should be getting rid of large portions of the non-CDC-containg class."
      ]
    },
    {
      "cell_type": "code",
      "metadata": {
        "id": "Jb5gAJa7zeOB",
        "colab_type": "code",
        "colab": {}
      },
      "source": [
        "wc = df.loc[df['cdc_present']==True]\n",
        "nc = df.loc[df['cdc_present']==False]\n"
      ],
      "execution_count": 0,
      "outputs": []
    },
    {
      "cell_type": "code",
      "metadata": {
        "id": "ceTZwVdSzx1E",
        "colab_type": "code",
        "outputId": "6f20a09d-8b93-4d41-de95-1f38d4edd135",
        "colab": {
          "base_uri": "https://localhost:8080/",
          "height": 518
        }
      },
      "source": [
        "plt.figure(figsize=(16,8))\n",
        "sns.distplot(nc['text_words'], label='CDC not present')\n",
        "sns.distplot(wc['text_words'], label='CDC present')\n",
        "plt.title('Distribution of words')\n",
        "plt.legend()\n",
        "plt.show()"
      ],
      "execution_count": 0,
      "outputs": [
        {
          "output_type": "display_data",
          "data": {
            "image/png": "[encoded data removed]",
            "text/plain": [
              "<Figure size 1152x576 with 1 Axes>"
            ]
          },
          "metadata": {
            "tags": []
          }
        }
      ]
    },
    {
      "cell_type": "code",
      "metadata": {
        "id": "tCGgXIw70ilG",
        "colab_type": "code",
        "outputId": "81247b3c-4a63-4f40-e7ac-c110f4454abe",
        "colab": {
          "base_uri": "https://localhost:8080/",
          "height": 518
        }
      },
      "source": [
        "plt.figure(figsize=(16,8))\n",
        "sns.boxenplot('cdc_present','text_words', data=df, hue='cdc_present')\n",
        "plt.title('Number of words in Sentences')\n",
        "\n",
        "plt.show()"
      ],
      "execution_count": 0,
      "outputs": [
        {
          "output_type": "display_data",
          "data": {
            "image/png": "[encoded data removed]",
            "text/plain": [
              "<Figure size 1152x576 with 1 Axes>"
            ]
          },
          "metadata": {
            "tags": []
          }
        }
      ]
    },
    {
      "cell_type": "code",
      "metadata": {
        "id": "GmKpqktD1OVz",
        "colab_type": "code",
        "outputId": "d462c0e6-84a9-454f-dccc-28ea64290ae7",
        "colab": {
          "base_uri": "https://localhost:8080/",
          "height": 518
        }
      },
      "source": [
        "plt.figure(figsize=(16,8))\n",
        "sns.distplot(nc['context_similarity'], label='CDC not present')\n",
        "sns.distplot(wc['context_similarity'], label='CDC present')\n",
        "plt.title('Distribution of context similarity score')\n",
        "plt.legend()\n",
        "plt.show()"
      ],
      "execution_count": 0,
      "outputs": [
        {
          "output_type": "display_data",
          "data": {
            "image/png": "[encoded data removed]",
            "text/plain": [
              "<Figure size 1152x576 with 1 Axes>"
            ]
          },
          "metadata": {
            "tags": []
          }
        }
      ]
    },
    {
      "cell_type": "code",
      "metadata": {
        "id": "UuorSGmx1oUe",
        "colab_type": "code",
        "outputId": "b9a4fd93-da14-4502-dfba-47c3e8d40ed4",
        "colab": {
          "base_uri": "https://localhost:8080/",
          "height": 518
        }
      },
      "source": [
        "plt.figure(figsize=(16,8))\n",
        "sns.boxenplot('cdc_present','context_similarity', data=df, hue='cdc_present')\n",
        "plt.title('Number of words in context similarity')\n",
        "\n",
        "plt.show()"
      ],
      "execution_count": 0,
      "outputs": [
        {
          "output_type": "display_data",
          "data": {
            "image/png": "[encoded data removed]",
            "text/plain": [
              "<Figure size 1152x576 with 1 Axes>"
            ]
          },
          "metadata": {
            "tags": []
          }
        }
      ]
    },
    {
      "cell_type": "code",
      "metadata": {
        "id": "yETsktb21_49",
        "colab_type": "code",
        "outputId": "699e8e6c-a38a-4b58-f23a-b84cb9225be5",
        "colab": {
          "base_uri": "https://localhost:8080/",
          "height": 518
        }
      },
      "source": [
        "plt.figure(figsize=(16,8))\n",
        "sns.boxenplot('cdc_present','text_sentiment_words', data=df, hue='cdc_present')\n",
        "plt.title('Number of sentiment words in Sentences')\n",
        "\n",
        "plt.show()"
      ],
      "execution_count": 0,
      "outputs": [
        {
          "output_type": "display_data",
          "data": {
            "image/png": "[encoded data removed]",
            "text/plain": [
              "<Figure size 1152x576 with 1 Axes>"
            ]
          },
          "metadata": {
            "tags": []
          }
        }
      ]
    },
    {
      "cell_type": "code",
      "metadata": {
        "id": "RmhoF8Zm2Oc2",
        "colab_type": "code",
        "outputId": "4e8dcc10-d8af-4d4c-bb13-2ebd9db6803f",
        "colab": {
          "base_uri": "https://localhost:8080/",
          "height": 518
        }
      },
      "source": [
        "plt.figure(figsize=(16,8))\n",
        "sns.boxenplot('cdc_present','subjectivity_score', data=df, hue='cdc_present')\n",
        "plt.title('Number of words in Sentences')\n",
        "\n",
        "plt.show()"
      ],
      "execution_count": 0,
      "outputs": [
        {
          "output_type": "display_data",
          "data": {
            "image/png": "[encoded data removed]",
            "text/plain": [
              "<Figure size 1152x576 with 1 Axes>"
            ]
          },
          "metadata": {
            "tags": []
          }
        }
      ]
    },
    {
      "cell_type": "markdown",
      "metadata": {
        "id": "VFgXsCvm2Mhz",
        "colab_type": "text"
      },
      "source": [
        "Overall, there do not appear to be any distinguishing differences in sentence statistics.  Mean context similarity is higher when CDC's are present.  This is expected, however, the difference is small.  Perhaps the model will discover patterns that we do not easily see."
      ]
    },
    {
      "cell_type": "markdown",
      "metadata": {
        "id": "O9kJyQzjnBtS",
        "colab_type": "text"
      },
      "source": [
        "## Preprocessing\n",
        "\n",
        "Data has cleaned and saved.  For demonstration purposes, the holdout set will be fed to trained models.  Therefore, the preprocessing step is simply loading the data and dividing features from the target."
      ]
    },
    {
      "cell_type": "code",
      "metadata": {
        "id": "iMTLj7cidq-L",
        "colab_type": "code",
        "outputId": "52a20623-ffc3-4784-efd7-5ee6e893b427",
        "colab": {
          "base_uri": "https://localhost:8080/",
          "height": 270
        }
      },
      "source": [
        "test_data_1.head()"
      ],
      "execution_count": 0,
      "outputs": [
        {
          "output_type": "execute_result",
          "data": {
            "text/html": [
              "<div>\n",
              "<style scoped>\n",
              "    .dataframe tbody tr th:only-of-type {\n",
              "        vertical-align: middle;\n",
              "    }\n",
              "\n",
              "    .dataframe tbody tr th {\n",
              "        vertical-align: top;\n",
              "    }\n",
              "\n",
              "    .dataframe thead th {\n",
              "        text-align: right;\n",
              "    }\n",
              "</style>\n",
              "<table border=\"1\" class=\"dataframe\">\n",
              "  <thead>\n",
              "    <tr style=\"text-align: right;\">\n",
              "      <th></th>\n",
              "      <th>Unnamed: 0</th>\n",
              "      <th>txt_0</th>\n",
              "      <th>txt_1</th>\n",
              "      <th>txt_2</th>\n",
              "      <th>txt_3</th>\n",
              "      <th>txt_4</th>\n",
              "      <th>txt_5</th>\n",
              "      <th>txt_6</th>\n",
              "      <th>txt_7</th>\n",
              "      <th>txt_8</th>\n",
              "      <th>txt_9</th>\n",
              "      <th>txt_10</th>\n",
              "      <th>txt_11</th>\n",
              "      <th>txt_12</th>\n",
              "      <th>txt_13</th>\n",
              "      <th>txt_14</th>\n",
              "      <th>txt_15</th>\n",
              "      <th>txt_16</th>\n",
              "      <th>txt_17</th>\n",
              "      <th>txt_18</th>\n",
              "      <th>txt_19</th>\n",
              "      <th>txt_20</th>\n",
              "      <th>txt_21</th>\n",
              "      <th>txt_22</th>\n",
              "      <th>txt_23</th>\n",
              "      <th>txt_24</th>\n",
              "      <th>txt_25</th>\n",
              "      <th>txt_26</th>\n",
              "      <th>txt_27</th>\n",
              "      <th>txt_28</th>\n",
              "      <th>txt_29</th>\n",
              "      <th>txt_30</th>\n",
              "      <th>txt_31</th>\n",
              "      <th>txt_32</th>\n",
              "      <th>txt_33</th>\n",
              "      <th>txt_34</th>\n",
              "      <th>txt_35</th>\n",
              "      <th>txt_36</th>\n",
              "      <th>txt_37</th>\n",
              "      <th>txt_38</th>\n",
              "      <th>...</th>\n",
              "      <th>cxt_270</th>\n",
              "      <th>cxt_271</th>\n",
              "      <th>cxt_272</th>\n",
              "      <th>cxt_273</th>\n",
              "      <th>cxt_274</th>\n",
              "      <th>cxt_275</th>\n",
              "      <th>cxt_276</th>\n",
              "      <th>cxt_277</th>\n",
              "      <th>cxt_278</th>\n",
              "      <th>cxt_279</th>\n",
              "      <th>cxt_280</th>\n",
              "      <th>cxt_281</th>\n",
              "      <th>cxt_282</th>\n",
              "      <th>cxt_283</th>\n",
              "      <th>cxt_284</th>\n",
              "      <th>cxt_285</th>\n",
              "      <th>cxt_286</th>\n",
              "      <th>cxt_287</th>\n",
              "      <th>cxt_288</th>\n",
              "      <th>cxt_289</th>\n",
              "      <th>cxt_290</th>\n",
              "      <th>cxt_291</th>\n",
              "      <th>cxt_292</th>\n",
              "      <th>cxt_293</th>\n",
              "      <th>cxt_294</th>\n",
              "      <th>cxt_295</th>\n",
              "      <th>cxt_296</th>\n",
              "      <th>cxt_297</th>\n",
              "      <th>cxt_298</th>\n",
              "      <th>cxt_299</th>\n",
              "      <th>0</th>\n",
              "      <th>1</th>\n",
              "      <th>2</th>\n",
              "      <th>3</th>\n",
              "      <th>4</th>\n",
              "      <th>5</th>\n",
              "      <th>6</th>\n",
              "      <th>7</th>\n",
              "      <th>8</th>\n",
              "      <th>cdc_present</th>\n",
              "    </tr>\n",
              "  </thead>\n",
              "  <tbody>\n",
              "    <tr>\n",
              "      <th>0</th>\n",
              "      <td>7497</td>\n",
              "      <td>-0.130206</td>\n",
              "      <td>0.048355</td>\n",
              "      <td>-0.114702</td>\n",
              "      <td>-0.009982</td>\n",
              "      <td>-0.030156</td>\n",
              "      <td>0.150491</td>\n",
              "      <td>-0.017356</td>\n",
              "      <td>0.057735</td>\n",
              "      <td>-0.041114</td>\n",
              "      <td>2.101023</td>\n",
              "      <td>-0.043877</td>\n",
              "      <td>0.078018</td>\n",
              "      <td>0.002753</td>\n",
              "      <td>-0.052786</td>\n",
              "      <td>-0.061446</td>\n",
              "      <td>0.014759</td>\n",
              "      <td>-0.121566</td>\n",
              "      <td>0.927315</td>\n",
              "      <td>-0.286600</td>\n",
              "      <td>-0.036176</td>\n",
              "      <td>-0.000199</td>\n",
              "      <td>-0.050020</td>\n",
              "      <td>-0.160738</td>\n",
              "      <td>-0.015966</td>\n",
              "      <td>0.096847</td>\n",
              "      <td>0.067825</td>\n",
              "      <td>0.109046</td>\n",
              "      <td>0.023804</td>\n",
              "      <td>0.103921</td>\n",
              "      <td>-0.090594</td>\n",
              "      <td>-0.057840</td>\n",
              "      <td>0.114495</td>\n",
              "      <td>-0.058922</td>\n",
              "      <td>0.050211</td>\n",
              "      <td>0.089209</td>\n",
              "      <td>-0.134626</td>\n",
              "      <td>-0.097672</td>\n",
              "      <td>0.002909</td>\n",
              "      <td>-0.006185</td>\n",
              "      <td>...</td>\n",
              "      <td>-0.463380</td>\n",
              "      <td>-0.204360</td>\n",
              "      <td>0.048473</td>\n",
              "      <td>-0.205093</td>\n",
              "      <td>-0.363393</td>\n",
              "      <td>0.033035</td>\n",
              "      <td>-0.010813</td>\n",
              "      <td>-0.022343</td>\n",
              "      <td>-0.075073</td>\n",
              "      <td>0.207637</td>\n",
              "      <td>0.33706</td>\n",
              "      <td>0.113085</td>\n",
              "      <td>-0.186804</td>\n",
              "      <td>-0.026109</td>\n",
              "      <td>-0.091814</td>\n",
              "      <td>0.132277</td>\n",
              "      <td>-0.041427</td>\n",
              "      <td>-0.309250</td>\n",
              "      <td>0.321133</td>\n",
              "      <td>-0.391453</td>\n",
              "      <td>-0.356706</td>\n",
              "      <td>-0.081472</td>\n",
              "      <td>-0.350020</td>\n",
              "      <td>0.164247</td>\n",
              "      <td>0.399030</td>\n",
              "      <td>0.239813</td>\n",
              "      <td>-0.153626</td>\n",
              "      <td>-0.230494</td>\n",
              "      <td>-0.117433</td>\n",
              "      <td>0.191165</td>\n",
              "      <td>0.480536</td>\n",
              "      <td>0.891133</td>\n",
              "      <td>0.880104</td>\n",
              "      <td>-0.142830</td>\n",
              "      <td>0.363169</td>\n",
              "      <td>0.524713</td>\n",
              "      <td>-0.104423</td>\n",
              "      <td>0.095498</td>\n",
              "      <td>-0.084667</td>\n",
              "      <td>False</td>\n",
              "    </tr>\n",
              "    <tr>\n",
              "      <th>1</th>\n",
              "      <td>30459</td>\n",
              "      <td>-0.107958</td>\n",
              "      <td>0.130110</td>\n",
              "      <td>-0.041047</td>\n",
              "      <td>-0.073007</td>\n",
              "      <td>0.145519</td>\n",
              "      <td>0.128093</td>\n",
              "      <td>-0.051751</td>\n",
              "      <td>0.001700</td>\n",
              "      <td>-0.130625</td>\n",
              "      <td>2.022824</td>\n",
              "      <td>-0.404143</td>\n",
              "      <td>-0.150002</td>\n",
              "      <td>0.155436</td>\n",
              "      <td>-0.110040</td>\n",
              "      <td>0.010022</td>\n",
              "      <td>0.060276</td>\n",
              "      <td>0.046602</td>\n",
              "      <td>0.910897</td>\n",
              "      <td>-0.064484</td>\n",
              "      <td>-0.054252</td>\n",
              "      <td>-0.058690</td>\n",
              "      <td>0.047674</td>\n",
              "      <td>0.015414</td>\n",
              "      <td>-0.040094</td>\n",
              "      <td>-0.023689</td>\n",
              "      <td>-0.013516</td>\n",
              "      <td>0.060345</td>\n",
              "      <td>0.172027</td>\n",
              "      <td>-0.070313</td>\n",
              "      <td>0.069009</td>\n",
              "      <td>-0.022220</td>\n",
              "      <td>-0.117145</td>\n",
              "      <td>0.086945</td>\n",
              "      <td>0.037613</td>\n",
              "      <td>0.087911</td>\n",
              "      <td>-0.117652</td>\n",
              "      <td>-0.092293</td>\n",
              "      <td>-0.098157</td>\n",
              "      <td>-0.112901</td>\n",
              "      <td>...</td>\n",
              "      <td>-0.189749</td>\n",
              "      <td>-0.396070</td>\n",
              "      <td>0.030718</td>\n",
              "      <td>-0.345085</td>\n",
              "      <td>0.699060</td>\n",
              "      <td>-0.426885</td>\n",
              "      <td>-0.386480</td>\n",
              "      <td>0.660045</td>\n",
              "      <td>-0.619115</td>\n",
              "      <td>-0.019320</td>\n",
              "      <td>0.39222</td>\n",
              "      <td>0.489230</td>\n",
              "      <td>-0.066925</td>\n",
              "      <td>-0.575683</td>\n",
              "      <td>0.163460</td>\n",
              "      <td>-0.276995</td>\n",
              "      <td>0.095197</td>\n",
              "      <td>-0.210605</td>\n",
              "      <td>0.094585</td>\n",
              "      <td>-0.070190</td>\n",
              "      <td>-0.552530</td>\n",
              "      <td>-0.042400</td>\n",
              "      <td>-0.750065</td>\n",
              "      <td>-0.249599</td>\n",
              "      <td>-0.264560</td>\n",
              "      <td>0.713130</td>\n",
              "      <td>-0.149760</td>\n",
              "      <td>-0.092975</td>\n",
              "      <td>-0.285510</td>\n",
              "      <td>-0.709820</td>\n",
              "      <td>-0.210406</td>\n",
              "      <td>-0.170143</td>\n",
              "      <td>-0.417555</td>\n",
              "      <td>0.551385</td>\n",
              "      <td>-0.174515</td>\n",
              "      <td>0.004164</td>\n",
              "      <td>-0.254874</td>\n",
              "      <td>1.338301</td>\n",
              "      <td>-1.358486</td>\n",
              "      <td>False</td>\n",
              "    </tr>\n",
              "    <tr>\n",
              "      <th>2</th>\n",
              "      <td>25533</td>\n",
              "      <td>-0.075064</td>\n",
              "      <td>0.038415</td>\n",
              "      <td>0.027696</td>\n",
              "      <td>-0.122820</td>\n",
              "      <td>0.043874</td>\n",
              "      <td>-0.102859</td>\n",
              "      <td>-0.000766</td>\n",
              "      <td>0.090644</td>\n",
              "      <td>-0.022766</td>\n",
              "      <td>2.237026</td>\n",
              "      <td>-0.254189</td>\n",
              "      <td>0.049830</td>\n",
              "      <td>0.098319</td>\n",
              "      <td>-0.047823</td>\n",
              "      <td>-0.009108</td>\n",
              "      <td>-0.051286</td>\n",
              "      <td>0.001306</td>\n",
              "      <td>0.964063</td>\n",
              "      <td>-0.007666</td>\n",
              "      <td>-0.018539</td>\n",
              "      <td>-0.012737</td>\n",
              "      <td>-0.047673</td>\n",
              "      <td>0.059876</td>\n",
              "      <td>0.023681</td>\n",
              "      <td>-0.034380</td>\n",
              "      <td>-0.083902</td>\n",
              "      <td>-0.043754</td>\n",
              "      <td>0.013231</td>\n",
              "      <td>-0.012982</td>\n",
              "      <td>0.127392</td>\n",
              "      <td>-0.022522</td>\n",
              "      <td>0.002302</td>\n",
              "      <td>-0.102024</td>\n",
              "      <td>0.013296</td>\n",
              "      <td>0.073121</td>\n",
              "      <td>-0.092281</td>\n",
              "      <td>-0.083372</td>\n",
              "      <td>-0.057125</td>\n",
              "      <td>-0.014944</td>\n",
              "      <td>...</td>\n",
              "      <td>0.307762</td>\n",
              "      <td>-0.188501</td>\n",
              "      <td>-0.003370</td>\n",
              "      <td>0.097000</td>\n",
              "      <td>0.084940</td>\n",
              "      <td>0.021967</td>\n",
              "      <td>0.205906</td>\n",
              "      <td>0.047007</td>\n",
              "      <td>0.124798</td>\n",
              "      <td>-0.078075</td>\n",
              "      <td>0.09538</td>\n",
              "      <td>0.115032</td>\n",
              "      <td>-0.096754</td>\n",
              "      <td>0.017406</td>\n",
              "      <td>-0.040473</td>\n",
              "      <td>-0.024575</td>\n",
              "      <td>-0.118206</td>\n",
              "      <td>-0.041355</td>\n",
              "      <td>0.176702</td>\n",
              "      <td>-0.206805</td>\n",
              "      <td>-0.261248</td>\n",
              "      <td>0.135761</td>\n",
              "      <td>0.004245</td>\n",
              "      <td>-0.045272</td>\n",
              "      <td>-0.150872</td>\n",
              "      <td>-0.141105</td>\n",
              "      <td>0.085664</td>\n",
              "      <td>0.015103</td>\n",
              "      <td>-0.014373</td>\n",
              "      <td>0.120442</td>\n",
              "      <td>0.864392</td>\n",
              "      <td>0.976035</td>\n",
              "      <td>1.033141</td>\n",
              "      <td>-0.142830</td>\n",
              "      <td>1.169695</td>\n",
              "      <td>1.565809</td>\n",
              "      <td>0.077088</td>\n",
              "      <td>0.243562</td>\n",
              "      <td>0.112166</td>\n",
              "      <td>False</td>\n",
              "    </tr>\n",
              "    <tr>\n",
              "      <th>3</th>\n",
              "      <td>4455</td>\n",
              "      <td>-0.101454</td>\n",
              "      <td>0.003288</td>\n",
              "      <td>0.007618</td>\n",
              "      <td>-0.011705</td>\n",
              "      <td>-0.004709</td>\n",
              "      <td>-0.020165</td>\n",
              "      <td>0.025580</td>\n",
              "      <td>0.047598</td>\n",
              "      <td>-0.076953</td>\n",
              "      <td>2.289741</td>\n",
              "      <td>-0.220427</td>\n",
              "      <td>0.043469</td>\n",
              "      <td>-0.042790</td>\n",
              "      <td>-0.010778</td>\n",
              "      <td>0.005612</td>\n",
              "      <td>0.054999</td>\n",
              "      <td>-0.122046</td>\n",
              "      <td>0.794144</td>\n",
              "      <td>-0.153406</td>\n",
              "      <td>0.093457</td>\n",
              "      <td>-0.033145</td>\n",
              "      <td>-0.080009</td>\n",
              "      <td>0.140504</td>\n",
              "      <td>0.011131</td>\n",
              "      <td>0.135749</td>\n",
              "      <td>0.003123</td>\n",
              "      <td>0.033147</td>\n",
              "      <td>-0.013293</td>\n",
              "      <td>-0.095701</td>\n",
              "      <td>0.083380</td>\n",
              "      <td>0.034392</td>\n",
              "      <td>0.060056</td>\n",
              "      <td>0.046893</td>\n",
              "      <td>-0.073994</td>\n",
              "      <td>0.109000</td>\n",
              "      <td>-0.110334</td>\n",
              "      <td>-0.036644</td>\n",
              "      <td>-0.049474</td>\n",
              "      <td>-0.008827</td>\n",
              "      <td>...</td>\n",
              "      <td>0.183540</td>\n",
              "      <td>-0.294305</td>\n",
              "      <td>-0.195535</td>\n",
              "      <td>-0.088610</td>\n",
              "      <td>0.339498</td>\n",
              "      <td>0.434715</td>\n",
              "      <td>-0.214650</td>\n",
              "      <td>0.280800</td>\n",
              "      <td>0.512500</td>\n",
              "      <td>-0.113770</td>\n",
              "      <td>-0.21993</td>\n",
              "      <td>-0.529584</td>\n",
              "      <td>-0.050285</td>\n",
              "      <td>-0.094307</td>\n",
              "      <td>-0.067860</td>\n",
              "      <td>-0.233844</td>\n",
              "      <td>-0.218420</td>\n",
              "      <td>-0.088710</td>\n",
              "      <td>-0.048320</td>\n",
              "      <td>-0.172400</td>\n",
              "      <td>-0.020990</td>\n",
              "      <td>0.002080</td>\n",
              "      <td>-0.000328</td>\n",
              "      <td>-0.042084</td>\n",
              "      <td>0.419700</td>\n",
              "      <td>-0.096648</td>\n",
              "      <td>-0.187825</td>\n",
              "      <td>0.461215</td>\n",
              "      <td>0.214574</td>\n",
              "      <td>-0.054802</td>\n",
              "      <td>0.634078</td>\n",
              "      <td>0.806231</td>\n",
              "      <td>-0.652804</td>\n",
              "      <td>-0.837045</td>\n",
              "      <td>0.363169</td>\n",
              "      <td>0.351197</td>\n",
              "      <td>-1.350981</td>\n",
              "      <td>-1.241383</td>\n",
              "      <td>0.733690</td>\n",
              "      <td>False</td>\n",
              "    </tr>\n",
              "    <tr>\n",
              "      <th>4</th>\n",
              "      <td>26693</td>\n",
              "      <td>0.049703</td>\n",
              "      <td>0.143664</td>\n",
              "      <td>-0.180584</td>\n",
              "      <td>-0.003236</td>\n",
              "      <td>0.010516</td>\n",
              "      <td>0.031385</td>\n",
              "      <td>-0.013620</td>\n",
              "      <td>-0.098701</td>\n",
              "      <td>-0.046195</td>\n",
              "      <td>2.446345</td>\n",
              "      <td>-0.083923</td>\n",
              "      <td>0.042283</td>\n",
              "      <td>0.132431</td>\n",
              "      <td>0.016977</td>\n",
              "      <td>-0.197173</td>\n",
              "      <td>-0.091144</td>\n",
              "      <td>-0.046572</td>\n",
              "      <td>0.972449</td>\n",
              "      <td>-0.151526</td>\n",
              "      <td>-0.008244</td>\n",
              "      <td>0.043451</td>\n",
              "      <td>-0.025238</td>\n",
              "      <td>0.035713</td>\n",
              "      <td>-0.056225</td>\n",
              "      <td>-0.070203</td>\n",
              "      <td>0.003437</td>\n",
              "      <td>-0.082078</td>\n",
              "      <td>-0.078374</td>\n",
              "      <td>-0.050749</td>\n",
              "      <td>-0.061852</td>\n",
              "      <td>-0.040118</td>\n",
              "      <td>0.097999</td>\n",
              "      <td>0.001042</td>\n",
              "      <td>0.130845</td>\n",
              "      <td>0.049134</td>\n",
              "      <td>-0.132049</td>\n",
              "      <td>0.011667</td>\n",
              "      <td>-0.068457</td>\n",
              "      <td>-0.091122</td>\n",
              "      <td>...</td>\n",
              "      <td>0.307762</td>\n",
              "      <td>-0.188501</td>\n",
              "      <td>-0.003370</td>\n",
              "      <td>0.097000</td>\n",
              "      <td>0.084940</td>\n",
              "      <td>0.021967</td>\n",
              "      <td>0.205906</td>\n",
              "      <td>0.047007</td>\n",
              "      <td>0.124798</td>\n",
              "      <td>-0.078075</td>\n",
              "      <td>0.09538</td>\n",
              "      <td>0.115032</td>\n",
              "      <td>-0.096754</td>\n",
              "      <td>0.017406</td>\n",
              "      <td>-0.040473</td>\n",
              "      <td>-0.024575</td>\n",
              "      <td>-0.118206</td>\n",
              "      <td>-0.041355</td>\n",
              "      <td>0.176702</td>\n",
              "      <td>-0.206805</td>\n",
              "      <td>-0.261248</td>\n",
              "      <td>0.135761</td>\n",
              "      <td>0.004245</td>\n",
              "      <td>-0.045272</td>\n",
              "      <td>-0.150872</td>\n",
              "      <td>-0.141105</td>\n",
              "      <td>0.085664</td>\n",
              "      <td>0.015103</td>\n",
              "      <td>-0.014373</td>\n",
              "      <td>0.120442</td>\n",
              "      <td>1.017934</td>\n",
              "      <td>0.933584</td>\n",
              "      <td>-0.306122</td>\n",
              "      <td>0.898493</td>\n",
              "      <td>0.900853</td>\n",
              "      <td>0.698229</td>\n",
              "      <td>1.340668</td>\n",
              "      <td>-0.057432</td>\n",
              "      <td>0.966380</td>\n",
              "      <td>False</td>\n",
              "    </tr>\n",
              "  </tbody>\n",
              "</table>\n",
              "<p>5 rows × 611 columns</p>\n",
              "</div>"
            ],
            "text/plain": [
              "   Unnamed: 0     txt_0     txt_1  ...         7         8  cdc_present\n",
              "0        7497 -0.130206  0.048355  ...  0.095498 -0.084667        False\n",
              "1       30459 -0.107958  0.130110  ...  1.338301 -1.358486        False\n",
              "2       25533 -0.075064  0.038415  ...  0.243562  0.112166        False\n",
              "3        4455 -0.101454  0.003288  ... -1.241383  0.733690        False\n",
              "4       26693  0.049703  0.143664  ... -0.057432  0.966380        False\n",
              "\n",
              "[5 rows x 611 columns]"
            ]
          },
          "metadata": {
            "tags": []
          },
          "execution_count": 50
        }
      ]
    },
    {
      "cell_type": "code",
      "metadata": {
        "id": "csUwA9EMelaa",
        "colab_type": "code",
        "colab": {}
      },
      "source": [
        "X = test_data_1.drop(columns=['Unnamed: 0', 'cdc_present'])\n",
        "y = test_data_1['cdc_present']"
      ],
      "execution_count": 0,
      "outputs": []
    },
    {
      "cell_type": "markdown",
      "metadata": {
        "id": "c9p5RbcHqrOR",
        "colab_type": "text"
      },
      "source": [
        "## First round cuts"
      ]
    },
    {
      "cell_type": "code",
      "metadata": {
        "id": "QpctSM2s3ZfR",
        "colab_type": "code",
        "colab": {}
      },
      "source": [
        "# Load pretrained model\n",
        "mod_path = '/content/drive/My Drive/Colab Notebooks/Thinkful/Module 34 - Final Capstone/data/CDC Detection/funnel_1_model.sav'\n",
        "\n",
        "model_1 = pickle.load(open(mod_path, 'rb'))"
      ],
      "execution_count": 0,
      "outputs": []
    },
    {
      "cell_type": "code",
      "metadata": {
        "id": "MgZ8u2PQ6FeC",
        "colab_type": "code",
        "outputId": "81fbef30-be96-465e-aa15-677e4a7f5403",
        "colab": {
          "base_uri": "https://localhost:8080/",
          "height": 102
        }
      },
      "source": [
        "predict = model_1.predict(X)\n",
        "\n",
        "print(\"\\n----------------------Model Scores----------------------\")\n",
        "print('Model accuracy score:', model_1.score(X, y))\n",
        "print('Model precision score:', precision_score(y, predict))\n",
        "print('Model recall score:', recall_score(y, predict))"
      ],
      "execution_count": 0,
      "outputs": [
        {
          "output_type": "stream",
          "text": [
            "\n",
            "----------------------Model Scores----------------------\n",
            "Model accuracy score: 0.8044761904761905\n",
            "Model precision score: 0.1099640933572711\n",
            "Model recall score: 0.7777777777777778\n"
          ],
          "name": "stdout"
        }
      ]
    },
    {
      "cell_type": "code",
      "metadata": {
        "id": "4blsIC0BiM6e",
        "colab_type": "code",
        "outputId": "43f1d0b2-061c-41fb-bb13-67e03eec04df",
        "colab": {
          "base_uri": "https://localhost:8080/",
          "height": 111
        }
      },
      "source": [
        "conf_matrix(y, predict)"
      ],
      "execution_count": 0,
      "outputs": [
        {
          "output_type": "execute_result",
          "data": {
            "text/html": [
              "<div>\n",
              "<style scoped>\n",
              "    .dataframe tbody tr th:only-of-type {\n",
              "        vertical-align: middle;\n",
              "    }\n",
              "\n",
              "    .dataframe tbody tr th {\n",
              "        vertical-align: top;\n",
              "    }\n",
              "\n",
              "    .dataframe thead th {\n",
              "        text-align: right;\n",
              "    }\n",
              "</style>\n",
              "<table border=\"1\" class=\"dataframe\">\n",
              "  <thead>\n",
              "    <tr style=\"text-align: right;\">\n",
              "      <th></th>\n",
              "      <th>Predicted_0</th>\n",
              "      <th>Predicted_1</th>\n",
              "    </tr>\n",
              "  </thead>\n",
              "  <tbody>\n",
              "    <tr>\n",
              "      <th>Actual_0</th>\n",
              "      <td>8202</td>\n",
              "      <td>1983</td>\n",
              "    </tr>\n",
              "    <tr>\n",
              "      <th>Actual_1</th>\n",
              "      <td>70</td>\n",
              "      <td>245</td>\n",
              "    </tr>\n",
              "  </tbody>\n",
              "</table>\n",
              "</div>"
            ],
            "text/plain": [
              "          Predicted_0  Predicted_1\n",
              "Actual_0         8202         1983\n",
              "Actual_1           70          245"
            ]
          },
          "metadata": {
            "tags": []
          },
          "execution_count": 59
        }
      ]
    },
    {
      "cell_type": "markdown",
      "metadata": {
        "id": "gvjrYriviRwo",
        "colab_type": "text"
      },
      "source": [
        "Consider this pipeline as akin to professional sports teams' building a roster.   This model represents the first round of \"cuts\".  Out of the 10,500 sentences in this set, only 2228 candidates have been identified.  \n",
        "\n",
        "This is a 75% reduction of noise. "
      ]
    },
    {
      "cell_type": "markdown",
      "metadata": {
        "id": "rg9dO0YgiaZW",
        "colab_type": "text"
      },
      "source": [
        "## Sentence Dissection\n",
        "\n",
        "After the first round of cuts, the 2,228 candidate sentences move on in the pipeline to the sentence dissection step.\n",
        "\n",
        "This part of the pipeline is primarily rule based relies on the following assumptions:\n",
        "\n",
        "* CDCs are either simple sentences or independent clauses within complex sentences.  This means:\n",
        " * They must contain complete thoughts (have minimum elements of a simple sentence:  subject, verb, object)\n",
        " * They must be grammatically correct\n",
        "* In a sentence with multiple clauses, a CDC will be the clause with the strongest \"stance\".\n",
        " * It will demonstrate the highest sentiment and polarity\n",
        " * Where c is the claim, t is the topic-context, R is the sentiment relationship between instances of t and c, and p is polarity, stance is calculated as follows:\n",
        " $$Stance_{(c,t)} = p_c * R(x_c, x_t) * p_t$$\n",
        "\n",
        "Based on these assumptions, sentences and clauses failing the rule-based tests are discarded.  Functions are written to\n",
        "1. Identify if elements in the clause are adequate to call it a sentence\n",
        "2. Evaluate each clause with rule-based model \"Language Tool\" for grammatical correctness."
      ]
    },
    {
      "cell_type": "code",
      "metadata": {
        "id": "opQLZ-zSiec_",
        "colab_type": "code",
        "outputId": "447e3585-23cb-4ef0-eb6f-9ebed0e973ed",
        "colab": {
          "base_uri": "https://localhost:8080/",
          "height": 34
        }
      },
      "source": [
        "test_data_2.shape"
      ],
      "execution_count": 0,
      "outputs": [
        {
          "output_type": "execute_result",
          "data": {
            "text/plain": [
              "(2171, 614)"
            ]
          },
          "metadata": {
            "tags": []
          },
          "execution_count": 60
        }
      ]
    },
    {
      "cell_type": "markdown",
      "metadata": {
        "id": "XT_4K6KHop6U",
        "colab_type": "text"
      },
      "source": [
        "## Preprocessing 2\n",
        "\n",
        "This part of the funnel was able to cut 57 more candidates.  After this step, a final model will make the last of the cuts."
      ]
    },
    {
      "cell_type": "code",
      "metadata": {
        "id": "WU1w79xfqYRF",
        "colab_type": "code",
        "outputId": "05c0b12b-52e6-434a-8143-158599ca2934",
        "colab": {
          "base_uri": "https://localhost:8080/",
          "height": 395
        }
      },
      "source": [
        "test_data_2.head(3)"
      ],
      "execution_count": 0,
      "outputs": [
        {
          "output_type": "execute_result",
          "data": {
            "text/html": [
              "<div>\n",
              "<style scoped>\n",
              "    .dataframe tbody tr th:only-of-type {\n",
              "        vertical-align: middle;\n",
              "    }\n",
              "\n",
              "    .dataframe tbody tr th {\n",
              "        vertical-align: top;\n",
              "    }\n",
              "\n",
              "    .dataframe thead th {\n",
              "        text-align: right;\n",
              "    }\n",
              "</style>\n",
              "<table border=\"1\" class=\"dataframe\">\n",
              "  <thead>\n",
              "    <tr style=\"text-align: right;\">\n",
              "      <th></th>\n",
              "      <th>Unnamed: 0</th>\n",
              "      <th>cdc</th>\n",
              "      <th>cdc_present</th>\n",
              "      <th>context</th>\n",
              "      <th>clause</th>\n",
              "      <th>stance</th>\n",
              "      <th>words</th>\n",
              "      <th>syllables</th>\n",
              "      <th>sentiment_words</th>\n",
              "      <th>nouns</th>\n",
              "      <th>sent_rat</th>\n",
              "      <th>context_similarity</th>\n",
              "      <th>expanded_similarity</th>\n",
              "      <th>subjectivity_score</th>\n",
              "      <th>txt_0</th>\n",
              "      <th>txt_1</th>\n",
              "      <th>txt_2</th>\n",
              "      <th>txt_3</th>\n",
              "      <th>txt_4</th>\n",
              "      <th>txt_5</th>\n",
              "      <th>txt_6</th>\n",
              "      <th>txt_7</th>\n",
              "      <th>txt_8</th>\n",
              "      <th>txt_9</th>\n",
              "      <th>txt_10</th>\n",
              "      <th>txt_11</th>\n",
              "      <th>txt_12</th>\n",
              "      <th>txt_13</th>\n",
              "      <th>txt_14</th>\n",
              "      <th>txt_15</th>\n",
              "      <th>txt_16</th>\n",
              "      <th>txt_17</th>\n",
              "      <th>txt_18</th>\n",
              "      <th>txt_19</th>\n",
              "      <th>txt_20</th>\n",
              "      <th>txt_21</th>\n",
              "      <th>txt_22</th>\n",
              "      <th>txt_23</th>\n",
              "      <th>txt_24</th>\n",
              "      <th>txt_25</th>\n",
              "      <th>...</th>\n",
              "      <th>cxt_260</th>\n",
              "      <th>cxt_261</th>\n",
              "      <th>cxt_262</th>\n",
              "      <th>cxt_263</th>\n",
              "      <th>cxt_264</th>\n",
              "      <th>cxt_265</th>\n",
              "      <th>cxt_266</th>\n",
              "      <th>cxt_267</th>\n",
              "      <th>cxt_268</th>\n",
              "      <th>cxt_269</th>\n",
              "      <th>cxt_270</th>\n",
              "      <th>cxt_271</th>\n",
              "      <th>cxt_272</th>\n",
              "      <th>cxt_273</th>\n",
              "      <th>cxt_274</th>\n",
              "      <th>cxt_275</th>\n",
              "      <th>cxt_276</th>\n",
              "      <th>cxt_277</th>\n",
              "      <th>cxt_278</th>\n",
              "      <th>cxt_279</th>\n",
              "      <th>cxt_280</th>\n",
              "      <th>cxt_281</th>\n",
              "      <th>cxt_282</th>\n",
              "      <th>cxt_283</th>\n",
              "      <th>cxt_284</th>\n",
              "      <th>cxt_285</th>\n",
              "      <th>cxt_286</th>\n",
              "      <th>cxt_287</th>\n",
              "      <th>cxt_288</th>\n",
              "      <th>cxt_289</th>\n",
              "      <th>cxt_290</th>\n",
              "      <th>cxt_291</th>\n",
              "      <th>cxt_292</th>\n",
              "      <th>cxt_293</th>\n",
              "      <th>cxt_294</th>\n",
              "      <th>cxt_295</th>\n",
              "      <th>cxt_296</th>\n",
              "      <th>cxt_297</th>\n",
              "      <th>cxt_298</th>\n",
              "      <th>cxt_299</th>\n",
              "    </tr>\n",
              "  </thead>\n",
              "  <tbody>\n",
              "    <tr>\n",
              "      <th>0</th>\n",
              "      <td>0</td>\n",
              "      <td>---</td>\n",
              "      <td>False</td>\n",
              "      <td>right to bear arms</td>\n",
              "      <td>restrictions on felon ownership of firearms di...</td>\n",
              "      <td>0.106768</td>\n",
              "      <td>11</td>\n",
              "      <td>18</td>\n",
              "      <td>1</td>\n",
              "      <td>4</td>\n",
              "      <td>0.090909</td>\n",
              "      <td>0.447249</td>\n",
              "      <td>0.216302</td>\n",
              "      <td>0.3875</td>\n",
              "      <td>0.080393</td>\n",
              "      <td>0.036184</td>\n",
              "      <td>-0.296513</td>\n",
              "      <td>0.030171</td>\n",
              "      <td>-0.080085</td>\n",
              "      <td>-0.056870</td>\n",
              "      <td>0.060005</td>\n",
              "      <td>-0.113893</td>\n",
              "      <td>-0.043942</td>\n",
              "      <td>2.376373</td>\n",
              "      <td>-0.208267</td>\n",
              "      <td>0.088837</td>\n",
              "      <td>0.081353</td>\n",
              "      <td>0.114954</td>\n",
              "      <td>-0.244817</td>\n",
              "      <td>-0.113150</td>\n",
              "      <td>-0.061540</td>\n",
              "      <td>0.761227</td>\n",
              "      <td>0.009723</td>\n",
              "      <td>0.075449</td>\n",
              "      <td>0.204111</td>\n",
              "      <td>-0.053163</td>\n",
              "      <td>0.186765</td>\n",
              "      <td>-0.027354</td>\n",
              "      <td>-0.088412</td>\n",
              "      <td>-0.152941</td>\n",
              "      <td>...</td>\n",
              "      <td>-0.273495</td>\n",
              "      <td>0.180730</td>\n",
              "      <td>0.142170</td>\n",
              "      <td>-0.011811</td>\n",
              "      <td>0.071116</td>\n",
              "      <td>0.069556</td>\n",
              "      <td>0.048623</td>\n",
              "      <td>-0.023608</td>\n",
              "      <td>0.148230</td>\n",
              "      <td>-0.005975</td>\n",
              "      <td>0.307762</td>\n",
              "      <td>-0.188501</td>\n",
              "      <td>-0.003370</td>\n",
              "      <td>0.097000</td>\n",
              "      <td>0.084940</td>\n",
              "      <td>0.021967</td>\n",
              "      <td>0.205906</td>\n",
              "      <td>0.047007</td>\n",
              "      <td>0.124798</td>\n",
              "      <td>-0.078075</td>\n",
              "      <td>0.09538</td>\n",
              "      <td>0.115032</td>\n",
              "      <td>-0.096754</td>\n",
              "      <td>0.017406</td>\n",
              "      <td>-0.040473</td>\n",
              "      <td>-0.024575</td>\n",
              "      <td>-0.118206</td>\n",
              "      <td>-0.041355</td>\n",
              "      <td>0.176702</td>\n",
              "      <td>-0.206805</td>\n",
              "      <td>-0.261248</td>\n",
              "      <td>0.135761</td>\n",
              "      <td>0.004245</td>\n",
              "      <td>-0.045272</td>\n",
              "      <td>-0.150872</td>\n",
              "      <td>-0.141105</td>\n",
              "      <td>0.085664</td>\n",
              "      <td>0.015103</td>\n",
              "      <td>-0.014373</td>\n",
              "      <td>0.120442</td>\n",
              "    </tr>\n",
              "    <tr>\n",
              "      <th>1</th>\n",
              "      <td>1</td>\n",
              "      <td>---</td>\n",
              "      <td>False</td>\n",
              "      <td>affirmative aciton</td>\n",
              "      <td>luck was too much of a variable in economics</td>\n",
              "      <td>0.111407</td>\n",
              "      <td>9</td>\n",
              "      <td>13</td>\n",
              "      <td>1</td>\n",
              "      <td>3</td>\n",
              "      <td>0.111111</td>\n",
              "      <td>0.059129</td>\n",
              "      <td>0.017785</td>\n",
              "      <td>0.4588</td>\n",
              "      <td>-0.104837</td>\n",
              "      <td>0.279544</td>\n",
              "      <td>-0.022467</td>\n",
              "      <td>-0.082514</td>\n",
              "      <td>-0.024036</td>\n",
              "      <td>0.058078</td>\n",
              "      <td>0.081180</td>\n",
              "      <td>-0.205556</td>\n",
              "      <td>-0.069566</td>\n",
              "      <td>2.242743</td>\n",
              "      <td>-0.290025</td>\n",
              "      <td>-0.005721</td>\n",
              "      <td>0.074118</td>\n",
              "      <td>0.067591</td>\n",
              "      <td>-0.096402</td>\n",
              "      <td>-0.110541</td>\n",
              "      <td>-0.111803</td>\n",
              "      <td>1.207566</td>\n",
              "      <td>-0.175685</td>\n",
              "      <td>-0.037334</td>\n",
              "      <td>-0.160528</td>\n",
              "      <td>-0.108331</td>\n",
              "      <td>-0.130913</td>\n",
              "      <td>-0.021883</td>\n",
              "      <td>0.049593</td>\n",
              "      <td>-0.155600</td>\n",
              "      <td>...</td>\n",
              "      <td>-0.899770</td>\n",
              "      <td>0.074667</td>\n",
              "      <td>0.011280</td>\n",
              "      <td>0.078425</td>\n",
              "      <td>-0.303396</td>\n",
              "      <td>0.275712</td>\n",
              "      <td>0.096043</td>\n",
              "      <td>-0.110640</td>\n",
              "      <td>0.257587</td>\n",
              "      <td>0.352364</td>\n",
              "      <td>0.183540</td>\n",
              "      <td>-0.294305</td>\n",
              "      <td>-0.195535</td>\n",
              "      <td>-0.088610</td>\n",
              "      <td>0.339498</td>\n",
              "      <td>0.434715</td>\n",
              "      <td>-0.214650</td>\n",
              "      <td>0.280800</td>\n",
              "      <td>0.512500</td>\n",
              "      <td>-0.113770</td>\n",
              "      <td>-0.21993</td>\n",
              "      <td>-0.529584</td>\n",
              "      <td>-0.050285</td>\n",
              "      <td>-0.094307</td>\n",
              "      <td>-0.067860</td>\n",
              "      <td>-0.233844</td>\n",
              "      <td>-0.218420</td>\n",
              "      <td>-0.088710</td>\n",
              "      <td>-0.048320</td>\n",
              "      <td>-0.172400</td>\n",
              "      <td>-0.020990</td>\n",
              "      <td>0.002080</td>\n",
              "      <td>-0.000328</td>\n",
              "      <td>-0.042084</td>\n",
              "      <td>0.419700</td>\n",
              "      <td>-0.096648</td>\n",
              "      <td>-0.187825</td>\n",
              "      <td>0.461215</td>\n",
              "      <td>0.214574</td>\n",
              "      <td>-0.054802</td>\n",
              "    </tr>\n",
              "    <tr>\n",
              "      <th>2</th>\n",
              "      <td>2</td>\n",
              "      <td>---</td>\n",
              "      <td>False</td>\n",
              "      <td>physical education</td>\n",
              "      <td>only socialization that takes place explicitly</td>\n",
              "      <td>0.000000</td>\n",
              "      <td>6</td>\n",
              "      <td>15</td>\n",
              "      <td>0</td>\n",
              "      <td>2</td>\n",
              "      <td>0.000000</td>\n",
              "      <td>0.509795</td>\n",
              "      <td>0.237417</td>\n",
              "      <td>0.0000</td>\n",
              "      <td>0.070133</td>\n",
              "      <td>0.196895</td>\n",
              "      <td>-0.089567</td>\n",
              "      <td>0.034461</td>\n",
              "      <td>-0.043734</td>\n",
              "      <td>-0.024805</td>\n",
              "      <td>-0.102026</td>\n",
              "      <td>0.091727</td>\n",
              "      <td>0.148654</td>\n",
              "      <td>2.350083</td>\n",
              "      <td>-0.006274</td>\n",
              "      <td>0.108051</td>\n",
              "      <td>-0.105276</td>\n",
              "      <td>0.094623</td>\n",
              "      <td>-0.008241</td>\n",
              "      <td>0.077131</td>\n",
              "      <td>-0.140222</td>\n",
              "      <td>0.845746</td>\n",
              "      <td>-0.177193</td>\n",
              "      <td>-0.017642</td>\n",
              "      <td>-0.139662</td>\n",
              "      <td>-0.200465</td>\n",
              "      <td>0.102861</td>\n",
              "      <td>-0.006388</td>\n",
              "      <td>0.031106</td>\n",
              "      <td>-0.017749</td>\n",
              "      <td>...</td>\n",
              "      <td>-0.127505</td>\n",
              "      <td>0.007055</td>\n",
              "      <td>0.146639</td>\n",
              "      <td>0.211151</td>\n",
              "      <td>-0.166130</td>\n",
              "      <td>-0.141890</td>\n",
              "      <td>-0.340995</td>\n",
              "      <td>-0.111145</td>\n",
              "      <td>0.516420</td>\n",
              "      <td>-0.029180</td>\n",
              "      <td>-0.606520</td>\n",
              "      <td>0.043256</td>\n",
              "      <td>-0.169571</td>\n",
              "      <td>-0.093181</td>\n",
              "      <td>-0.446615</td>\n",
              "      <td>0.180314</td>\n",
              "      <td>-0.011280</td>\n",
              "      <td>-0.088868</td>\n",
              "      <td>-0.307160</td>\n",
              "      <td>0.131710</td>\n",
              "      <td>-0.51924</td>\n",
              "      <td>-0.231505</td>\n",
              "      <td>-0.026492</td>\n",
              "      <td>0.223532</td>\n",
              "      <td>-0.201455</td>\n",
              "      <td>-0.505555</td>\n",
              "      <td>-0.102415</td>\n",
              "      <td>-0.097368</td>\n",
              "      <td>-0.099250</td>\n",
              "      <td>-0.218825</td>\n",
              "      <td>0.275148</td>\n",
              "      <td>-0.043449</td>\n",
              "      <td>-0.031048</td>\n",
              "      <td>0.148230</td>\n",
              "      <td>-0.102086</td>\n",
              "      <td>0.264600</td>\n",
              "      <td>0.103510</td>\n",
              "      <td>-0.209790</td>\n",
              "      <td>-0.153765</td>\n",
              "      <td>0.015765</td>\n",
              "    </tr>\n",
              "  </tbody>\n",
              "</table>\n",
              "<p>3 rows × 614 columns</p>\n",
              "</div>"
            ],
            "text/plain": [
              "   Unnamed: 0  cdc  cdc_present  ...   cxt_297   cxt_298   cxt_299\n",
              "0           0  ---        False  ...  0.015103 -0.014373  0.120442\n",
              "1           1  ---        False  ...  0.461215  0.214574 -0.054802\n",
              "2           2  ---        False  ... -0.209790 -0.153765  0.015765\n",
              "\n",
              "[3 rows x 614 columns]"
            ]
          },
          "metadata": {
            "tags": []
          },
          "execution_count": 63
        }
      ]
    },
    {
      "cell_type": "code",
      "metadata": {
        "id": "eQVmaxxTqYH1",
        "colab_type": "code",
        "colab": {}
      },
      "source": [
        "X = test_data_2.drop(columns=['Unnamed: 0', 'cdc', 'cdc_present', \n",
        "                              'clause', 'context'])\n",
        "y = test_data_2['cdc_present']"
      ],
      "execution_count": 0,
      "outputs": []
    },
    {
      "cell_type": "markdown",
      "metadata": {
        "id": "KdXRtQADqZCe",
        "colab_type": "text"
      },
      "source": [
        "## Model"
      ]
    },
    {
      "cell_type": "code",
      "metadata": {
        "id": "9p2TvJhpqa3Z",
        "colab_type": "code",
        "colab": {}
      },
      "source": [
        "# Load pretrained model\n",
        "mod_path = '/content/drive/My Drive/Colab Notebooks/Thinkful/Module 34 - Final Capstone/data/CDC Detection/funnel_2_model.sav'\n",
        "\n",
        "model_2 = pickle.load(open(mod_path, 'rb'))"
      ],
      "execution_count": 0,
      "outputs": []
    },
    {
      "cell_type": "code",
      "metadata": {
        "id": "dx-4lcj3iio6",
        "colab_type": "code",
        "outputId": "52a44b1b-d5c2-427c-d727-f99688ee8ea5",
        "colab": {
          "base_uri": "https://localhost:8080/",
          "height": 102
        }
      },
      "source": [
        "predict = model_2.predict(X)\n",
        "\n",
        "print(\"\\n----------------------Model Scores----------------------\")\n",
        "print('Model accuracy score:', model_2.score(X, y))\n",
        "print('Model precision score:', precision_score(y, predict))\n",
        "print('Model recall score:', recall_score(y, predict))"
      ],
      "execution_count": 0,
      "outputs": [
        {
          "output_type": "stream",
          "text": [
            "\n",
            "----------------------Model Scores----------------------\n",
            "Model accuracy score: 0.63841547673883\n",
            "Model precision score: 0.1588447653429603\n",
            "Model recall score: 0.6055045871559633\n"
          ],
          "name": "stdout"
        }
      ]
    },
    {
      "cell_type": "code",
      "metadata": {
        "id": "XgPp0kZRDQN8",
        "colab_type": "code",
        "outputId": "ce48e0b5-a402-4ca1-92dd-5ef14ab1673e",
        "colab": {
          "base_uri": "https://localhost:8080/",
          "height": 111
        }
      },
      "source": [
        "conf_matrix(y, predict)"
      ],
      "execution_count": 0,
      "outputs": [
        {
          "output_type": "execute_result",
          "data": {
            "text/html": [
              "<div>\n",
              "<style scoped>\n",
              "    .dataframe tbody tr th:only-of-type {\n",
              "        vertical-align: middle;\n",
              "    }\n",
              "\n",
              "    .dataframe tbody tr th {\n",
              "        vertical-align: top;\n",
              "    }\n",
              "\n",
              "    .dataframe thead th {\n",
              "        text-align: right;\n",
              "    }\n",
              "</style>\n",
              "<table border=\"1\" class=\"dataframe\">\n",
              "  <thead>\n",
              "    <tr style=\"text-align: right;\">\n",
              "      <th></th>\n",
              "      <th>Predicted_0</th>\n",
              "      <th>Predicted_1</th>\n",
              "    </tr>\n",
              "  </thead>\n",
              "  <tbody>\n",
              "    <tr>\n",
              "      <th>Actual_0</th>\n",
              "      <td>1254</td>\n",
              "      <td>699</td>\n",
              "    </tr>\n",
              "    <tr>\n",
              "      <th>Actual_1</th>\n",
              "      <td>86</td>\n",
              "      <td>132</td>\n",
              "    </tr>\n",
              "  </tbody>\n",
              "</table>\n",
              "</div>"
            ],
            "text/plain": [
              "          Predicted_0  Predicted_1\n",
              "Actual_0         1254          699\n",
              "Actual_1           86          132"
            ]
          },
          "metadata": {
            "tags": []
          },
          "execution_count": 70
        }
      ]
    },
    {
      "cell_type": "code",
      "metadata": {
        "id": "nUTLU45prmGf",
        "colab_type": "code",
        "outputId": "cc46074f-9a7a-4fc6-a059-26290a8ae2ac",
        "colab": {
          "base_uri": "https://localhost:8080/",
          "height": 34
        }
      },
      "source": [
        "#Let's look at the output\n",
        "test_data_2['prediction'] = predict\n",
        "\n",
        "output = test_data_2.loc[test_data_2['prediction']==True]\n",
        "output.shape"
      ],
      "execution_count": 0,
      "outputs": [
        {
          "output_type": "execute_result",
          "data": {
            "text/plain": [
              "(831, 615)"
            ]
          },
          "metadata": {
            "tags": []
          },
          "execution_count": 73
        }
      ]
    },
    {
      "cell_type": "code",
      "metadata": {
        "id": "lMD2asJTr6Iu",
        "colab_type": "code",
        "colab": {}
      },
      "source": [
        "output.reset_index(inplace=True)\n"
      ],
      "execution_count": 0,
      "outputs": []
    },
    {
      "cell_type": "code",
      "metadata": {
        "id": "7k4jZLCvtEUC",
        "colab_type": "code",
        "outputId": "045a52fd-4162-4bf1-f51f-f29cd04ab4c5",
        "colab": {
          "base_uri": "https://localhost:8080/",
          "height": 887
        }
      },
      "source": [
        "for i,cdc in enumerate(output['clause'][:10]):\n",
        "    print('Topic: ', output['context'][i])\n",
        "    print('cdc_present: ', output['cdc_present'][i])\n",
        "    print('predicted_cdc: ')\n",
        "    print(cdc)\n",
        "    print(\"\")\n"
      ],
      "execution_count": 0,
      "outputs": [
        {
          "output_type": "stream",
          "text": [
            "Topic:  right to bear arms\n",
            "cdc_present:  False\n",
            "predicted_cdc: \n",
            "restrictions on felon ownership of firearms did not violate this right\n",
            "\n",
            "Topic:  physical education\n",
            "cdc_present:  False\n",
            "predicted_cdc: \n",
            "only socialization that takes place explicitly\n",
            "\n",
            "Topic:  nuclear weapons\n",
            "cdc_present:  False\n",
            "predicted_cdc: \n",
            "not only does Pakistan lack the same energy requirements but that the track record of Pakistan as a nuclear proliferator makes it impossible for it to have any sort of nuclear deal in the near future\n",
            "\n",
            "Topic:  traid aid\n",
            "cdc_present:  False\n",
            "predicted_cdc: \n",
            "that all their efforts are coherent and have greater impact on reducing poverty\n",
            "\n",
            "Topic:  nuclear weapons\n",
            "cdc_present:  False\n",
            "predicted_cdc: \n",
            "it is unlikely that Iran would flatly ignore international reactions and develop nuclear weapons anyway\n",
            "\n",
            "Topic:  monarchy\n",
            "cdc_present:  False\n",
            "predicted_cdc: \n",
            " an egalitarian movement which had contributed greatly to Parliament's cause but sought representation for ordinary citizens\n",
            "\n",
            "Topic:  atheism\n",
            "cdc_present:  True\n",
            "predicted_cdc: \n",
            "Only those theories which refuse to acknowledge that there is evidence even for the existence of a God\n",
            "\n",
            "Topic:  atheism\n",
            "cdc_present:  False\n",
            "predicted_cdc: \n",
            "God was a necessary metaphysical assumption demanded by circumstances\n",
            "\n",
            "Topic:  atheism\n",
            "cdc_present:  False\n",
            "predicted_cdc: \n",
            "who take the view that theism is dangerous or destructive\n",
            "\n",
            "Topic:  affirmative aciton\n",
            "cdc_present:  False\n",
            "predicted_cdc: \n",
            "affirmative action goes beyond ensuring access and goes into the realm of preferential treatment\n",
            "\n"
          ],
          "name": "stdout"
        }
      ]
    },
    {
      "cell_type": "markdown",
      "metadata": {
        "id": "sD3rEZSArY-d",
        "colab_type": "text"
      },
      "source": [
        "## A look at the first 10 predictions:\n",
        "\n",
        "In the case of True positive predictions, the labeled CDC is in bold.  \n",
        "\n",
        "There is 1 true positive:\n",
        "\n",
        "* Only those theories which refuse to acknowledge that <strong>there is evidence even for the existence of a God</strong>\n",
        "\n",
        "Of the nine False Positives, at least 6 clauses clearly contain context dependent claims (in bold).\n",
        "\n",
        "* Topic: the right to bear arms\n",
        " * <strong>restrictions on felon ownership of firearms did not violate this right</strong>\n",
        "\n",
        "* Topic: trade aid\n",
        " * that all <strong>their efforts are coherent and have greater impact on reducing poverty</strong>\n",
        "* Topic: nuclear weapons\n",
        " * <strong>it is unlikely that Iran would flatly ignore international reactions and develop nuclear weapons anyway</strong>\n",
        "* Topic: atheism\n",
        " * <strong>God was a necessary metaphysical assumption demanded by circumstances</strong>\n",
        "* Topic: atheism\n",
        " * <strong>who take the view that theism is dangerous or destructive</strong>\n",
        "* Topic: affirmative action\n",
        " * <strong>affirmative action goes beyond ensuring access</strong> and goes into the realm of preferential treatment\n",
        "\n",
        "This may indicate the model performs better than we are currently able to measure due to potential labeling error.  While the potential for the existence of labeling error directs attention to the drawing board, this insight is very exciting."
      ]
    },
    {
      "cell_type": "code",
      "metadata": {
        "id": "TGe03ac8uvQw",
        "colab_type": "code",
        "colab": {}
      },
      "source": [
        ""
      ],
      "execution_count": 0,
      "outputs": []
    }
  ]
}