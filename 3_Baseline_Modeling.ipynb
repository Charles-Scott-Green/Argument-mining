{
  "nbformat": 4,
  "nbformat_minor": 0,
  "metadata": {
    "colab": {
      "name": "3 - Baseline Modeling",
      "provenance": [],
      "toc_visible": true,
      "machine_shape": "hm",
      "mount_file_id": "1D-MEwYCTyzvGKPMCt-246rIcb3aVMIch",
      "authorship_tag": "ABX9TyOv7jLqr+JlzAvD7xTXlyyt",
      "include_colab_link": true
    },
    "kernelspec": {
      "name": "python3",
      "display_name": "Python 3"
    },
    "accelerator": "GPU"
  },
  "cells": [
    {
      "cell_type": "markdown",
      "metadata": {
        "id": "view-in-github",
        "colab_type": "text"
      },
      "source": [
        "<a href=\"https://colab.research.google.com/github/Charles-Scott-Green/Argument-mining/blob/master/3_Baseline_Modeling.ipynb\" target=\"_parent\"><img src=\"https://colab.research.google.com/assets/colab-badge.svg\" alt=\"Open In Colab\"/></a>"
      ]
    },
    {
      "cell_type": "code",
      "metadata": {
        "id": "IVNiLVMYlIiw",
        "colab_type": "code",
        "colab": {}
      },
      "source": [
        ""
      ],
      "execution_count": 0,
      "outputs": []
    },
    {
      "cell_type": "code",
      "metadata": {
        "id": "D6kKdZxU2ONN",
        "colab_type": "code",
        "outputId": "5f5f6d5f-4f11-426f-b0ca-3c3018c6a4f8",
        "colab": {
          "base_uri": "https://localhost:8080/",
          "height": 85
        }
      },
      "source": [
        "!python -m spacy download en_core_web_lg --quiet"
      ],
      "execution_count": 0,
      "outputs": [
        {
          "output_type": "stream",
          "text": [
            "\u001b[K     |████████████████████████████████| 826.9MB 63.3MB/s \n",
            "\u001b[?25h  Building wheel for en-core-web-lg (setup.py) ... \u001b[?25l\u001b[?25hdone\n",
            "\u001b[38;5;2m✔ Download and installation successful\u001b[0m\n",
            "You can now load the model via spacy.load('en_core_web_lg')\n"
          ],
          "name": "stdout"
        }
      ]
    },
    {
      "cell_type": "code",
      "metadata": {
        "id": "yhs2wfKqLhCW",
        "colab_type": "code",
        "outputId": "04677074-2c60-4999-cbd6-409ce4fc9803",
        "colab": {
          "base_uri": "https://localhost:8080/",
          "height": 122
        }
      },
      "source": [
        "!pip install vaderSentiment"
      ],
      "execution_count": 0,
      "outputs": [
        {
          "output_type": "stream",
          "text": [
            "Collecting vaderSentiment\n",
            "\u001b[?25l  Downloading https://files.pythonhosted.org/packages/86/9e/c53e1fc61aac5ee490a6ac5e21b1ac04e55a7c2aba647bb8411c9aadf24e/vaderSentiment-3.2.1-py2.py3-none-any.whl (125kB)\n",
            "\r\u001b[K     |██▋                             | 10kB 22.6MB/s eta 0:00:01\r\u001b[K     |█████▏                          | 20kB 1.8MB/s eta 0:00:01\r\u001b[K     |███████▉                        | 30kB 2.2MB/s eta 0:00:01\r\u001b[K     |██████████▍                     | 40kB 1.7MB/s eta 0:00:01\r\u001b[K     |█████████████                   | 51kB 1.9MB/s eta 0:00:01\r\u001b[K     |███████████████▋                | 61kB 2.2MB/s eta 0:00:01\r\u001b[K     |██████████████████▎             | 71kB 2.4MB/s eta 0:00:01\r\u001b[K     |████████████████████▉           | 81kB 2.6MB/s eta 0:00:01\r\u001b[K     |███████████████████████▍        | 92kB 2.9MB/s eta 0:00:01\r\u001b[K     |██████████████████████████      | 102kB 2.7MB/s eta 0:00:01\r\u001b[K     |████████████████████████████▋   | 112kB 2.7MB/s eta 0:00:01\r\u001b[K     |███████████████████████████████▎| 122kB 2.7MB/s eta 0:00:01\r\u001b[K     |████████████████████████████████| 133kB 2.7MB/s \n",
            "\u001b[?25hInstalling collected packages: vaderSentiment\n",
            "Successfully installed vaderSentiment-3.2.1\n"
          ],
          "name": "stdout"
        }
      ]
    },
    {
      "cell_type": "code",
      "metadata": {
        "id": "lRmqarKsMknz",
        "colab_type": "code",
        "outputId": "2ce56857-e1c6-4529-b9c0-858244ffa739",
        "colab": {
          "base_uri": "https://localhost:8080/",
          "height": 463
        }
      },
      "source": [
        "!pip install spacy-wordnet"
      ],
      "execution_count": 0,
      "outputs": [
        {
          "output_type": "stream",
          "text": [
            "Collecting spacy-wordnet\n",
            "\u001b[?25l  Downloading https://files.pythonhosted.org/packages/f7/f2/4d8070df0f7a7a9eeed74eb7e9ce3cf41349eb5e06b1e088de9eeca630e2/spacy-wordnet-0.0.4.tar.gz (648kB)\n",
            "\u001b[K     |████████████████████████████████| 655kB 2.7MB/s \n",
            "\u001b[?25hCollecting nltk<3.4,>=3.3\n",
            "\u001b[?25l  Downloading https://files.pythonhosted.org/packages/50/09/3b1755d528ad9156ee7243d52aa5cd2b809ef053a0f31b53d92853dd653a/nltk-3.3.0.zip (1.4MB)\n",
            "\u001b[K     |████████████████████████████████| 1.4MB 14.4MB/s \n",
            "\u001b[?25hRequirement already satisfied: six in /usr/local/lib/python3.6/dist-packages (from nltk<3.4,>=3.3->spacy-wordnet) (1.12.0)\n",
            "Building wheels for collected packages: spacy-wordnet, nltk\n",
            "  Building wheel for spacy-wordnet (setup.py) ... \u001b[?25l\u001b[?25hdone\n",
            "  Created wheel for spacy-wordnet: filename=spacy_wordnet-0.0.4-py2.py3-none-any.whl size=650292 sha256=13aadb7c684bb7162ef055850a9c30a1baa12962ff2fff62b50539e4dd0f192d\n",
            "  Stored in directory: /root/.cache/pip/wheels/25/93/1d/c86db913cd146fc9ddb26d10f56579c5d58a3e00bc8f96a3a6\n",
            "  Building wheel for nltk (setup.py) ... \u001b[?25l\u001b[?25hdone\n",
            "  Created wheel for nltk: filename=nltk-3.3-cp36-none-any.whl size=1394470 sha256=67f01727ce9fef3fa55a377ebcd489f985481953fd5257e8c7618fdcad51ab93\n",
            "  Stored in directory: /root/.cache/pip/wheels/d1/ab/40/3bceea46922767e42986aef7606a600538ca80de6062dc266c\n",
            "Successfully built spacy-wordnet nltk\n",
            "Installing collected packages: nltk, spacy-wordnet\n",
            "  Found existing installation: nltk 3.2.5\n",
            "    Uninstalling nltk-3.2.5:\n",
            "      Successfully uninstalled nltk-3.2.5\n",
            "Successfully installed nltk-3.3 spacy-wordnet-0.0.4\n"
          ],
          "name": "stdout"
        },
        {
          "output_type": "display_data",
          "data": {
            "application/vnd.colab-display-data+json": {
              "pip_warning": {
                "packages": [
                  "nltk"
                ]
              }
            }
          },
          "metadata": {
            "tags": []
          }
        }
      ]
    },
    {
      "cell_type": "markdown",
      "metadata": {
        "id": "RhEfzrnxNMrc",
        "colab_type": "text"
      },
      "source": [
        "## Import Libraries and initialize settings"
      ]
    },
    {
      "cell_type": "code",
      "metadata": {
        "colab_type": "code",
        "id": "GSYnqJzHSejM",
        "colab": {}
      },
      "source": [
        "import pandas as pd\n",
        "import numpy as np\n",
        "import matplotlib.pyplot as plt\n",
        "import seaborn as sns\n",
        "\n",
        "sns.set()"
      ],
      "execution_count": 0,
      "outputs": []
    },
    {
      "cell_type": "code",
      "metadata": {
        "id": "Yl6yZVn_kZhF",
        "colab_type": "code",
        "colab": {}
      },
      "source": [
        "import re\n",
        "import string\n",
        "import math\n",
        "from tqdm import tqdm"
      ],
      "execution_count": 0,
      "outputs": []
    },
    {
      "cell_type": "code",
      "metadata": {
        "id": "lUJVBAVoPVlF",
        "colab_type": "code",
        "colab": {}
      },
      "source": [
        "import nltk\n",
        "from nltk import pos_tag\n",
        "from nltk.corpus import wordnet as wn\n",
        "from nltk.tokenize import sent_tokenize, word_tokenize\n",
        "from pprint import pprint\n",
        "from nltk.tokenize.punkt import PunktSentenceTokenizer, PunktTrainer"
      ],
      "execution_count": 0,
      "outputs": []
    },
    {
      "cell_type": "code",
      "metadata": {
        "id": "A3eRocMNq8MK",
        "colab_type": "code",
        "outputId": "536365d6-6831-450b-fc78-1e572eb034e0",
        "colab": {
          "base_uri": "https://localhost:8080/",
          "height": 204
        }
      },
      "source": [
        "import nltk\n",
        "nltk.download('punkt')\n",
        "nltk.download('wordnet')\n",
        "nltk.download('averaged_perceptron_tagger')\n",
        "nltk.download('omw')"
      ],
      "execution_count": 0,
      "outputs": [
        {
          "output_type": "stream",
          "text": [
            "[nltk_data] Downloading package punkt to /root/nltk_data...\n",
            "[nltk_data]   Package punkt is already up-to-date!\n",
            "[nltk_data] Downloading package wordnet to /root/nltk_data...\n",
            "[nltk_data]   Package wordnet is already up-to-date!\n",
            "[nltk_data] Downloading package averaged_perceptron_tagger to\n",
            "[nltk_data]     /root/nltk_data...\n",
            "[nltk_data]   Package averaged_perceptron_tagger is already up-to-\n",
            "[nltk_data]       date!\n",
            "[nltk_data] Downloading package omw to /root/nltk_data...\n",
            "[nltk_data]   Package omw is already up-to-date!\n"
          ],
          "name": "stdout"
        },
        {
          "output_type": "execute_result",
          "data": {
            "text/plain": [
              "True"
            ]
          },
          "metadata": {
            "tags": []
          },
          "execution_count": 4
        }
      ]
    },
    {
      "cell_type": "code",
      "metadata": {
        "id": "6HiWGQu21GJB",
        "colab_type": "code",
        "colab": {}
      },
      "source": [
        "import spacy\n",
        "from spacy.matcher import Matcher \n",
        "from spacy.tokens import Span \n",
        "from spacy import displacy \n",
        "from spacy.lang.en.stop_words import STOP_WORDS\n",
        "from spacy_wordnet.wordnet_annotator import WordnetAnnotator\n",
        "\n",
        "nlp = spacy.load(\"en_core_web_lg\")\n",
        "nlp.add_pipe(WordnetAnnotator(nlp.lang), after='tagger')"
      ],
      "execution_count": 0,
      "outputs": []
    },
    {
      "cell_type": "code",
      "metadata": {
        "colab_type": "code",
        "id": "Io5DnzmbSejc",
        "colab": {}
      },
      "source": [
        "import warnings\n",
        "from vaderSentiment.vaderSentiment import SentimentIntensityAnalyzer\n",
        "warnings.filterwarnings('ignore')"
      ],
      "execution_count": 0,
      "outputs": []
    },
    {
      "cell_type": "code",
      "metadata": {
        "colab_type": "code",
        "id": "AL_RMi-vSeje",
        "colab": {}
      },
      "source": [
        "from sklearn.model_selection import train_test_split as tts \n",
        "from sklearn.ensemble import RandomForestClassifier, GradientBoostingClassifier\n",
        "from sklearn.linear_model import LogisticRegression, LogisticRegressionCV\n",
        "from sklearn.model_selection import GridSearchCV, cross_val_score\n",
        "from sklearn.metrics import confusion_matrix, recall_score, precision_score\n",
        "from sklearn.preprocessing import StandardScaler\n",
        "\n",
        "import lightgbm as lgb\n",
        "\n",
        "from imblearn.over_sampling import SMOTE"
      ],
      "execution_count": 0,
      "outputs": []
    },
    {
      "cell_type": "code",
      "metadata": {
        "id": "XTJpPRQd4_BZ",
        "colab_type": "code",
        "colab": {}
      },
      "source": [
        "from patsy import dmatrices\n",
        "import statsmodels.api as sm\n",
        "from statsmodels.stats.outliers_influence import variance_inflation_factor\n",
        "\n",
        "import pickle"
      ],
      "execution_count": 0,
      "outputs": []
    },
    {
      "cell_type": "markdown",
      "metadata": {
        "id": "2pO-RYWArLwR",
        "colab_type": "text"
      },
      "source": [
        "## Define Functions"
      ]
    },
    {
      "cell_type": "code",
      "metadata": {
        "id": "w6-oNHlwo1l1",
        "colab_type": "code",
        "colab": {}
      },
      "source": [
        "def get_target_data(path):\n",
        "    df = pd.read_csv(path)\n",
        "    df['cdc_present'] = (df['cdc'] != '---').astype(int)\n",
        "\n",
        "    return df['cdc_present']"
      ],
      "execution_count": 0,
      "outputs": []
    },
    {
      "cell_type": "code",
      "metadata": {
        "id": "1eXoZatbBZbo",
        "colab_type": "code",
        "colab": {}
      },
      "source": [
        "def topic_domains(topic):\n",
        "    raw_domains = []\n",
        "    common_domains = []\n",
        "\n",
        "    for chunk in nlp(topic).noun_chunks:\n",
        "        rt_nn = chunk.root\n",
        "        raw_domains.append(rt_nn._.wordnet.wordnet_domains())\n",
        "\n",
        "    if len(raw_domains) > 0:\n",
        "        reference = raw_domains[0]\n",
        "    else:\n",
        "        return list(raw_domains)\n",
        "        \n",
        "    for domain in raw_domains:\n",
        "        common_domains = set(reference) & set(domain)\n",
        "        \n",
        "    return list(common_domains)"
      ],
      "execution_count": 0,
      "outputs": []
    },
    {
      "cell_type": "code",
      "metadata": {
        "id": "cEPeCEFS5l_n",
        "colab_type": "code",
        "colab": {}
      },
      "source": [
        "def expanded_sentence_similarity(topic, sentence):\n",
        "    \n",
        "    extended_topic = []\n",
        "    domains = topic_domains(topic)\n",
        "    \n",
        "    if len(domains) < 1:\n",
        "        return nlp(topic).similarity(nlp(sentence))\n",
        "    else:\n",
        "        for token in nlp(topic):\n",
        "            synsets = token._.wordnet.wordnet_synsets_for_domain(domains)\n",
        "            if synsets: \n",
        "                lfs = []\n",
        "                for syn in synsets:\n",
        "                    lfs.extend(syn.lemma_names())\n",
        "                    extended_topic.append('({})'.format('|'.join(set(lfs))))\n",
        "            else:\n",
        "                extended_topic.append(token.text)\n",
        "\n",
        "        tokenized_extended_topic = nlp(' '.join(extended_topic))\n",
        "\n",
        "    return tokenized_extended_topic.similarity(nlp(sentence))            "
      ],
      "execution_count": 0,
      "outputs": []
    },
    {
      "cell_type": "code",
      "metadata": {
        "id": "NyPM1vywDc49",
        "colab_type": "code",
        "colab": {}
      },
      "source": [
        "def subject_match(topic, sentence):\n",
        "    \n",
        "    ntopic = nlp(topic)\n",
        "    scores = []\n",
        "    for chunk in nlp(sentence).noun_chunks:\n",
        "        scores.append(chunk.similarity(ntopic))\n",
        "    \n",
        "    return np.mean(scores)"
      ],
      "execution_count": 0,
      "outputs": []
    },
    {
      "cell_type": "code",
      "metadata": {
        "id": "bciyullS1Qhj",
        "colab_type": "code",
        "colab": {}
      },
      "source": [
        "def subject_match2(topic, sentence):\n",
        "    \n",
        "    ntopic = nlp(topic)\n",
        "    scores = []\n",
        "    for chnk in nlp(sentence).noun_chunks:\n",
        "        for tchnk in ntopic.noun_chunks:\n",
        "            scores.append(chnk.similarity(tchnk))\n",
        "    \n",
        "    return np.mean(scores)"
      ],
      "execution_count": 0,
      "outputs": []
    },
    {
      "cell_type": "code",
      "metadata": {
        "id": "JfPZ9FUAxeAb",
        "colab_type": "code",
        "colab": {}
      },
      "source": [
        "def includes_that(sentence):\n",
        "    check = []\n",
        "    for tok in sentence:\n",
        "        if tok.tag_ == 'IN':\n",
        "            check.append(tok.text)\n",
        "    if 'that' in check:\n",
        "        return 1\n",
        "    else:\n",
        "        return 0"
      ],
      "execution_count": 0,
      "outputs": []
    },
    {
      "cell_type": "code",
      "metadata": {
        "id": "XmneTg_p98Ze",
        "colab_type": "code",
        "colab": {}
      },
      "source": [
        "def patterns(sentence, pattern_type='dep'):\n",
        "    \n",
        "    pat = []\n",
        "    if pattern_type == 'dep':\n",
        "        pat = [tok.dep_ for tok in sentence]\n",
        "    elif pattern_type == 'tag':\n",
        "        pat = [tok.tag_ for tok in sentence]\n",
        "    \n",
        "    return '|'.join(pat)"
      ],
      "execution_count": 0,
      "outputs": []
    },
    {
      "cell_type": "code",
      "metadata": {
        "id": "qBm0yoGxC2dO",
        "colab_type": "code",
        "colab": {}
      },
      "source": [
        "def pos_pattern(sentence):\n",
        "    pat = []\n",
        "    for tok in sentence:\n",
        "        pat.append(tok.pos_)\n",
        "\n",
        "    return '|'.join(pat)\n"
      ],
      "execution_count": 0,
      "outputs": []
    },
    {
      "cell_type": "code",
      "metadata": {
        "id": "8LDjYaZoEynE",
        "colab_type": "code",
        "colab": {}
      },
      "source": [
        "def pattern_in_text(pattern, sentence):\n",
        "    text_pattern = pos_pattern(sentence)\n",
        "\n",
        "    if pattern in text_pattern:\n",
        "        return 1\n",
        "    else:\n",
        "        return 0"
      ],
      "execution_count": 0,
      "outputs": []
    },
    {
      "cell_type": "code",
      "metadata": {
        "id": "WsALWpSqU57G",
        "colab_type": "code",
        "colab": {}
      },
      "source": [
        "def infinitive_verb_present(sentence):\n",
        "    text_pattern = pos_pattern(sentence)\n",
        "    infinitive_pattern = 'PART|VERB'\n",
        "\n",
        "    if infinitive_pattern in text_pattern:\n",
        "        return 1\n",
        "    else:\n",
        "        return 0\n"
      ],
      "execution_count": 0,
      "outputs": []
    },
    {
      "cell_type": "code",
      "metadata": {
        "id": "aNQdINpkDV4h",
        "colab_type": "code",
        "colab": {}
      },
      "source": [
        "def sentiment_subjectivity(sentence, score_type='sentiment'):\n",
        "    analyzer = SentimentIntensityAnalyzer()\n",
        "\n",
        "    if score_type == 'sentiment':\n",
        "        pos = analyzer.polarity_scores(sentence)['pos']\n",
        "        neg = analyzer.polarity_scores(sentence)['neg']\n",
        "        return pos/neg\n",
        "    \n",
        "    else:\n",
        "        return analyzer.polarity_scores(sentence)['compound']"
      ],
      "execution_count": 0,
      "outputs": []
    },
    {
      "cell_type": "code",
      "metadata": {
        "id": "GTmm35Dc1gTn",
        "colab_type": "code",
        "colab": {}
      },
      "source": [
        "def is_sentence(clause):\n",
        "    nn = 2\n",
        "    vb = 1\n",
        "    cls = nlp(clause)\n",
        "    for tok in cls:\n",
        "        if tok.pos_ in ['NOUN', 'PROPN', 'PRON']:\n",
        "            nn -= 1\n",
        "        elif tok.pos_ in ['VERB']:\n",
        "            vb -= 1\n",
        "    if nn < 1 and vb < 1:\n",
        "        return True\n",
        "    else:\n",
        "        return False"
      ],
      "execution_count": 0,
      "outputs": []
    },
    {
      "cell_type": "code",
      "metadata": {
        "id": "MBlrGISWuJIt",
        "colab_type": "code",
        "colab": {}
      },
      "source": [
        "def get_clauses(sentence):\n",
        "    \"\"\"Sentence type is a string.\"\"\"\n",
        "    subtree_phrases = []\n",
        "    \n",
        "    for tok in nlp(sentence):\n",
        "        if tok.head.pos_ == 'VERB':\n",
        "            if len([tok for tok in tok.subtree]) >= 3:\n",
        "                subtree_prhase = ''.join(tok.text_with_ws for tok in tok.subtree)\n",
        "                if subtree_prhase != sentence:\n",
        "                    if is_sentence(subtree_prhase):\n",
        "                        splits = subtree_prhase.split(',')\n",
        "                        if len(splits) == 1:\n",
        "                            subtree_phrases.append(subtree_prhase)\n",
        "                        else:\n",
        "                            for split in splits:\n",
        "                                if is_sentence(split):\n",
        "                                    if split not in subtree_phrases:\n",
        "                                        subtree_phrases.append(split) \n",
        "    \n",
        "    raw_clauses = []\n",
        "    clauses = []\n",
        "\n",
        "    for phrase in subtree_phrases:\n",
        "        tok_phrase = nlp(phrase)\n",
        "        for chunk in tok_phrase.noun_chunks:\n",
        "            span = tok_phrase[chunk.root.head.left_edge.i:chunk.root.head.right_edge.i+1]\n",
        "            if span[0].pos_ in ['DET', 'ADP']:\n",
        "                if span[1:].text not in raw_clauses:\n",
        "                    if is_sentence(span[1:].text):\n",
        "                        raw_clauses.append(span[1:].text)\n",
        "            elif span.text not in raw_clauses:\n",
        "                if is_sentence(span.text):\n",
        "                    raw_clauses.append(span.text)\n",
        "    \n",
        "    if len(raw_clauses) == 0:\n",
        "        clauses.append(sentence)\n",
        "    else:\n",
        "        for clause in raw_clauses:\n",
        "            dup_checks = [(clause in check_clause) for check_clause in raw_clauses]\n",
        "            if sum(dup_checks) == 1:\n",
        "                clauses.append(clause)\n",
        "                \n",
        "    return clauses"
      ],
      "execution_count": 0,
      "outputs": []
    },
    {
      "cell_type": "code",
      "metadata": {
        "id": "Ud9h4KuFNEyP",
        "colab_type": "code",
        "colab": {}
      },
      "source": [
        "def conf_matrix(y_true, y_predict):\n",
        "    \n",
        "    from sklearn.metrics import confusion_matrix\n",
        "    \n",
        "    data = confusion_matrix(y_true, y_predict)\n",
        "    index = ['Actual_0', 'Actual_1']\n",
        "    columns = ['Predicted_0', 'Predicted_1']\n",
        "    \n",
        "    return pd.DataFrame(data, index, columns)"
      ],
      "execution_count": 0,
      "outputs": []
    },
    {
      "cell_type": "code",
      "metadata": {
        "id": "ioFrxxxPT_Xm",
        "colab_type": "code",
        "colab": {}
      },
      "source": [
        "def get_target_data(path):\n",
        "    df = pd.read_csv(path)\n",
        "    df['cdc_present'] = (df['cdc'] != '---').astype(int)\n",
        "\n",
        "    return df['cdc_present']"
      ],
      "execution_count": 0,
      "outputs": []
    },
    {
      "cell_type": "code",
      "metadata": {
        "id": "9bJkmtsrXjJP",
        "colab_type": "code",
        "colab": {}
      },
      "source": [
        "def count_sentiment_words(sentence):\n",
        "    analyzer = SentimentIntensityAnalyzer()\n",
        "    wd_cnt = 0\n",
        "\n",
        "    for tok in nlp(sentence):\n",
        "        if analyzer.polarity_scores(tok.text)['compound'] != 0:\n",
        "            wd_cnt += 1\n",
        "\n",
        "    return wd_cnt"
      ],
      "execution_count": 0,
      "outputs": []
    },
    {
      "cell_type": "code",
      "metadata": {
        "id": "BZObCjI4Xi8X",
        "colab_type": "code",
        "colab": {}
      },
      "source": [
        "def count_syllables(sentence):\n",
        "    \"\"\"Given a string, calculates and returns the number of syllables of the word.\"\"\"\n",
        "    import string\n",
        "    \n",
        "    word_list = sentence.translate(string.punctuation).split()\n",
        "    vowels = \"aeiouy\"\n",
        "    tally = 0\n",
        "    \n",
        "    for word in word_list:\n",
        "        word = word.lower()\n",
        "        vowels = \"aeiouy\"\n",
        "        count = 0\n",
        "        \n",
        "        if word[0] in vowels:\n",
        "            count += 1\n",
        "\n",
        "        for i in range(1, len(word)):\n",
        "            if word[i] in vowels and word[i - 1] not in vowels:\n",
        "                count += 1\n",
        "\n",
        "        if word.endswith('e'):\n",
        "            count -= 1\n",
        "\n",
        "        if count == 0:\n",
        "            count += 1\n",
        "    \n",
        "        tally += count\n",
        "    \n",
        "    return tally"
      ],
      "execution_count": 0,
      "outputs": []
    },
    {
      "cell_type": "code",
      "metadata": {
        "id": "3JB4e6FfXivO",
        "colab_type": "code",
        "colab": {}
      },
      "source": [
        "def punct_marks(sentence):\n",
        "    \"\"\"Given a sentence, returns count and/or list of punctiation marks\"\"\"\n",
        "    \n",
        "    pm = []\n",
        "    \n",
        "    for tok in nlp(sentence):\n",
        "        if tok.pos_ == 'PUNCT':\n",
        "            pm.append(tok)\n",
        "    return len(pm)"
      ],
      "execution_count": 0,
      "outputs": []
    },
    {
      "cell_type": "code",
      "metadata": {
        "id": "KGQyY_WIXimq",
        "colab_type": "code",
        "colab": {}
      },
      "source": [
        "def noun_counts(sentence):\n",
        "    \n",
        "    chnk = []\n",
        "    \n",
        "    for chunk in nlp(sentence).noun_chunks:\n",
        "        chnk.append(chunk)\n",
        "\n",
        "    return len(chnk)"
      ],
      "execution_count": 0,
      "outputs": []
    },
    {
      "cell_type": "code",
      "metadata": {
        "id": "QFxyYhI4Xidd",
        "colab_type": "code",
        "colab": {}
      },
      "source": [
        "def word_count(sentence):\n",
        "    wds = []\n",
        "    for tok in nlp(sentence):\n",
        "        if tok.pos_ != 'PUNCT':\n",
        "            wds.append(tok)\n",
        "    return len(wds)"
      ],
      "execution_count": 0,
      "outputs": []
    },
    {
      "cell_type": "code",
      "metadata": {
        "id": "xx9h2Qo8XiMg",
        "colab_type": "code",
        "colab": {}
      },
      "source": [
        "def phrase_chunks(sentence):\n",
        "    s = []\n",
        "    for tok in nlp(sentence):\n",
        "        if len([tok for tok in tok.subtree]) >=3:\n",
        "            if ''.join(tok.text_with_ws for tok in tok.subtree) != str(sentence):\n",
        "                s.append(''.join(tok.text_with_ws for tok in tok.subtree))\n",
        "    return len(s)"
      ],
      "execution_count": 0,
      "outputs": []
    },
    {
      "cell_type": "markdown",
      "metadata": {
        "id": "3VFxBsrymNDp",
        "colab_type": "text"
      },
      "source": [
        "## Load Dataframe"
      ]
    },
    {
      "cell_type": "code",
      "metadata": {
        "id": "46-Iw0k9loNM",
        "colab_type": "code",
        "colab": {}
      },
      "source": [
        "# paths to data\n",
        "path = '/content/drive/My Drive/Colab Notebooks/Thinkful/Module 34 - Final Capstone/data/CDC Detection/cleaned.csv'\n",
        "\n",
        "df = pd.read_csv(path)"
      ],
      "execution_count": 0,
      "outputs": []
    },
    {
      "cell_type": "code",
      "metadata": {
        "id": "LNrQOvPcm7Zf",
        "colab_type": "code",
        "outputId": "7aae18c0-2352-434c-dce2-61c90d786bd9",
        "colab": {
          "base_uri": "https://localhost:8080/",
          "height": 751
        }
      },
      "source": [
        "df.head()"
      ],
      "execution_count": 0,
      "outputs": [
        {
          "output_type": "execute_result",
          "data": {
            "text/html": [
              "<div>\n",
              "<style scoped>\n",
              "    .dataframe tbody tr th:only-of-type {\n",
              "        vertical-align: middle;\n",
              "    }\n",
              "\n",
              "    .dataframe tbody tr th {\n",
              "        vertical-align: top;\n",
              "    }\n",
              "\n",
              "    .dataframe thead th {\n",
              "        text-align: right;\n",
              "    }\n",
              "</style>\n",
              "<table border=\"1\" class=\"dataframe\">\n",
              "  <thead>\n",
              "    <tr style=\"text-align: right;\">\n",
              "      <th></th>\n",
              "      <th>Unnamed: 0</th>\n",
              "      <th>Unnamed: 0.1</th>\n",
              "      <th>text</th>\n",
              "      <th>topic</th>\n",
              "      <th>article</th>\n",
              "      <th>cdc</th>\n",
              "      <th>cdc_present</th>\n",
              "      <th>context</th>\n",
              "      <th>text_words</th>\n",
              "      <th>text_syllables</th>\n",
              "      <th>text_sentiment_words</th>\n",
              "      <th>text_punctuation</th>\n",
              "      <th>text_nouns</th>\n",
              "      <th>text_phrases</th>\n",
              "      <th>sent_rat</th>\n",
              "      <th>clauses</th>\n",
              "      <th>num_clauses</th>\n",
              "      <th>claused_sentence</th>\n",
              "      <th>context_similarity</th>\n",
              "      <th>expanded_similarity</th>\n",
              "      <th>subjectivity_score</th>\n",
              "    </tr>\n",
              "  </thead>\n",
              "  <tbody>\n",
              "    <tr>\n",
              "      <th>0</th>\n",
              "      <td>0</td>\n",
              "      <td>0</td>\n",
              "      <td>Deficit spending is the amount by which a gove...</td>\n",
              "      <td>Europe should weaken its austerity measures to...</td>\n",
              "      <td>Deficit spending</td>\n",
              "      <td>---</td>\n",
              "      <td>False</td>\n",
              "      <td>austerity measures</td>\n",
              "      <td>35</td>\n",
              "      <td>67</td>\n",
              "      <td>3</td>\n",
              "      <td>10</td>\n",
              "      <td>10</td>\n",
              "      <td>12</td>\n",
              "      <td>0.085714</td>\n",
              "      <td>[\" or individual's spending exceeds income ove...</td>\n",
              "      <td>1</td>\n",
              "      <td>or individual's spending exceeds income over ...</td>\n",
              "      <td>0.326836</td>\n",
              "      <td>0.259504</td>\n",
              "      <td>0.0000</td>\n",
              "    </tr>\n",
              "    <tr>\n",
              "      <th>1</th>\n",
              "      <td>1</td>\n",
              "      <td>1</td>\n",
              "      <td>Government deficit spending is a central point...</td>\n",
              "      <td>Europe should weaken its austerity measures to...</td>\n",
              "      <td>Deficit spending</td>\n",
              "      <td>---</td>\n",
              "      <td>False</td>\n",
              "      <td>austerity measures</td>\n",
              "      <td>14</td>\n",
              "      <td>29</td>\n",
              "      <td>1</td>\n",
              "      <td>2</td>\n",
              "      <td>4</td>\n",
              "      <td>5</td>\n",
              "      <td>0.071429</td>\n",
              "      <td>['Government deficit spending is a central poi...</td>\n",
              "      <td>1</td>\n",
              "      <td>Government deficit spending is a central point...</td>\n",
              "      <td>0.373849</td>\n",
              "      <td>0.267986</td>\n",
              "      <td>-0.4019</td>\n",
              "    </tr>\n",
              "    <tr>\n",
              "      <th>2</th>\n",
              "      <td>2</td>\n",
              "      <td>2</td>\n",
              "      <td>Government deficit spending is a central point...</td>\n",
              "      <td>Europe should weaken its austerity measures to...</td>\n",
              "      <td>Deficit spending</td>\n",
              "      <td>---</td>\n",
              "      <td>False</td>\n",
              "      <td>austerity measures</td>\n",
              "      <td>17</td>\n",
              "      <td>37</td>\n",
              "      <td>2</td>\n",
              "      <td>2</td>\n",
              "      <td>6</td>\n",
              "      <td>6</td>\n",
              "      <td>0.117647</td>\n",
              "      <td>['prominent economists holding differing views']</td>\n",
              "      <td>1</td>\n",
              "      <td>prominent economists holding differing views</td>\n",
              "      <td>0.267243</td>\n",
              "      <td>0.106333</td>\n",
              "      <td>0.3182</td>\n",
              "    </tr>\n",
              "    <tr>\n",
              "      <th>3</th>\n",
              "      <td>3</td>\n",
              "      <td>3</td>\n",
              "      <td>The mainstream economics position is that defi...</td>\n",
              "      <td>Europe should weaken its austerity measures to...</td>\n",
              "      <td>Deficit spending</td>\n",
              "      <td>---</td>\n",
              "      <td>False</td>\n",
              "      <td>austerity measures</td>\n",
              "      <td>66</td>\n",
              "      <td>122</td>\n",
              "      <td>7</td>\n",
              "      <td>7</td>\n",
              "      <td>15</td>\n",
              "      <td>22</td>\n",
              "      <td>0.106061</td>\n",
              "      <td>['deficit spending is desirable and necessary ...</td>\n",
              "      <td>4</td>\n",
              "      <td>deficit spending is desirable and necessary as...</td>\n",
              "      <td>0.461772</td>\n",
              "      <td>0.240641</td>\n",
              "      <td>-0.9280</td>\n",
              "    </tr>\n",
              "    <tr>\n",
              "      <th>4</th>\n",
              "      <td>4</td>\n",
              "      <td>4</td>\n",
              "      <td>This is derived from Keynesian economics, and ...</td>\n",
              "      <td>Europe should weaken its austerity measures to...</td>\n",
              "      <td>Deficit spending</td>\n",
              "      <td>---</td>\n",
              "      <td>False</td>\n",
              "      <td>austerity measures</td>\n",
              "      <td>34</td>\n",
              "      <td>64</td>\n",
              "      <td>3</td>\n",
              "      <td>5</td>\n",
              "      <td>6</td>\n",
              "      <td>11</td>\n",
              "      <td>0.088235</td>\n",
              "      <td>['has been the mainstream economics view (in t...</td>\n",
              "      <td>1</td>\n",
              "      <td>has been the mainstream economics view (in the...</td>\n",
              "      <td>0.318571</td>\n",
              "      <td>0.306673</td>\n",
              "      <td>0.3612</td>\n",
              "    </tr>\n",
              "  </tbody>\n",
              "</table>\n",
              "</div>"
            ],
            "text/plain": [
              "   Unnamed: 0  Unnamed: 0.1  ... expanded_similarity subjectivity_score\n",
              "0           0             0  ...            0.259504             0.0000\n",
              "1           1             1  ...            0.267986            -0.4019\n",
              "2           2             2  ...            0.106333             0.3182\n",
              "3           3             3  ...            0.240641            -0.9280\n",
              "4           4             4  ...            0.306673             0.3612\n",
              "\n",
              "[5 rows x 21 columns]"
            ]
          },
          "metadata": {
            "tags": []
          },
          "execution_count": 31
        }
      ]
    },
    {
      "cell_type": "code",
      "metadata": {
        "id": "kuM-_vkTVJiI",
        "colab_type": "code",
        "colab": {}
      },
      "source": [
        "# vectorize text\n",
        "txt = [nlp(sentence) for sentence in df['text']]\n",
        "v_txt = [t.vector for t in txt]"
      ],
      "execution_count": 0,
      "outputs": []
    },
    {
      "cell_type": "code",
      "metadata": {
        "id": "jbILAgzhVvGa",
        "colab_type": "code",
        "colab": {}
      },
      "source": [
        "cxt = [nlp(sentence) for sentence in df['context']]\n",
        "v_cxt = [t.vector for t in cxt]"
      ],
      "execution_count": 0,
      "outputs": []
    },
    {
      "cell_type": "markdown",
      "metadata": {
        "id": "O9kJyQzjnBtS",
        "colab_type": "text"
      },
      "source": [
        "## Preprocessing"
      ]
    },
    {
      "cell_type": "code",
      "metadata": {
        "id": "iMTLj7cidq-L",
        "colab_type": "code",
        "colab": {}
      },
      "source": [
        "txt_vects = pd.DataFrame(v_txt)\n",
        "txt_vects.columns = ['txt_'+str(col) for col in txt_vects.columns]\n",
        "\n",
        "cxt_vects = pd.DataFrame(v_cxt)\n",
        "cxt_vects.columns = ['cxt_'+str(col) for col in cxt_vects.columns]\n",
        "\n",
        "X = pd.concat([txt_vects, cxt_vects], axis=1)\n",
        "y = df['cdc_present']"
      ],
      "execution_count": 0,
      "outputs": []
    },
    {
      "cell_type": "code",
      "metadata": {
        "id": "0G-5rs8-m863",
        "colab_type": "code",
        "colab": {}
      },
      "source": [
        "# Initialize SMOTE for class imbalance handling\n",
        "sm = SMOTE(random_state=42)\n",
        "\n",
        "# Split features,target into train/test sets\n",
        "X_trn, X_tst, y_trn, y_tst = tts(txt_vects, y, test_size=0.25, random_state=42)\n",
        "\n",
        "# resample train set\n",
        "X_res, y_res = sm.fit_resample(X_trn, y_trn)\n"
      ],
      "execution_count": 0,
      "outputs": []
    },
    {
      "cell_type": "markdown",
      "metadata": {
        "id": "c9p5RbcHqrOR",
        "colab_type": "text"
      },
      "source": [
        "## Modeling"
      ]
    },
    {
      "cell_type": "markdown",
      "metadata": {
        "id": "adJF5IEsqyDk",
        "colab_type": "text"
      },
      "source": [
        "### Baseline\n",
        "\n",
        "This initial model will use only vectorize full text and context features."
      ]
    },
    {
      "cell_type": "markdown",
      "metadata": {
        "id": "e1jmElSeMOQv",
        "colab_type": "text"
      },
      "source": [
        "#### First pass"
      ]
    },
    {
      "cell_type": "code",
      "metadata": {
        "id": "KF6sd_n3qi0s",
        "colab_type": "code",
        "outputId": "7f8c3ed6-c7ce-4b6a-fedb-acabd70c87ff",
        "colab": {
          "base_uri": "https://localhost:8080/",
          "height": 476
        }
      },
      "source": [
        "lr = LogisticRegression()\n",
        "rf = RandomForestClassifier()\n",
        "lb = lgb.LGBMClassifier()\n",
        "\n",
        "lr.fit(X_res, y_res)\n",
        "rf.fit(X_res, y_res)\n",
        "lb.fit(X_res, y_res)\n",
        "\n",
        "pn_lr = lr.predict(X_trn)\n",
        "pt_lr = lr.predict(X_tst)\n",
        "pn_rf = rf.predict(X_trn)\n",
        "pt_rf = rf.predict(X_tst)\n",
        "pn_lb = lb.predict(X_trn)\n",
        "pt_lb = lb.predict(X_tst)\n",
        "\n",
        "print(\"\\n----------------------LR Scores----------------------\")\n",
        "print('Training set score:', lr.score(X_trn, y_trn))\n",
        "print('Training precision:', precision_score(y_trn, pn_lr))\n",
        "print('Training recall:', recall_score(y_trn, pn_lr))\n",
        "print('\\nTest set score:', lr.score(X_tst, y_tst))\n",
        "print('Test precision:', precision_score(y_tst, pt_lr))\n",
        "print('Test recall:', recall_score(y_tst, pt_lr))\n",
        "print(\"\\n----------------------LR Scores----------------------\")\n",
        "print('Training set score:', rf.score(X_trn, y_trn))\n",
        "print('Training precision:', precision_score(y_trn, pn_rf))\n",
        "print('Training recall:', recall_score(y_trn, pn_rf))\n",
        "print('\\nTest set score:', rf.score(X_tst, y_tst))\n",
        "print('Test precision:', precision_score(y_tst, pt_rf))\n",
        "print('Test recall:', recall_score(y_tst, pt_rf))\n",
        "print(\"\\n----------------------LR Scores----------------------\")\n",
        "print('Training set score:', lb.score(X_trn, y_trn))\n",
        "print('Training precision:', precision_score(y_trn, pn_lb))\n",
        "print('Training recall:', recall_score(y_trn, pn_lb))\n",
        "print('\\nTest set score:', lb.score(X_tst, y_tst))\n",
        "print('Test precision:', precision_score(y_tst, pt_lb))\n",
        "print('Test recall:', recall_score(y_tst, pt_lb))"
      ],
      "execution_count": 0,
      "outputs": [
        {
          "output_type": "stream",
          "text": [
            "\n",
            "----------------------LR Scores----------------------\n",
            "Training set score: 0.8024064256008128\n",
            "Training precision: 0.11493573644556064\n",
            "Training recall: 0.7695351137487636\n",
            "\n",
            "Test set score: 0.7951428571428572\n",
            "Test precision: 0.1015625\n",
            "Test recall: 0.7428571428571429\n",
            "\n",
            "----------------------LR Scores----------------------\n",
            "Training set score: 1.0\n",
            "Training precision: 1.0\n",
            "Training recall: 1.0\n",
            "\n",
            "Test set score: 0.9614285714285714\n",
            "Test precision: 0.3170731707317073\n",
            "Test recall: 0.24761904761904763\n",
            "\n",
            "----------------------LR Scores----------------------\n",
            "Training set score: 0.9579669195847488\n",
            "Training precision: 0.4281780633318036\n",
            "Training recall: 0.9228486646884273\n",
            "\n",
            "Test set score: 0.926\n",
            "Test precision: 0.19117647058823528\n",
            "Test recall: 0.45396825396825397\n"
          ],
          "name": "stdout"
        }
      ]
    },
    {
      "cell_type": "code",
      "metadata": {
        "id": "IrkmPWpqUEkb",
        "colab_type": "code",
        "outputId": "d10d990e-3082-45a4-d4ec-3ed247b597a5",
        "colab": {
          "base_uri": "https://localhost:8080/",
          "height": 111
        }
      },
      "source": [
        "# Training set\n",
        "conf_matrix(y_trn, pn_lr)"
      ],
      "execution_count": 0,
      "outputs": [
        {
          "output_type": "execute_result",
          "data": {
            "text/html": [
              "<div>\n",
              "<style scoped>\n",
              "    .dataframe tbody tr th:only-of-type {\n",
              "        vertical-align: middle;\n",
              "    }\n",
              "\n",
              "    .dataframe tbody tr th {\n",
              "        vertical-align: top;\n",
              "    }\n",
              "\n",
              "    .dataframe thead th {\n",
              "        text-align: right;\n",
              "    }\n",
              "</style>\n",
              "<table border=\"1\" class=\"dataframe\">\n",
              "  <thead>\n",
              "    <tr style=\"text-align: right;\">\n",
              "      <th></th>\n",
              "      <th>Predicted_0</th>\n",
              "      <th>Predicted_1</th>\n",
              "    </tr>\n",
              "  </thead>\n",
              "  <tbody>\n",
              "    <tr>\n",
              "      <th>Actual_0</th>\n",
              "      <td>24497</td>\n",
              "      <td>5991</td>\n",
              "    </tr>\n",
              "    <tr>\n",
              "      <th>Actual_1</th>\n",
              "      <td>233</td>\n",
              "      <td>778</td>\n",
              "    </tr>\n",
              "  </tbody>\n",
              "</table>\n",
              "</div>"
            ],
            "text/plain": [
              "          Predicted_0  Predicted_1\n",
              "Actual_0        24497         5991\n",
              "Actual_1          233          778"
            ]
          },
          "metadata": {
            "tags": []
          },
          "execution_count": 37
        }
      ]
    },
    {
      "cell_type": "code",
      "metadata": {
        "id": "ztO_ywj3UKCL",
        "colab_type": "code",
        "outputId": "ac4004b8-fd02-49b5-bf75-bef20646e679",
        "colab": {
          "base_uri": "https://localhost:8080/",
          "height": 111
        }
      },
      "source": [
        "# Test set\n",
        "conf_matrix(y_tst, pt_lr)"
      ],
      "execution_count": 0,
      "outputs": [
        {
          "output_type": "execute_result",
          "data": {
            "text/html": [
              "<div>\n",
              "<style scoped>\n",
              "    .dataframe tbody tr th:only-of-type {\n",
              "        vertical-align: middle;\n",
              "    }\n",
              "\n",
              "    .dataframe tbody tr th {\n",
              "        vertical-align: top;\n",
              "    }\n",
              "\n",
              "    .dataframe thead th {\n",
              "        text-align: right;\n",
              "    }\n",
              "</style>\n",
              "<table border=\"1\" class=\"dataframe\">\n",
              "  <thead>\n",
              "    <tr style=\"text-align: right;\">\n",
              "      <th></th>\n",
              "      <th>Predicted_0</th>\n",
              "      <th>Predicted_1</th>\n",
              "    </tr>\n",
              "  </thead>\n",
              "  <tbody>\n",
              "    <tr>\n",
              "      <th>Actual_0</th>\n",
              "      <td>8115</td>\n",
              "      <td>2070</td>\n",
              "    </tr>\n",
              "    <tr>\n",
              "      <th>Actual_1</th>\n",
              "      <td>81</td>\n",
              "      <td>234</td>\n",
              "    </tr>\n",
              "  </tbody>\n",
              "</table>\n",
              "</div>"
            ],
            "text/plain": [
              "          Predicted_0  Predicted_1\n",
              "Actual_0         8115         2070\n",
              "Actual_1           81          234"
            ]
          },
          "metadata": {
            "tags": []
          },
          "execution_count": 38
        }
      ]
    },
    {
      "cell_type": "code",
      "metadata": {
        "id": "6mCWMVAGUMOC",
        "colab_type": "code",
        "outputId": "e589a9c3-c4e1-4229-81c7-98dd022995ff",
        "colab": {
          "base_uri": "https://localhost:8080/",
          "height": 111
        }
      },
      "source": [
        "# Training set\n",
        "conf_matrix(y_trn, pn_rf)"
      ],
      "execution_count": 0,
      "outputs": [
        {
          "output_type": "execute_result",
          "data": {
            "text/html": [
              "<div>\n",
              "<style scoped>\n",
              "    .dataframe tbody tr th:only-of-type {\n",
              "        vertical-align: middle;\n",
              "    }\n",
              "\n",
              "    .dataframe tbody tr th {\n",
              "        vertical-align: top;\n",
              "    }\n",
              "\n",
              "    .dataframe thead th {\n",
              "        text-align: right;\n",
              "    }\n",
              "</style>\n",
              "<table border=\"1\" class=\"dataframe\">\n",
              "  <thead>\n",
              "    <tr style=\"text-align: right;\">\n",
              "      <th></th>\n",
              "      <th>Predicted_0</th>\n",
              "      <th>Predicted_1</th>\n",
              "    </tr>\n",
              "  </thead>\n",
              "  <tbody>\n",
              "    <tr>\n",
              "      <th>Actual_0</th>\n",
              "      <td>30488</td>\n",
              "      <td>0</td>\n",
              "    </tr>\n",
              "    <tr>\n",
              "      <th>Actual_1</th>\n",
              "      <td>0</td>\n",
              "      <td>1011</td>\n",
              "    </tr>\n",
              "  </tbody>\n",
              "</table>\n",
              "</div>"
            ],
            "text/plain": [
              "          Predicted_0  Predicted_1\n",
              "Actual_0        30488            0\n",
              "Actual_1            0         1011"
            ]
          },
          "metadata": {
            "tags": []
          },
          "execution_count": 39
        }
      ]
    },
    {
      "cell_type": "code",
      "metadata": {
        "id": "hz1g2rXVUN_I",
        "colab_type": "code",
        "outputId": "36464a33-fa51-4dea-f933-286531ed645c",
        "colab": {
          "base_uri": "https://localhost:8080/",
          "height": 111
        }
      },
      "source": [
        "# Test set\n",
        "conf_matrix(y_tst, pt_rf)"
      ],
      "execution_count": 0,
      "outputs": [
        {
          "output_type": "execute_result",
          "data": {
            "text/html": [
              "<div>\n",
              "<style scoped>\n",
              "    .dataframe tbody tr th:only-of-type {\n",
              "        vertical-align: middle;\n",
              "    }\n",
              "\n",
              "    .dataframe tbody tr th {\n",
              "        vertical-align: top;\n",
              "    }\n",
              "\n",
              "    .dataframe thead th {\n",
              "        text-align: right;\n",
              "    }\n",
              "</style>\n",
              "<table border=\"1\" class=\"dataframe\">\n",
              "  <thead>\n",
              "    <tr style=\"text-align: right;\">\n",
              "      <th></th>\n",
              "      <th>Predicted_0</th>\n",
              "      <th>Predicted_1</th>\n",
              "    </tr>\n",
              "  </thead>\n",
              "  <tbody>\n",
              "    <tr>\n",
              "      <th>Actual_0</th>\n",
              "      <td>10017</td>\n",
              "      <td>168</td>\n",
              "    </tr>\n",
              "    <tr>\n",
              "      <th>Actual_1</th>\n",
              "      <td>237</td>\n",
              "      <td>78</td>\n",
              "    </tr>\n",
              "  </tbody>\n",
              "</table>\n",
              "</div>"
            ],
            "text/plain": [
              "          Predicted_0  Predicted_1\n",
              "Actual_0        10017          168\n",
              "Actual_1          237           78"
            ]
          },
          "metadata": {
            "tags": []
          },
          "execution_count": 40
        }
      ]
    },
    {
      "cell_type": "code",
      "metadata": {
        "id": "LdjIXOVFUQAj",
        "colab_type": "code",
        "outputId": "24273408-4df3-4483-919b-52dc016b2108",
        "colab": {
          "base_uri": "https://localhost:8080/",
          "height": 111
        }
      },
      "source": [
        "# Training set\n",
        "conf_matrix(y_trn, pn_lb)"
      ],
      "execution_count": 0,
      "outputs": [
        {
          "output_type": "execute_result",
          "data": {
            "text/html": [
              "<div>\n",
              "<style scoped>\n",
              "    .dataframe tbody tr th:only-of-type {\n",
              "        vertical-align: middle;\n",
              "    }\n",
              "\n",
              "    .dataframe tbody tr th {\n",
              "        vertical-align: top;\n",
              "    }\n",
              "\n",
              "    .dataframe thead th {\n",
              "        text-align: right;\n",
              "    }\n",
              "</style>\n",
              "<table border=\"1\" class=\"dataframe\">\n",
              "  <thead>\n",
              "    <tr style=\"text-align: right;\">\n",
              "      <th></th>\n",
              "      <th>Predicted_0</th>\n",
              "      <th>Predicted_1</th>\n",
              "    </tr>\n",
              "  </thead>\n",
              "  <tbody>\n",
              "    <tr>\n",
              "      <th>Actual_0</th>\n",
              "      <td>29242</td>\n",
              "      <td>1246</td>\n",
              "    </tr>\n",
              "    <tr>\n",
              "      <th>Actual_1</th>\n",
              "      <td>78</td>\n",
              "      <td>933</td>\n",
              "    </tr>\n",
              "  </tbody>\n",
              "</table>\n",
              "</div>"
            ],
            "text/plain": [
              "          Predicted_0  Predicted_1\n",
              "Actual_0        29242         1246\n",
              "Actual_1           78          933"
            ]
          },
          "metadata": {
            "tags": []
          },
          "execution_count": 41
        }
      ]
    },
    {
      "cell_type": "code",
      "metadata": {
        "id": "nkcO6badUSwQ",
        "colab_type": "code",
        "outputId": "d108ba96-1c96-4283-ced1-6dedf6ec69ee",
        "colab": {
          "base_uri": "https://localhost:8080/",
          "height": 111
        }
      },
      "source": [
        "# Test set\n",
        "conf_matrix(y_tst, pt_lb)"
      ],
      "execution_count": 0,
      "outputs": [
        {
          "output_type": "execute_result",
          "data": {
            "text/html": [
              "<div>\n",
              "<style scoped>\n",
              "    .dataframe tbody tr th:only-of-type {\n",
              "        vertical-align: middle;\n",
              "    }\n",
              "\n",
              "    .dataframe tbody tr th {\n",
              "        vertical-align: top;\n",
              "    }\n",
              "\n",
              "    .dataframe thead th {\n",
              "        text-align: right;\n",
              "    }\n",
              "</style>\n",
              "<table border=\"1\" class=\"dataframe\">\n",
              "  <thead>\n",
              "    <tr style=\"text-align: right;\">\n",
              "      <th></th>\n",
              "      <th>Predicted_0</th>\n",
              "      <th>Predicted_1</th>\n",
              "    </tr>\n",
              "  </thead>\n",
              "  <tbody>\n",
              "    <tr>\n",
              "      <th>Actual_0</th>\n",
              "      <td>9580</td>\n",
              "      <td>605</td>\n",
              "    </tr>\n",
              "    <tr>\n",
              "      <th>Actual_1</th>\n",
              "      <td>172</td>\n",
              "      <td>143</td>\n",
              "    </tr>\n",
              "  </tbody>\n",
              "</table>\n",
              "</div>"
            ],
            "text/plain": [
              "          Predicted_0  Predicted_1\n",
              "Actual_0         9580          605\n",
              "Actual_1          172          143"
            ]
          },
          "metadata": {
            "tags": []
          },
          "execution_count": 42
        }
      ]
    },
    {
      "cell_type": "code",
      "metadata": {
        "id": "UIsHbfF6J4io",
        "colab_type": "code",
        "colab": {}
      },
      "source": [
        ""
      ],
      "execution_count": 0,
      "outputs": []
    },
    {
      "cell_type": "markdown",
      "metadata": {
        "id": "_AWa5VvJjlGo",
        "colab_type": "text"
      },
      "source": [
        "### Adding Features\n",
        "\n",
        "At this point, recall of positive instances is more important than overall model accuracy.\n",
        "\n",
        "Logistic Regression, with a recall score of .743, easily outperformed other models.  Additionally, it generalizes well when compared to its training scores.  Given how distinct the advantage Logistic Regression has over other models, in both overfitting and recall, it will likely be the selected model for this task.  \n",
        "\n",
        "The next model will evaluate the use of vectorized full text, vectorized context, and the addition of other engineered features."
      ]
    },
    {
      "cell_type": "code",
      "metadata": {
        "id": "MAl3wBBjmA-U",
        "colab_type": "code",
        "colab": {}
      },
      "source": [
        "sc = StandardScaler()\n",
        "F = pd.DataFrame()\n",
        "\n",
        "F['txt_wds'] = df['text_words']\n",
        "F['txt_syl'] = df['text_syllables']\n",
        "F['snt_rat'] = df['text_sentiment_words'] / df['text_words']\n",
        "F['txt_pct'] = df['text_punctuation']\n",
        "F['txt_nns'] = df['text_nouns']\n",
        "F['txt_phs'] = df['text_phrases']\n",
        "F['tpc_sim'] = df['context_similarity']\n",
        "F['exp_sim'] = df['expanded_similarity']\n",
        "F['subj_sc'] = df['subjectivity_score']"
      ],
      "execution_count": 0,
      "outputs": []
    },
    {
      "cell_type": "code",
      "metadata": {
        "id": "zkah-EBsjkoL",
        "colab_type": "code",
        "colab": {}
      },
      "source": [
        "sc_F = sc.fit_transform(F)\n",
        "\n",
        "sc_F = pd.DataFrame(sc_F)"
      ],
      "execution_count": 0,
      "outputs": []
    },
    {
      "cell_type": "code",
      "metadata": {
        "id": "uEOQte7Vmsbj",
        "colab_type": "code",
        "colab": {}
      },
      "source": [
        "X = pd.concat([X, sc_F], axis=1)"
      ],
      "execution_count": 0,
      "outputs": []
    },
    {
      "cell_type": "code",
      "metadata": {
        "id": "9FBuKFSFm2V7",
        "colab_type": "code",
        "colab": {}
      },
      "source": [
        "X_trn, X_tst = X.iloc[X_trn.index], X.iloc[X_tst.index]\n",
        "\n",
        "X_res, y_res = sm.fit_resample(X_trn, y_trn)"
      ],
      "execution_count": 0,
      "outputs": []
    },
    {
      "cell_type": "code",
      "metadata": {
        "colab_type": "code",
        "outputId": "09fff844-1ea4-45e7-e5f0-e523dab5f139",
        "id": "1VG_DFn9jjNl",
        "colab": {
          "base_uri": "https://localhost:8080/",
          "height": 476
        }
      },
      "source": [
        "lr = LogisticRegression()\n",
        "rf = RandomForestClassifier()\n",
        "lb = lgb.LGBMClassifier()\n",
        "\n",
        "lr.fit(X_res, y_res)\n",
        "rf.fit(X_res, y_res)\n",
        "lb.fit(X_res, y_res)\n",
        "\n",
        "pn_lr = lr.predict(X_trn)\n",
        "pt_lr = lr.predict(X_tst)\n",
        "pn_rf = rf.predict(X_trn)\n",
        "pt_rf = rf.predict(X_tst)\n",
        "pn_lb = lb.predict(X_trn)\n",
        "pt_lb = lb.predict(X_tst)\n",
        "\n",
        "print(\"\\n----------------------LR Scores----------------------\")\n",
        "print('Training set score:', lr.score(X_trn, y_trn))\n",
        "print('Training precision:', precision_score(y_trn, pn_lr))\n",
        "print('Training recall:', recall_score(y_trn, pn_lr))\n",
        "print('\\nTest set score:', lr.score(X_tst, y_tst))\n",
        "print('Test precision:', precision_score(y_tst, pt_lr))\n",
        "print('Test recall:', recall_score(y_tst, pt_lr))\n",
        "print(\"\\n----------------------RF Scores----------------------\")\n",
        "print('Training set score:', rf.score(X_trn, y_trn))\n",
        "print('Training precision:', precision_score(y_trn, pn_rf))\n",
        "print('Training recall:', recall_score(y_trn, pn_rf))\n",
        "print('\\nTest set score:', rf.score(X_tst, y_tst))\n",
        "print('Test precision:', precision_score(y_tst, pt_rf))\n",
        "print('Test recall:', recall_score(y_tst, pt_rf))\n",
        "print(\"\\n----------------------LB Scores----------------------\")\n",
        "print('Training set score:', lb.score(X_trn, y_trn))\n",
        "print('Training precision:', precision_score(y_trn, pn_lb))\n",
        "print('Training recall:', recall_score(y_trn, pn_lb))\n",
        "print('\\nTest set score:', lb.score(X_tst, y_tst))\n",
        "print('Test precision:', precision_score(y_tst, pt_lb))\n",
        "print('Test recall:', recall_score(y_tst, pt_lb))"
      ],
      "execution_count": 0,
      "outputs": [
        {
          "output_type": "stream",
          "text": [
            "\n",
            "----------------------LR Scores----------------------\n",
            "Training set score: 0.8056128765992571\n",
            "Training precision: 0.1221170904790065\n",
            "Training recall: 0.8170128585558852\n",
            "\n",
            "Test set score: 0.8044761904761905\n",
            "Test precision: 0.1099640933572711\n",
            "Test recall: 0.7777777777777778\n",
            "\n",
            "----------------------RF Scores----------------------\n",
            "Training set score: 1.0\n",
            "Training precision: 1.0\n",
            "Training recall: 1.0\n",
            "\n",
            "Test set score: 0.9664761904761905\n",
            "Test precision: 0.39664804469273746\n",
            "Test recall: 0.2253968253968254\n",
            "\n",
            "----------------------LB Scores----------------------\n",
            "Training set score: 0.9827931045430014\n",
            "Training precision: 0.7994891443167306\n",
            "Training recall: 0.619188921859545\n",
            "\n",
            "Test set score: 0.9661904761904762\n",
            "Test precision: 0.38372093023255816\n",
            "Test recall: 0.20952380952380953\n"
          ],
          "name": "stdout"
        }
      ]
    },
    {
      "cell_type": "code",
      "metadata": {
        "colab_type": "code",
        "outputId": "dbd91954-59cf-4f9d-f962-dd0a97abb644",
        "id": "sjkCuMgEjjNr",
        "colab": {
          "base_uri": "https://localhost:8080/",
          "height": 111
        }
      },
      "source": [
        "# Training set\n",
        "conf_matrix(y_trn, pn_lr)"
      ],
      "execution_count": 0,
      "outputs": [
        {
          "output_type": "execute_result",
          "data": {
            "text/html": [
              "<div>\n",
              "<style scoped>\n",
              "    .dataframe tbody tr th:only-of-type {\n",
              "        vertical-align: middle;\n",
              "    }\n",
              "\n",
              "    .dataframe tbody tr th {\n",
              "        vertical-align: top;\n",
              "    }\n",
              "\n",
              "    .dataframe thead th {\n",
              "        text-align: right;\n",
              "    }\n",
              "</style>\n",
              "<table border=\"1\" class=\"dataframe\">\n",
              "  <thead>\n",
              "    <tr style=\"text-align: right;\">\n",
              "      <th></th>\n",
              "      <th>Predicted_0</th>\n",
              "      <th>Predicted_1</th>\n",
              "    </tr>\n",
              "  </thead>\n",
              "  <tbody>\n",
              "    <tr>\n",
              "      <th>Actual_0</th>\n",
              "      <td>24550</td>\n",
              "      <td>5938</td>\n",
              "    </tr>\n",
              "    <tr>\n",
              "      <th>Actual_1</th>\n",
              "      <td>185</td>\n",
              "      <td>826</td>\n",
              "    </tr>\n",
              "  </tbody>\n",
              "</table>\n",
              "</div>"
            ],
            "text/plain": [
              "          Predicted_0  Predicted_1\n",
              "Actual_0        24550         5938\n",
              "Actual_1          185          826"
            ]
          },
          "metadata": {
            "tags": []
          },
          "execution_count": 48
        }
      ]
    },
    {
      "cell_type": "code",
      "metadata": {
        "colab_type": "code",
        "outputId": "506d25ba-ab06-4b70-80ca-6013e8eb9390",
        "id": "LgcqJHtujjNu",
        "colab": {
          "base_uri": "https://localhost:8080/",
          "height": 111
        }
      },
      "source": [
        "# Test set\n",
        "conf_matrix(y_tst, pt_lr)"
      ],
      "execution_count": 0,
      "outputs": [
        {
          "output_type": "execute_result",
          "data": {
            "text/html": [
              "<div>\n",
              "<style scoped>\n",
              "    .dataframe tbody tr th:only-of-type {\n",
              "        vertical-align: middle;\n",
              "    }\n",
              "\n",
              "    .dataframe tbody tr th {\n",
              "        vertical-align: top;\n",
              "    }\n",
              "\n",
              "    .dataframe thead th {\n",
              "        text-align: right;\n",
              "    }\n",
              "</style>\n",
              "<table border=\"1\" class=\"dataframe\">\n",
              "  <thead>\n",
              "    <tr style=\"text-align: right;\">\n",
              "      <th></th>\n",
              "      <th>Predicted_0</th>\n",
              "      <th>Predicted_1</th>\n",
              "    </tr>\n",
              "  </thead>\n",
              "  <tbody>\n",
              "    <tr>\n",
              "      <th>Actual_0</th>\n",
              "      <td>8202</td>\n",
              "      <td>1983</td>\n",
              "    </tr>\n",
              "    <tr>\n",
              "      <th>Actual_1</th>\n",
              "      <td>70</td>\n",
              "      <td>245</td>\n",
              "    </tr>\n",
              "  </tbody>\n",
              "</table>\n",
              "</div>"
            ],
            "text/plain": [
              "          Predicted_0  Predicted_1\n",
              "Actual_0         8202         1983\n",
              "Actual_1           70          245"
            ]
          },
          "metadata": {
            "tags": []
          },
          "execution_count": 49
        }
      ]
    },
    {
      "cell_type": "code",
      "metadata": {
        "colab_type": "code",
        "outputId": "f3d7308f-41ff-4584-f943-41f8219e3fa7",
        "id": "zY7vgJzUjjNy",
        "colab": {
          "base_uri": "https://localhost:8080/",
          "height": 111
        }
      },
      "source": [
        "# Training set\n",
        "conf_matrix(y_trn, pn_rf)"
      ],
      "execution_count": 0,
      "outputs": [
        {
          "output_type": "execute_result",
          "data": {
            "text/html": [
              "<div>\n",
              "<style scoped>\n",
              "    .dataframe tbody tr th:only-of-type {\n",
              "        vertical-align: middle;\n",
              "    }\n",
              "\n",
              "    .dataframe tbody tr th {\n",
              "        vertical-align: top;\n",
              "    }\n",
              "\n",
              "    .dataframe thead th {\n",
              "        text-align: right;\n",
              "    }\n",
              "</style>\n",
              "<table border=\"1\" class=\"dataframe\">\n",
              "  <thead>\n",
              "    <tr style=\"text-align: right;\">\n",
              "      <th></th>\n",
              "      <th>Predicted_0</th>\n",
              "      <th>Predicted_1</th>\n",
              "    </tr>\n",
              "  </thead>\n",
              "  <tbody>\n",
              "    <tr>\n",
              "      <th>Actual_0</th>\n",
              "      <td>30488</td>\n",
              "      <td>0</td>\n",
              "    </tr>\n",
              "    <tr>\n",
              "      <th>Actual_1</th>\n",
              "      <td>0</td>\n",
              "      <td>1011</td>\n",
              "    </tr>\n",
              "  </tbody>\n",
              "</table>\n",
              "</div>"
            ],
            "text/plain": [
              "          Predicted_0  Predicted_1\n",
              "Actual_0        30488            0\n",
              "Actual_1            0         1011"
            ]
          },
          "metadata": {
            "tags": []
          },
          "execution_count": 50
        }
      ]
    },
    {
      "cell_type": "code",
      "metadata": {
        "colab_type": "code",
        "outputId": "8eccf4cd-65f2-4260-898c-bd62902ad8a9",
        "id": "tD3sl4rjjjN0",
        "colab": {
          "base_uri": "https://localhost:8080/",
          "height": 111
        }
      },
      "source": [
        "# Test set\n",
        "conf_matrix(y_tst, pt_rf)"
      ],
      "execution_count": 0,
      "outputs": [
        {
          "output_type": "execute_result",
          "data": {
            "text/html": [
              "<div>\n",
              "<style scoped>\n",
              "    .dataframe tbody tr th:only-of-type {\n",
              "        vertical-align: middle;\n",
              "    }\n",
              "\n",
              "    .dataframe tbody tr th {\n",
              "        vertical-align: top;\n",
              "    }\n",
              "\n",
              "    .dataframe thead th {\n",
              "        text-align: right;\n",
              "    }\n",
              "</style>\n",
              "<table border=\"1\" class=\"dataframe\">\n",
              "  <thead>\n",
              "    <tr style=\"text-align: right;\">\n",
              "      <th></th>\n",
              "      <th>Predicted_0</th>\n",
              "      <th>Predicted_1</th>\n",
              "    </tr>\n",
              "  </thead>\n",
              "  <tbody>\n",
              "    <tr>\n",
              "      <th>Actual_0</th>\n",
              "      <td>10077</td>\n",
              "      <td>108</td>\n",
              "    </tr>\n",
              "    <tr>\n",
              "      <th>Actual_1</th>\n",
              "      <td>244</td>\n",
              "      <td>71</td>\n",
              "    </tr>\n",
              "  </tbody>\n",
              "</table>\n",
              "</div>"
            ],
            "text/plain": [
              "          Predicted_0  Predicted_1\n",
              "Actual_0        10077          108\n",
              "Actual_1          244           71"
            ]
          },
          "metadata": {
            "tags": []
          },
          "execution_count": 51
        }
      ]
    },
    {
      "cell_type": "code",
      "metadata": {
        "colab_type": "code",
        "outputId": "8e8243c6-915d-4508-96a2-2a81610844f3",
        "id": "BWkgRmxFjjN2",
        "colab": {
          "base_uri": "https://localhost:8080/",
          "height": 111
        }
      },
      "source": [
        "# Training set\n",
        "conf_matrix(y_trn, pn_lb)"
      ],
      "execution_count": 0,
      "outputs": [
        {
          "output_type": "execute_result",
          "data": {
            "text/html": [
              "<div>\n",
              "<style scoped>\n",
              "    .dataframe tbody tr th:only-of-type {\n",
              "        vertical-align: middle;\n",
              "    }\n",
              "\n",
              "    .dataframe tbody tr th {\n",
              "        vertical-align: top;\n",
              "    }\n",
              "\n",
              "    .dataframe thead th {\n",
              "        text-align: right;\n",
              "    }\n",
              "</style>\n",
              "<table border=\"1\" class=\"dataframe\">\n",
              "  <thead>\n",
              "    <tr style=\"text-align: right;\">\n",
              "      <th></th>\n",
              "      <th>Predicted_0</th>\n",
              "      <th>Predicted_1</th>\n",
              "    </tr>\n",
              "  </thead>\n",
              "  <tbody>\n",
              "    <tr>\n",
              "      <th>Actual_0</th>\n",
              "      <td>30331</td>\n",
              "      <td>157</td>\n",
              "    </tr>\n",
              "    <tr>\n",
              "      <th>Actual_1</th>\n",
              "      <td>385</td>\n",
              "      <td>626</td>\n",
              "    </tr>\n",
              "  </tbody>\n",
              "</table>\n",
              "</div>"
            ],
            "text/plain": [
              "          Predicted_0  Predicted_1\n",
              "Actual_0        30331          157\n",
              "Actual_1          385          626"
            ]
          },
          "metadata": {
            "tags": []
          },
          "execution_count": 52
        }
      ]
    },
    {
      "cell_type": "code",
      "metadata": {
        "colab_type": "code",
        "outputId": "6fae6424-e3c7-45cc-f788-a5d47eb19fc3",
        "id": "atT8A5zBjjN6",
        "colab": {
          "base_uri": "https://localhost:8080/",
          "height": 111
        }
      },
      "source": [
        "# Test set\n",
        "conf_matrix(y_tst, pt_lb)"
      ],
      "execution_count": 0,
      "outputs": [
        {
          "output_type": "execute_result",
          "data": {
            "text/html": [
              "<div>\n",
              "<style scoped>\n",
              "    .dataframe tbody tr th:only-of-type {\n",
              "        vertical-align: middle;\n",
              "    }\n",
              "\n",
              "    .dataframe tbody tr th {\n",
              "        vertical-align: top;\n",
              "    }\n",
              "\n",
              "    .dataframe thead th {\n",
              "        text-align: right;\n",
              "    }\n",
              "</style>\n",
              "<table border=\"1\" class=\"dataframe\">\n",
              "  <thead>\n",
              "    <tr style=\"text-align: right;\">\n",
              "      <th></th>\n",
              "      <th>Predicted_0</th>\n",
              "      <th>Predicted_1</th>\n",
              "    </tr>\n",
              "  </thead>\n",
              "  <tbody>\n",
              "    <tr>\n",
              "      <th>Actual_0</th>\n",
              "      <td>10079</td>\n",
              "      <td>106</td>\n",
              "    </tr>\n",
              "    <tr>\n",
              "      <th>Actual_1</th>\n",
              "      <td>249</td>\n",
              "      <td>66</td>\n",
              "    </tr>\n",
              "  </tbody>\n",
              "</table>\n",
              "</div>"
            ],
            "text/plain": [
              "          Predicted_0  Predicted_1\n",
              "Actual_0        10079          106\n",
              "Actual_1          249           66"
            ]
          },
          "metadata": {
            "tags": []
          },
          "execution_count": 53
        }
      ]
    },
    {
      "cell_type": "markdown",
      "metadata": {
        "id": "TGf4zPGkpTfw",
        "colab_type": "text"
      },
      "source": [
        "### Tuning the LR model"
      ]
    },
    {
      "cell_type": "code",
      "metadata": {
        "id": "8lPh1pmOpVsL",
        "colab_type": "code",
        "outputId": "401340f1-37a9-4aad-de1b-f7bb9559783b",
        "colab": {
          "base_uri": "https://localhost:8080/",
          "height": 255
        }
      },
      "source": [
        "params = [{'C':[.001, .01, .1, 1, 10, 100, 1000, 1000],\n",
        "           'penalty': ['l1', 'l2']}]\n",
        "\n",
        "lr = LogisticRegression()\n",
        "\n",
        "clf = GridSearchCV(lr, param_grid=params, scoring='recall', cv=3)\n",
        "clf.fit(X_res, y_res)\n"
      ],
      "execution_count": 0,
      "outputs": [
        {
          "output_type": "execute_result",
          "data": {
            "text/plain": [
              "GridSearchCV(cv=3, error_score=nan,\n",
              "             estimator=LogisticRegression(C=1.0, class_weight=None, dual=False,\n",
              "                                          fit_intercept=True,\n",
              "                                          intercept_scaling=1, l1_ratio=None,\n",
              "                                          max_iter=100, multi_class='auto',\n",
              "                                          n_jobs=None, penalty='l2',\n",
              "                                          random_state=None, solver='lbfgs',\n",
              "                                          tol=0.0001, verbose=0,\n",
              "                                          warm_start=False),\n",
              "             iid='deprecated', n_jobs=None,\n",
              "             param_grid=[{'C': [0.001, 0.01, 0.1, 1, 10, 100, 1000, 1000],\n",
              "                          'penalty': ['l1', 'l2']}],\n",
              "             pre_dispatch='2*n_jobs', refit=True, return_train_score=False,\n",
              "             scoring='recall', verbose=0)"
            ]
          },
          "metadata": {
            "tags": []
          },
          "execution_count": 54
        }
      ]
    },
    {
      "cell_type": "code",
      "metadata": {
        "id": "oQsoXexY2uvD",
        "colab_type": "code",
        "outputId": "4c3a234b-7df1-451f-b73c-9fa8bb2c8735",
        "colab": {
          "base_uri": "https://localhost:8080/",
          "height": 102
        }
      },
      "source": [
        "clf.best_estimator_"
      ],
      "execution_count": 0,
      "outputs": [
        {
          "output_type": "execute_result",
          "data": {
            "text/plain": [
              "LogisticRegression(C=1, class_weight=None, dual=False, fit_intercept=True,\n",
              "                   intercept_scaling=1, l1_ratio=None, max_iter=100,\n",
              "                   multi_class='auto', n_jobs=None, penalty='l2',\n",
              "                   random_state=None, solver='lbfgs', tol=0.0001, verbose=0,\n",
              "                   warm_start=False)"
            ]
          },
          "metadata": {
            "tags": []
          },
          "execution_count": 55
        }
      ]
    },
    {
      "cell_type": "code",
      "metadata": {
        "id": "zu3IS3Rr2z8A",
        "colab_type": "code",
        "outputId": "7a796641-0190-406d-ac8a-43bd1ae22b8e",
        "colab": {
          "base_uri": "https://localhost:8080/",
          "height": 170
        }
      },
      "source": [
        "lr = LogisticRegression(C=1, class_weight=None, dual=False, fit_intercept=True,\n",
        "                   intercept_scaling=1, l1_ratio=None, max_iter=100,\n",
        "                   multi_class='auto', n_jobs=None, penalty='l2',\n",
        "                   random_state=None, solver='lbfgs', tol=0.0001, verbose=0,\n",
        "                   warm_start=False)\n",
        "lr.fit(X_res, y_res)\n",
        "\n",
        "pn_lr = lr.predict(X_trn)\n",
        "pt_lr = lr.predict(X_tst)\n",
        "\n",
        "print(\"\\n----------------------LR Scores----------------------\")\n",
        "print('Training set score:', lr.score(X_trn, y_trn))\n",
        "print('Training precision:', precision_score(y_trn, pn_lr))\n",
        "print('Training recall:', recall_score(y_trn, pn_lr))\n",
        "print('\\nTest set score:', lr.score(X_tst, y_tst))\n",
        "print('Test precision:', precision_score(y_tst, pt_lr))\n",
        "print('Test recall:', recall_score(y_tst, pt_lr))"
      ],
      "execution_count": 0,
      "outputs": [
        {
          "output_type": "stream",
          "text": [
            "\n",
            "----------------------LR Scores----------------------\n",
            "Training set score: 0.8056128765992571\n",
            "Training precision: 0.1221170904790065\n",
            "Training recall: 0.8170128585558852\n",
            "\n",
            "Test set score: 0.8044761904761905\n",
            "Test precision: 0.1099640933572711\n",
            "Test recall: 0.7777777777777778\n"
          ],
          "name": "stdout"
        }
      ]
    },
    {
      "cell_type": "code",
      "metadata": {
        "colab_type": "code",
        "outputId": "50c6559e-4772-4b55-929b-aca907f93e84",
        "id": "39nCHthhsZJh",
        "colab": {
          "base_uri": "https://localhost:8080/",
          "height": 111
        }
      },
      "source": [
        "# Training set\n",
        "conf_matrix(y_trn, pn_lr)"
      ],
      "execution_count": 0,
      "outputs": [
        {
          "output_type": "execute_result",
          "data": {
            "text/html": [
              "<div>\n",
              "<style scoped>\n",
              "    .dataframe tbody tr th:only-of-type {\n",
              "        vertical-align: middle;\n",
              "    }\n",
              "\n",
              "    .dataframe tbody tr th {\n",
              "        vertical-align: top;\n",
              "    }\n",
              "\n",
              "    .dataframe thead th {\n",
              "        text-align: right;\n",
              "    }\n",
              "</style>\n",
              "<table border=\"1\" class=\"dataframe\">\n",
              "  <thead>\n",
              "    <tr style=\"text-align: right;\">\n",
              "      <th></th>\n",
              "      <th>Predicted_0</th>\n",
              "      <th>Predicted_1</th>\n",
              "    </tr>\n",
              "  </thead>\n",
              "  <tbody>\n",
              "    <tr>\n",
              "      <th>Actual_0</th>\n",
              "      <td>24550</td>\n",
              "      <td>5938</td>\n",
              "    </tr>\n",
              "    <tr>\n",
              "      <th>Actual_1</th>\n",
              "      <td>185</td>\n",
              "      <td>826</td>\n",
              "    </tr>\n",
              "  </tbody>\n",
              "</table>\n",
              "</div>"
            ],
            "text/plain": [
              "          Predicted_0  Predicted_1\n",
              "Actual_0        24550         5938\n",
              "Actual_1          185          826"
            ]
          },
          "metadata": {
            "tags": []
          },
          "execution_count": 57
        }
      ]
    },
    {
      "cell_type": "code",
      "metadata": {
        "colab_type": "code",
        "outputId": "2a503544-f393-4d94-8b11-b6ad7ea8cfb5",
        "id": "54HzN8RnsZJl",
        "colab": {
          "base_uri": "https://localhost:8080/",
          "height": 111
        }
      },
      "source": [
        "# Test set\n",
        "conf_matrix(y_tst, pt_lr)"
      ],
      "execution_count": 0,
      "outputs": [
        {
          "output_type": "execute_result",
          "data": {
            "text/html": [
              "<div>\n",
              "<style scoped>\n",
              "    .dataframe tbody tr th:only-of-type {\n",
              "        vertical-align: middle;\n",
              "    }\n",
              "\n",
              "    .dataframe tbody tr th {\n",
              "        vertical-align: top;\n",
              "    }\n",
              "\n",
              "    .dataframe thead th {\n",
              "        text-align: right;\n",
              "    }\n",
              "</style>\n",
              "<table border=\"1\" class=\"dataframe\">\n",
              "  <thead>\n",
              "    <tr style=\"text-align: right;\">\n",
              "      <th></th>\n",
              "      <th>Predicted_0</th>\n",
              "      <th>Predicted_1</th>\n",
              "    </tr>\n",
              "  </thead>\n",
              "  <tbody>\n",
              "    <tr>\n",
              "      <th>Actual_0</th>\n",
              "      <td>8202</td>\n",
              "      <td>1983</td>\n",
              "    </tr>\n",
              "    <tr>\n",
              "      <th>Actual_1</th>\n",
              "      <td>70</td>\n",
              "      <td>245</td>\n",
              "    </tr>\n",
              "  </tbody>\n",
              "</table>\n",
              "</div>"
            ],
            "text/plain": [
              "          Predicted_0  Predicted_1\n",
              "Actual_0         8202         1983\n",
              "Actual_1           70          245"
            ]
          },
          "metadata": {
            "tags": []
          },
          "execution_count": 58
        }
      ]
    },
    {
      "cell_type": "code",
      "metadata": {
        "id": "8trgWJ8V_qE6",
        "colab_type": "code",
        "colab": {}
      },
      "source": [
        "scores = cross_val_score(lr, X_res, y_res, cv=5)"
      ],
      "execution_count": 0,
      "outputs": []
    },
    {
      "cell_type": "code",
      "metadata": {
        "id": "4Y-xiTpBA3dL",
        "colab_type": "code",
        "outputId": "6abb9e2f-b51d-4a9e-9d1c-461ae90fa465",
        "colab": {
          "base_uri": "https://localhost:8080/",
          "height": 34
        }
      },
      "source": [
        "print(scores)"
      ],
      "execution_count": 0,
      "outputs": [
        {
          "output_type": "stream",
          "text": [
            "[0.82732043 0.8400984  0.82542025 0.83714637 0.83583436]\n"
          ],
          "name": "stdout"
        }
      ]
    },
    {
      "cell_type": "markdown",
      "metadata": {
        "id": "esXCfNQe3J83",
        "colab_type": "text"
      },
      "source": [
        "This model will work serve as the first funnel."
      ]
    },
    {
      "cell_type": "code",
      "metadata": {
        "id": "YcO7Bw6UXshH",
        "colab_type": "code",
        "outputId": "539c2fc3-339a-4dfe-adb0-6041a76e2660",
        "colab": {
          "base_uri": "https://localhost:8080/",
          "height": 253
        }
      },
      "source": [
        "X.head()"
      ],
      "execution_count": 0,
      "outputs": [
        {
          "output_type": "execute_result",
          "data": {
            "text/html": [
              "<div>\n",
              "<style scoped>\n",
              "    .dataframe tbody tr th:only-of-type {\n",
              "        vertical-align: middle;\n",
              "    }\n",
              "\n",
              "    .dataframe tbody tr th {\n",
              "        vertical-align: top;\n",
              "    }\n",
              "\n",
              "    .dataframe thead th {\n",
              "        text-align: right;\n",
              "    }\n",
              "</style>\n",
              "<table border=\"1\" class=\"dataframe\">\n",
              "  <thead>\n",
              "    <tr style=\"text-align: right;\">\n",
              "      <th></th>\n",
              "      <th>txt_0</th>\n",
              "      <th>txt_1</th>\n",
              "      <th>txt_2</th>\n",
              "      <th>txt_3</th>\n",
              "      <th>txt_4</th>\n",
              "      <th>txt_5</th>\n",
              "      <th>txt_6</th>\n",
              "      <th>txt_7</th>\n",
              "      <th>txt_8</th>\n",
              "      <th>txt_9</th>\n",
              "      <th>txt_10</th>\n",
              "      <th>txt_11</th>\n",
              "      <th>txt_12</th>\n",
              "      <th>txt_13</th>\n",
              "      <th>txt_14</th>\n",
              "      <th>txt_15</th>\n",
              "      <th>txt_16</th>\n",
              "      <th>txt_17</th>\n",
              "      <th>txt_18</th>\n",
              "      <th>txt_19</th>\n",
              "      <th>txt_20</th>\n",
              "      <th>txt_21</th>\n",
              "      <th>txt_22</th>\n",
              "      <th>txt_23</th>\n",
              "      <th>txt_24</th>\n",
              "      <th>txt_25</th>\n",
              "      <th>txt_26</th>\n",
              "      <th>txt_27</th>\n",
              "      <th>txt_28</th>\n",
              "      <th>txt_29</th>\n",
              "      <th>txt_30</th>\n",
              "      <th>txt_31</th>\n",
              "      <th>txt_32</th>\n",
              "      <th>txt_33</th>\n",
              "      <th>txt_34</th>\n",
              "      <th>txt_35</th>\n",
              "      <th>txt_36</th>\n",
              "      <th>txt_37</th>\n",
              "      <th>txt_38</th>\n",
              "      <th>txt_39</th>\n",
              "      <th>...</th>\n",
              "      <th>cxt_269</th>\n",
              "      <th>cxt_270</th>\n",
              "      <th>cxt_271</th>\n",
              "      <th>cxt_272</th>\n",
              "      <th>cxt_273</th>\n",
              "      <th>cxt_274</th>\n",
              "      <th>cxt_275</th>\n",
              "      <th>cxt_276</th>\n",
              "      <th>cxt_277</th>\n",
              "      <th>cxt_278</th>\n",
              "      <th>cxt_279</th>\n",
              "      <th>cxt_280</th>\n",
              "      <th>cxt_281</th>\n",
              "      <th>cxt_282</th>\n",
              "      <th>cxt_283</th>\n",
              "      <th>cxt_284</th>\n",
              "      <th>cxt_285</th>\n",
              "      <th>cxt_286</th>\n",
              "      <th>cxt_287</th>\n",
              "      <th>cxt_288</th>\n",
              "      <th>cxt_289</th>\n",
              "      <th>cxt_290</th>\n",
              "      <th>cxt_291</th>\n",
              "      <th>cxt_292</th>\n",
              "      <th>cxt_293</th>\n",
              "      <th>cxt_294</th>\n",
              "      <th>cxt_295</th>\n",
              "      <th>cxt_296</th>\n",
              "      <th>cxt_297</th>\n",
              "      <th>cxt_298</th>\n",
              "      <th>cxt_299</th>\n",
              "      <th>0</th>\n",
              "      <th>1</th>\n",
              "      <th>2</th>\n",
              "      <th>3</th>\n",
              "      <th>4</th>\n",
              "      <th>5</th>\n",
              "      <th>6</th>\n",
              "      <th>7</th>\n",
              "      <th>8</th>\n",
              "    </tr>\n",
              "  </thead>\n",
              "  <tbody>\n",
              "    <tr>\n",
              "      <th>0</th>\n",
              "      <td>-0.043492</td>\n",
              "      <td>0.255405</td>\n",
              "      <td>-0.031507</td>\n",
              "      <td>-0.062282</td>\n",
              "      <td>0.063146</td>\n",
              "      <td>-0.003994</td>\n",
              "      <td>-0.055570</td>\n",
              "      <td>-0.098684</td>\n",
              "      <td>-0.005464</td>\n",
              "      <td>2.366149</td>\n",
              "      <td>-0.296168</td>\n",
              "      <td>0.114405</td>\n",
              "      <td>0.087672</td>\n",
              "      <td>0.035144</td>\n",
              "      <td>-0.041646</td>\n",
              "      <td>-0.125251</td>\n",
              "      <td>0.001274</td>\n",
              "      <td>1.161077</td>\n",
              "      <td>-0.164186</td>\n",
              "      <td>0.085831</td>\n",
              "      <td>-0.037350</td>\n",
              "      <td>-0.019712</td>\n",
              "      <td>-0.124259</td>\n",
              "      <td>-0.046066</td>\n",
              "      <td>-0.035945</td>\n",
              "      <td>-0.025597</td>\n",
              "      <td>-0.090412</td>\n",
              "      <td>0.030220</td>\n",
              "      <td>-0.018963</td>\n",
              "      <td>-0.066032</td>\n",
              "      <td>-0.014213</td>\n",
              "      <td>0.064528</td>\n",
              "      <td>-0.089806</td>\n",
              "      <td>0.122765</td>\n",
              "      <td>0.135511</td>\n",
              "      <td>-0.083966</td>\n",
              "      <td>-0.071495</td>\n",
              "      <td>-0.004060</td>\n",
              "      <td>-0.063389</td>\n",
              "      <td>-0.081253</td>\n",
              "      <td>...</td>\n",
              "      <td>-0.030397</td>\n",
              "      <td>0.57278</td>\n",
              "      <td>0.05254</td>\n",
              "      <td>-0.308745</td>\n",
              "      <td>-0.091502</td>\n",
              "      <td>0.39261</td>\n",
              "      <td>0.34084</td>\n",
              "      <td>0.683425</td>\n",
              "      <td>0.379645</td>\n",
              "      <td>0.235475</td>\n",
              "      <td>0.219738</td>\n",
              "      <td>0.43815</td>\n",
              "      <td>-0.10628</td>\n",
              "      <td>0.207547</td>\n",
              "      <td>0.38671</td>\n",
              "      <td>0.024826</td>\n",
              "      <td>-0.157651</td>\n",
              "      <td>-0.046985</td>\n",
              "      <td>0.134404</td>\n",
              "      <td>-0.242321</td>\n",
              "      <td>0.095336</td>\n",
              "      <td>-0.091245</td>\n",
              "      <td>0.57893</td>\n",
              "      <td>0.619055</td>\n",
              "      <td>0.52503</td>\n",
              "      <td>0.454925</td>\n",
              "      <td>-0.026794</td>\n",
              "      <td>0.04523</td>\n",
              "      <td>-0.15126</td>\n",
              "      <td>0.45913</td>\n",
              "      <td>-0.178115</td>\n",
              "      <td>0.787621</td>\n",
              "      <td>0.976035</td>\n",
              "      <td>0.207532</td>\n",
              "      <td>2.286923</td>\n",
              "      <td>0.900853</td>\n",
              "      <td>0.524713</td>\n",
              "      <td>-0.108448</td>\n",
              "      <td>-0.258628</td>\n",
              "      <td>-0.019056</td>\n",
              "    </tr>\n",
              "    <tr>\n",
              "      <th>1</th>\n",
              "      <td>-0.109559</td>\n",
              "      <td>0.207248</td>\n",
              "      <td>0.102608</td>\n",
              "      <td>-0.002110</td>\n",
              "      <td>0.011729</td>\n",
              "      <td>-0.042757</td>\n",
              "      <td>-0.067221</td>\n",
              "      <td>-0.044486</td>\n",
              "      <td>-0.010553</td>\n",
              "      <td>2.539694</td>\n",
              "      <td>-0.263917</td>\n",
              "      <td>0.052020</td>\n",
              "      <td>0.154395</td>\n",
              "      <td>-0.017070</td>\n",
              "      <td>-0.051339</td>\n",
              "      <td>-0.101977</td>\n",
              "      <td>0.010399</td>\n",
              "      <td>1.085244</td>\n",
              "      <td>-0.170203</td>\n",
              "      <td>0.007699</td>\n",
              "      <td>0.008053</td>\n",
              "      <td>-0.038508</td>\n",
              "      <td>-0.041094</td>\n",
              "      <td>-0.032602</td>\n",
              "      <td>0.050750</td>\n",
              "      <td>-0.029007</td>\n",
              "      <td>-0.062326</td>\n",
              "      <td>0.109653</td>\n",
              "      <td>-0.122150</td>\n",
              "      <td>0.048205</td>\n",
              "      <td>-0.060107</td>\n",
              "      <td>0.189046</td>\n",
              "      <td>0.037814</td>\n",
              "      <td>-0.037662</td>\n",
              "      <td>0.189466</td>\n",
              "      <td>-0.040528</td>\n",
              "      <td>0.032219</td>\n",
              "      <td>0.022903</td>\n",
              "      <td>-0.104137</td>\n",
              "      <td>-0.135916</td>\n",
              "      <td>...</td>\n",
              "      <td>-0.030397</td>\n",
              "      <td>0.57278</td>\n",
              "      <td>0.05254</td>\n",
              "      <td>-0.308745</td>\n",
              "      <td>-0.091502</td>\n",
              "      <td>0.39261</td>\n",
              "      <td>0.34084</td>\n",
              "      <td>0.683425</td>\n",
              "      <td>0.379645</td>\n",
              "      <td>0.235475</td>\n",
              "      <td>0.219738</td>\n",
              "      <td>0.43815</td>\n",
              "      <td>-0.10628</td>\n",
              "      <td>0.207547</td>\n",
              "      <td>0.38671</td>\n",
              "      <td>0.024826</td>\n",
              "      <td>-0.157651</td>\n",
              "      <td>-0.046985</td>\n",
              "      <td>0.134404</td>\n",
              "      <td>-0.242321</td>\n",
              "      <td>0.095336</td>\n",
              "      <td>-0.091245</td>\n",
              "      <td>0.57893</td>\n",
              "      <td>0.619055</td>\n",
              "      <td>0.52503</td>\n",
              "      <td>0.454925</td>\n",
              "      <td>-0.026794</td>\n",
              "      <td>0.04523</td>\n",
              "      <td>-0.15126</td>\n",
              "      <td>0.45913</td>\n",
              "      <td>-0.178115</td>\n",
              "      <td>-0.824576</td>\n",
              "      <td>-0.637104</td>\n",
              "      <td>-0.014273</td>\n",
              "      <td>-0.489937</td>\n",
              "      <td>-0.712199</td>\n",
              "      <td>-0.689900</td>\n",
              "      <td>0.203428</td>\n",
              "      <td>-0.188807</td>\n",
              "      <td>-1.041112</td>\n",
              "    </tr>\n",
              "    <tr>\n",
              "      <th>2</th>\n",
              "      <td>-0.112302</td>\n",
              "      <td>0.123262</td>\n",
              "      <td>0.083034</td>\n",
              "      <td>-0.025925</td>\n",
              "      <td>0.002719</td>\n",
              "      <td>-0.095401</td>\n",
              "      <td>-0.076768</td>\n",
              "      <td>0.036539</td>\n",
              "      <td>0.031233</td>\n",
              "      <td>2.420226</td>\n",
              "      <td>-0.231760</td>\n",
              "      <td>-0.010759</td>\n",
              "      <td>0.091659</td>\n",
              "      <td>-0.001610</td>\n",
              "      <td>-0.061019</td>\n",
              "      <td>-0.143259</td>\n",
              "      <td>-0.024492</td>\n",
              "      <td>0.957714</td>\n",
              "      <td>-0.172521</td>\n",
              "      <td>0.039617</td>\n",
              "      <td>-0.028506</td>\n",
              "      <td>-0.033144</td>\n",
              "      <td>0.025336</td>\n",
              "      <td>-0.048492</td>\n",
              "      <td>0.125618</td>\n",
              "      <td>-0.069546</td>\n",
              "      <td>-0.002470</td>\n",
              "      <td>0.151607</td>\n",
              "      <td>-0.083742</td>\n",
              "      <td>0.070271</td>\n",
              "      <td>-0.038452</td>\n",
              "      <td>0.292199</td>\n",
              "      <td>0.002647</td>\n",
              "      <td>-0.160415</td>\n",
              "      <td>0.203062</td>\n",
              "      <td>-0.034336</td>\n",
              "      <td>0.050418</td>\n",
              "      <td>-0.041113</td>\n",
              "      <td>-0.063184</td>\n",
              "      <td>-0.165722</td>\n",
              "      <td>...</td>\n",
              "      <td>-0.030397</td>\n",
              "      <td>0.57278</td>\n",
              "      <td>0.05254</td>\n",
              "      <td>-0.308745</td>\n",
              "      <td>-0.091502</td>\n",
              "      <td>0.39261</td>\n",
              "      <td>0.34084</td>\n",
              "      <td>0.683425</td>\n",
              "      <td>0.379645</td>\n",
              "      <td>0.235475</td>\n",
              "      <td>0.219738</td>\n",
              "      <td>0.43815</td>\n",
              "      <td>-0.10628</td>\n",
              "      <td>0.207547</td>\n",
              "      <td>0.38671</td>\n",
              "      <td>0.024826</td>\n",
              "      <td>-0.157651</td>\n",
              "      <td>-0.046985</td>\n",
              "      <td>0.134404</td>\n",
              "      <td>-0.242321</td>\n",
              "      <td>0.095336</td>\n",
              "      <td>-0.091245</td>\n",
              "      <td>0.57893</td>\n",
              "      <td>0.619055</td>\n",
              "      <td>0.52503</td>\n",
              "      <td>0.454925</td>\n",
              "      <td>-0.026794</td>\n",
              "      <td>0.04523</td>\n",
              "      <td>-0.15126</td>\n",
              "      <td>0.45913</td>\n",
              "      <td>-0.178115</td>\n",
              "      <td>-0.594262</td>\n",
              "      <td>-0.297496</td>\n",
              "      <td>0.703333</td>\n",
              "      <td>-0.489937</td>\n",
              "      <td>-0.174515</td>\n",
              "      <td>-0.516384</td>\n",
              "      <td>-0.503771</td>\n",
              "      <td>-1.519513</td>\n",
              "      <td>0.790146</td>\n",
              "    </tr>\n",
              "    <tr>\n",
              "      <th>3</th>\n",
              "      <td>-0.053385</td>\n",
              "      <td>0.214746</td>\n",
              "      <td>0.021882</td>\n",
              "      <td>0.015795</td>\n",
              "      <td>-0.019167</td>\n",
              "      <td>-0.045329</td>\n",
              "      <td>-0.057965</td>\n",
              "      <td>0.084099</td>\n",
              "      <td>0.032091</td>\n",
              "      <td>2.271004</td>\n",
              "      <td>-0.239476</td>\n",
              "      <td>0.045541</td>\n",
              "      <td>0.127291</td>\n",
              "      <td>0.108474</td>\n",
              "      <td>-0.017606</td>\n",
              "      <td>-0.054341</td>\n",
              "      <td>0.038934</td>\n",
              "      <td>1.124100</td>\n",
              "      <td>-0.146744</td>\n",
              "      <td>0.135011</td>\n",
              "      <td>-0.047707</td>\n",
              "      <td>0.024707</td>\n",
              "      <td>-0.048830</td>\n",
              "      <td>-0.061580</td>\n",
              "      <td>-0.035538</td>\n",
              "      <td>0.026508</td>\n",
              "      <td>-0.057374</td>\n",
              "      <td>0.039397</td>\n",
              "      <td>-0.038100</td>\n",
              "      <td>-0.037311</td>\n",
              "      <td>-0.100791</td>\n",
              "      <td>0.107844</td>\n",
              "      <td>-0.016423</td>\n",
              "      <td>-0.053083</td>\n",
              "      <td>0.109905</td>\n",
              "      <td>-0.058154</td>\n",
              "      <td>0.046641</td>\n",
              "      <td>-0.029522</td>\n",
              "      <td>-0.051385</td>\n",
              "      <td>-0.118465</td>\n",
              "      <td>...</td>\n",
              "      <td>-0.030397</td>\n",
              "      <td>0.57278</td>\n",
              "      <td>0.05254</td>\n",
              "      <td>-0.308745</td>\n",
              "      <td>-0.091502</td>\n",
              "      <td>0.39261</td>\n",
              "      <td>0.34084</td>\n",
              "      <td>0.683425</td>\n",
              "      <td>0.379645</td>\n",
              "      <td>0.235475</td>\n",
              "      <td>0.219738</td>\n",
              "      <td>0.43815</td>\n",
              "      <td>-0.10628</td>\n",
              "      <td>0.207547</td>\n",
              "      <td>0.38671</td>\n",
              "      <td>0.024826</td>\n",
              "      <td>-0.157651</td>\n",
              "      <td>-0.046985</td>\n",
              "      <td>0.134404</td>\n",
              "      <td>-0.242321</td>\n",
              "      <td>0.095336</td>\n",
              "      <td>-0.091245</td>\n",
              "      <td>0.57893</td>\n",
              "      <td>0.619055</td>\n",
              "      <td>0.52503</td>\n",
              "      <td>0.454925</td>\n",
              "      <td>-0.026794</td>\n",
              "      <td>0.04523</td>\n",
              "      <td>-0.15126</td>\n",
              "      <td>0.45913</td>\n",
              "      <td>-0.178115</td>\n",
              "      <td>3.167530</td>\n",
              "      <td>3.310840</td>\n",
              "      <td>0.523437</td>\n",
              "      <td>1.245600</td>\n",
              "      <td>2.245064</td>\n",
              "      <td>2.259873</td>\n",
              "      <td>0.786688</td>\n",
              "      <td>-0.413902</td>\n",
              "      <td>-2.379016</td>\n",
              "    </tr>\n",
              "    <tr>\n",
              "      <th>4</th>\n",
              "      <td>-0.018335</td>\n",
              "      <td>0.202566</td>\n",
              "      <td>0.023854</td>\n",
              "      <td>0.021207</td>\n",
              "      <td>0.018555</td>\n",
              "      <td>0.012194</td>\n",
              "      <td>-0.049137</td>\n",
              "      <td>-0.005782</td>\n",
              "      <td>-0.034290</td>\n",
              "      <td>2.005933</td>\n",
              "      <td>-0.227361</td>\n",
              "      <td>0.048698</td>\n",
              "      <td>0.150188</td>\n",
              "      <td>-0.014524</td>\n",
              "      <td>0.057379</td>\n",
              "      <td>-0.038083</td>\n",
              "      <td>-0.131232</td>\n",
              "      <td>0.898381</td>\n",
              "      <td>-0.062469</td>\n",
              "      <td>-0.040641</td>\n",
              "      <td>-0.048399</td>\n",
              "      <td>-0.122306</td>\n",
              "      <td>0.013465</td>\n",
              "      <td>0.038691</td>\n",
              "      <td>0.056038</td>\n",
              "      <td>-0.046874</td>\n",
              "      <td>0.007244</td>\n",
              "      <td>0.108148</td>\n",
              "      <td>-0.133234</td>\n",
              "      <td>0.110886</td>\n",
              "      <td>-0.031193</td>\n",
              "      <td>0.194429</td>\n",
              "      <td>0.019248</td>\n",
              "      <td>-0.083311</td>\n",
              "      <td>0.123750</td>\n",
              "      <td>-0.046843</td>\n",
              "      <td>-0.018181</td>\n",
              "      <td>-0.036381</td>\n",
              "      <td>-0.135259</td>\n",
              "      <td>0.017777</td>\n",
              "      <td>...</td>\n",
              "      <td>-0.030397</td>\n",
              "      <td>0.57278</td>\n",
              "      <td>0.05254</td>\n",
              "      <td>-0.308745</td>\n",
              "      <td>-0.091502</td>\n",
              "      <td>0.39261</td>\n",
              "      <td>0.34084</td>\n",
              "      <td>0.683425</td>\n",
              "      <td>0.379645</td>\n",
              "      <td>0.235475</td>\n",
              "      <td>0.219738</td>\n",
              "      <td>0.43815</td>\n",
              "      <td>-0.10628</td>\n",
              "      <td>0.207547</td>\n",
              "      <td>0.38671</td>\n",
              "      <td>0.024826</td>\n",
              "      <td>-0.157651</td>\n",
              "      <td>-0.046985</td>\n",
              "      <td>0.134404</td>\n",
              "      <td>-0.242321</td>\n",
              "      <td>0.095336</td>\n",
              "      <td>-0.091245</td>\n",
              "      <td>0.57893</td>\n",
              "      <td>0.619055</td>\n",
              "      <td>0.52503</td>\n",
              "      <td>0.454925</td>\n",
              "      <td>-0.026794</td>\n",
              "      <td>0.04523</td>\n",
              "      <td>-0.15126</td>\n",
              "      <td>0.45913</td>\n",
              "      <td>-0.178115</td>\n",
              "      <td>0.710849</td>\n",
              "      <td>0.848682</td>\n",
              "      <td>0.246675</td>\n",
              "      <td>0.551385</td>\n",
              "      <td>-0.174515</td>\n",
              "      <td>0.351197</td>\n",
              "      <td>-0.163275</td>\n",
              "      <td>0.129662</td>\n",
              "      <td>0.899497</td>\n",
              "    </tr>\n",
              "  </tbody>\n",
              "</table>\n",
              "<p>5 rows × 609 columns</p>\n",
              "</div>"
            ],
            "text/plain": [
              "      txt_0     txt_1     txt_2  ...         6         7         8\n",
              "0 -0.043492  0.255405 -0.031507  ... -0.108448 -0.258628 -0.019056\n",
              "1 -0.109559  0.207248  0.102608  ...  0.203428 -0.188807 -1.041112\n",
              "2 -0.112302  0.123262  0.083034  ... -0.503771 -1.519513  0.790146\n",
              "3 -0.053385  0.214746  0.021882  ...  0.786688 -0.413902 -2.379016\n",
              "4 -0.018335  0.202566  0.023854  ... -0.163275  0.129662  0.899497\n",
              "\n",
              "[5 rows x 609 columns]"
            ]
          },
          "metadata": {
            "tags": []
          },
          "execution_count": 61
        }
      ]
    },
    {
      "cell_type": "code",
      "metadata": {
        "id": "QpctSM2s3ZfR",
        "colab_type": "code",
        "colab": {}
      },
      "source": [
        "file = '/content/drive/My Drive/Colab Notebooks/Thinkful/Module 34 - Final Capstone/data/CDC Detection/funnel_1_model.sav'\n",
        "\n",
        "pickle.dump(lr, open(file, 'wb'))"
      ],
      "execution_count": 0,
      "outputs": []
    },
    {
      "cell_type": "code",
      "metadata": {
        "id": "MgZ8u2PQ6FeC",
        "colab_type": "code",
        "colab": {}
      },
      "source": [
        "save_df = pd.concat([X_tst,y_tst], axis=1)\n",
        "\n",
        "write_path = '/content/drive/My Drive/Colab Notebooks/Thinkful/Module 34 - Final Capstone/data/CDC Detection/m1_test_set.csv'\n",
        "\n",
        "save_df.to_csv(write_path)"
      ],
      "execution_count": 0,
      "outputs": []
    }
  ]
}